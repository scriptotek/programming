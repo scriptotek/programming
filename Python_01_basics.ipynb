{
 "cells": [
  {
   "cell_type": "markdown",
   "metadata": {},
   "source": [
    "# Python basics\n",
    "This notebook is based on materials kindly provided by the [IN1900]( https://www.uio.no/studier/emner/matnat/ifi/IN1900/h19/) team."
   ]
  },
  {
   "cell_type": "markdown",
   "metadata": {},
   "source": [
    "## Printing to the screen (terminal)\n",
    "In Python, you can use the function `print()` to display things on the screen.\n",
    "Put the item to be printed inside the parentheses."
   ]
  },
  {
   "cell_type": "code",
   "execution_count": null,
   "metadata": {
    "collapsed": true
   },
   "outputs": [],
   "source": [
    "print(2)"
   ]
  },
  {
   "cell_type": "markdown",
   "metadata": {},
   "source": [
    "You can print multiple items separated by commas."
   ]
  },
  {
   "cell_type": "code",
   "execution_count": null,
   "metadata": {
    "collapsed": true
   },
   "outputs": [],
   "source": [
    "print(0, 1, 2, 3, 4, 5, 6, 7, 8, 9, 10)"
   ]
  },
  {
   "cell_type": "markdown",
   "metadata": {},
   "source": [
    "If you want to print text, it must be in quotes, like below."
   ]
  },
  {
   "cell_type": "code",
   "execution_count": null,
   "metadata": {
    "collapsed": true
   },
   "outputs": [],
   "source": [
    "print(\"This message will be printed\")"
   ]
  },
  {
   "cell_type": "markdown",
   "metadata": {},
   "source": [
    "## Variables\n",
    "\n",
    "In the printing examples above, the computer \"forgets\" the information as soon as it has been printed.\n",
    "We need some way to store information in our program. This is what variables are for.\n",
    "Variables are like handles we use to retrieve information.\n",
    "\n",
    "In Python, variables can be declared as shown in the code snippet below.\n",
    "\n",
    "Note that the left side is set to be equal to the right side. Contrary to math, it is therefore \"allowed\" to, for example, set variables equal to themselves plus something, as shown below.\n",
    "\n",
    "Note that `b` does not change value when you change `a` *after* declaring `b`.\n",
    "\n",
    "**Remember that Python reads the file from the top line downwards.** Therefore, you must declare `a` before ` b` in the code snippet below."
   ]
  },
  {
   "cell_type": "code",
   "execution_count": null,
   "metadata": {
    "collapsed": true
   },
   "outputs": [],
   "source": [
    "a = 2\n",
    "print(\"1: a =\", a)\n",
    "b = a + 1\n",
    "print(\"2: b =\", b)\n",
    "a = a + 2\n",
    "print(\"3: a =\", a)\n",
    "print(\"4: b =\", b)\n"
   ]
  },
  {
   "cell_type": "markdown",
   "metadata": {},
   "source": [
    "### Variable Names\n",
    "\n",
    "Python doesn't really care which variable names you use. Variable names can contain:\n",
    "- all letters, both uppercase and lowercase, found in the **English alphabet**.\n",
    "- **underline**: _\n",
    "- numbers, but **a number cannot be the first character of the name**\n",
    "- Otherwise no other characters are allowed in variable names\n",
    "\n",
    "These rules are illustrated below, with a terribly long variable name:"
   ]
  },
  {
   "cell_type": "code",
   "execution_count": null,
   "metadata": {
    "collapsed": true
   },
   "outputs": [],
   "source": [
    "VARIABLE_NAME_with_1_2_3 = 0"
   ]
  },
  {
   "cell_type": "markdown",
   "metadata": {},
   "source": [
    "As mentioned, Python doesn’t care what variable names you use, but we humans do.\n",
    "You should create descriptive variable names to increase the readability of your code. Variable names should not be too long, but should be descriptive enough for others (or you in the future) to understand what the variable is.\n",
    "Once the variable is declared, it can be used!"
   ]
  },
  {
   "cell_type": "code",
   "execution_count": null,
   "metadata": {
    "collapsed": true
   },
   "outputs": [],
   "source": [
    "pi = 3.14\n",
    "\n",
    "print(\"pi = \", pi)"
   ]
  },
  {
   "cell_type": "markdown",
   "metadata": {},
   "source": [
    "## Variables as sticky notes\n",
    "\n",
    "Python variables are *independent* from each other.\n",
    "Let's define two variables. Alice is 20 years old, and her classmate Bob is the same age:"
   ]
  },
  {
   "cell_type": "code",
   "execution_count": null,
   "metadata": {
    "collapsed": true
   },
   "outputs": [],
   "source": [
    "alice_age = 20\n",
    "bob_age = alice_age"
   ]
  },
  {
   "cell_type": "markdown",
   "metadata": {},
   "source": [
    "Then it's Alice's birthday. Now, what's the value of bob_age?"
   ]
  },
  {
   "cell_type": "code",
   "execution_count": null,
   "metadata": {
    "collapsed": true
   },
   "outputs": [],
   "source": [
    "alice_age = 21\n",
    "print(bob_age)"
   ]
  },
  {
   "cell_type": "markdown",
   "metadata": {},
   "source": [
    "\n",
    "\n",
    "![picture of sticky notes](Alice_age.jpg)\n",
    "\n",
    "The variable bob_age is independent from alice_age, even though it was initially assigned the value from alice_age.\n",
    "This is just the way variables are defined in Python. It would be perfectly fine to have another kind of variable where the two variables are connected, but this is not how standard python variables work."
   ]
  },
  {
   "cell_type": "markdown",
   "metadata": {},
   "source": [
    "## Python as calculator \n",
    "You can do simple math like this:\n",
    "\n",
    "$\\Large{\\cdot}$ $a - b$ in Python :  `a - b`  \n",
    "$\\Large{\\cdot}$ $a \\times b$ in Python :  `a*b`  \n",
    "$\\Large{\\cdot}$ $\\frac{a}{b}$ in Python :  `a/b`  \n",
    "$\\Large{\\cdot}$ $a^b$ in Python : `a**b`  \n",
    "$\\Large{\\cdot}$ $3.2 \\times 10^7$ in Python :  `3.2e7` \n",
    "\n",
    "You’ll need to use parenthesis for larger expressions. See examples below.\n"
   ]
  },
  {
   "cell_type": "code",
   "execution_count": null,
   "metadata": {
    "collapsed": true
   },
   "outputs": [],
   "source": [
    "a = 1\n",
    "b = 2\n",
    "c = 3\n",
    "\n",
    "print(\"2 + 3/3 = \", (b + c/c))\n",
    "print(\"(2 + 3)/3 = \", ((b + c)/c))\n",
    "print(\"3/2 + 1 = \", (c/b + a))\n",
    "print(\"3/(2 + 1) = \", (c/(b + a)))"
   ]
  },
  {
   "cell_type": "markdown",
   "metadata": {},
   "source": [
    "## Exercise: understanding variables\n",
    "\n",
    "Go through the following lines of code step-by-step.\n",
    "What are the values of the different variables after each step?\n",
    "You can check your answers by executing each line in Python."
   ]
  },
  {
   "cell_type": "code",
   "execution_count": null,
   "metadata": {
    "collapsed": true
   },
   "outputs": [],
   "source": [
    "length = 100\n",
    "width = 150.5\n",
    "length = length * 2\n",
    "width = width - 45\n",
    "print(length, width)"
   ]
  },
  {
   "cell_type": "markdown",
   "metadata": {},
   "source": [
    "## Data types\n",
    "\n",
    "Variables can be of different types besides whole numbers (integers).\n",
    "We will look at some of the types in Python. You can use the function `type()`to find the type of a variable."
   ]
  },
  {
   "cell_type": "markdown",
   "metadata": {},
   "source": [
    "### Integers (whole numbers)\n",
    "\n",
    "In Python a whole number is called an *integer*, but when programming we use the abbreviation `int`."
   ]
  },
  {
   "cell_type": "code",
   "execution_count": null,
   "metadata": {
    "collapsed": true
   },
   "outputs": [],
   "source": [
    "print(type(2))"
   ]
  },
  {
   "cell_type": "markdown",
   "metadata": {},
   "source": [
    "### Float (decimal numbers)\n",
    "\n",
    "A decimal number is called a `floating point number`, but when programming it is abbreviated `float`."
   ]
  },
  {
   "cell_type": "code",
   "execution_count": null,
   "metadata": {
    "collapsed": true
   },
   "outputs": [],
   "source": [
    "print(type(1.2))"
   ]
  },
  {
   "cell_type": "markdown",
   "metadata": {},
   "source": [
    "### String (text) \n",
    "\n",
    "In Python, text is called *String*, abbreviated `str`. \n",
    "\n",
    "Did you wonder why we used quotes when printing text? If we don't quote text, python will think the string is a variable name.\n",
    "The quotes make it clear that text is *not* a variable name, but a `String`."
   ]
  },
  {
   "cell_type": "code",
   "execution_count": null,
   "metadata": {
    "collapsed": true
   },
   "outputs": [],
   "source": [
    "print(type(\"spam\"))"
   ]
  },
  {
   "cell_type": "markdown",
   "metadata": {},
   "source": [
    "Below, we try to print a string that is not enclosed in quotes.\n",
    "Therefore, python thinks that we are trying to use the variable name `spam`.\n",
    "We get an error message stating that python cannot find this variable:\n",
    "`NameError: name 'spam' is not defined`"
   ]
  },
  {
   "cell_type": "code",
   "execution_count": null,
   "metadata": {
    "collapsed": true
   },
   "outputs": [],
   "source": [
    "print(spam)"
   ]
  },
  {
   "cell_type": "markdown",
   "metadata": {},
   "source": [
    "### <span style=\"color:green\"> Quiz </span>\n",
    "\n",
    "Can you change the variables below, so that all three contains the value 2, but with different datatypes?"
   ]
  },
  {
   "cell_type": "code",
   "execution_count": null,
   "metadata": {
    "collapsed": true
   },
   "outputs": [],
   "source": [
    "int_2 = ?\n",
    "print(type(int_2))"
   ]
  },
  {
   "cell_type": "code",
   "execution_count": null,
   "metadata": {
    "collapsed": true
   },
   "outputs": [],
   "source": [
    "float_2 = ?\n",
    "print(type(float_2))"
   ]
  },
  {
   "cell_type": "code",
   "execution_count": null,
   "metadata": {
    "collapsed": true
   },
   "outputs": [],
   "source": [
    "str_2 = ?\n",
    "print(type(str_2))"
   ]
  },
  {
   "cell_type": "markdown",
   "metadata": {},
   "source": [
    "## Importing libraries/modules\n",
    "\n",
    "A module is a collection of functions that someone has written. A library is a collection of modules.\n",
    "There are innumerable python libraries available for performing diverse tasks.\n",
    "For example, Python comes with a built-in module called `math`, which contains variables and functions for doing math.\n",
    "The statement `import <module_name>`, makes the module available to use in your program.\n",
    "To use a function in the module, you write\n",
    "    \n",
    "    <module_name>.<function_name>\n",
    "    \n",
    "as demonstrated below."
   ]
  },
  {
   "cell_type": "code",
   "execution_count": null,
   "metadata": {
    "collapsed": true
   },
   "outputs": [],
   "source": [
    "import math\n",
    "a = math.exp(2)"
   ]
  },
  {
   "cell_type": "markdown",
   "metadata": {},
   "source": [
    "If you are only using a few functions from a module, you can import those functions directly.\n",
    "You do this with the from statement:\n",
    "\n",
    "    from <module_name> import <function_name_1>, <function_name_2>\n",
    "\n",
    "If you import multiple functions, separate them with a comma.\n",
    "See an example below."
   ]
  },
  {
   "cell_type": "code",
   "execution_count": null,
   "metadata": {
    "collapsed": true
   },
   "outputs": [],
   "source": [
    "from math import pi, sin\n",
    "b = sin(0.5*pi)"
   ]
  },
  {
   "cell_type": "markdown",
   "metadata": {},
   "source": [
    "## Commenting code\n",
    "\n",
    "Comments can make your code easier to understand. You can use a `#` character to start a single line comment. \n",
    "To write a comment consisting of multiple lines, you use three quotes `'''` before and after the comment."
   ]
  },
  {
   "cell_type": "code",
   "execution_count": null,
   "metadata": {},
   "outputs": [],
   "source": [
    "# This is how to make a comment on a single line\n",
    "\n",
    "a = 13   # Can be used on the right side of your code\n",
    "\n",
    "'''\n",
    "This is how to \n",
    "comment over \n",
    "\n",
    "several \n",
    "\n",
    "lines\n",
    "'''"
   ]
  },
  {
   "cell_type": "markdown",
   "metadata": {},
   "source": [
    "## Key points\n",
    "\n",
    "1. Use `variable = value` to assign a value to the variable to store it for later use\n",
    "1. Use `print(something)` to show the value of `something`.\n",
    "1. Python variables can be strings, integers or floats.\n",
    "1. Python variables are independent from each other"
   ]
  }
 ],
 "metadata": {
  "kernelspec": {
   "display_name": "Python 3",
   "language": "python",
   "name": "python3"
  },
  "language_info": {
   "codemirror_mode": {
    "name": "ipython",
    "version": 3
   },
   "file_extension": ".py",
   "mimetype": "text/x-python",
   "name": "python",
   "nbconvert_exporter": "python",
   "pygments_lexer": "ipython3",
   "version": "3.6.3"
  }
 },
 "nbformat": 4,
 "nbformat_minor": 2
}
