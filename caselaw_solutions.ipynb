{
 "cells": [
  {
   "cell_type": "markdown",
   "metadata": {},
   "source": [
    "# Fetching JSON data solutions"
   ]
  },
  {
   "cell_type": "markdown",
   "metadata": {},
   "source": [
    "## Exercise: court names"
   ]
  },
  {
   "cell_type": "code",
   "execution_count": 1,
   "metadata": {},
   "outputs": [
    {
     "name": "stdout",
     "output_type": "stream",
     "text": [
      "Case name: People v. Johnson\n",
      "Court: Illinois Appellate Court\n",
      "Case name: People v. Angarola\n",
      "Court: Illinois Appellate Court\n",
      "Case name: Village of Bensenville v. City of Chicago\n",
      "Court: Illinois Appellate Court\n"
     ]
    }
   ],
   "source": [
    "import requests\n",
    "import json\n",
    "\n",
    "URL = \"https://api.case.law/v1/cases/?jurisdiction=ill&full_case=true&decision_date_min=2009-01-01&page_size=3\"\n",
    "data = requests.get(URL).json()\n",
    "\n",
    "cases = data[\"results\"]\n",
    "for case in cases:\n",
    "    print(\"Case name:\", case[\"name_abbreviation\"])\n",
    "    #your code here\n",
    "    print(\"Court:\", case[\"court\"][\"name\"])"
   ]
  },
  {
   "cell_type": "markdown",
   "metadata": {},
   "source": [
    "## Exercise: Attorneys and head matter"
   ]
  },
  {
   "cell_type": "code",
   "execution_count": 2,
   "metadata": {},
   "outputs": [
    {
     "name": "stdout",
     "output_type": "stream",
     "text": [
      "Case name: People v. Johnson\n",
      "Head matter: THE PEOPLE OF THE STATE OF ILLINOIS, Plaintiff-Appellee, v. ANTHONY JOHNSON, Defendant-Appellant.\n",
      "Third District\n",
      "No. 3 — 07-—0255\n",
      "Opinion filed January 5, 2009.\n",
      "HOLDRIDGE, J., dissenting.\n",
      "Fletcher P. Hamill (argued), of State Appellate Defender’s Office, of Ottawa, for appellant.\n",
      "James Glasgow, State’s Attorney, of Joliet (Terry A. Mertel and Justin A. Nicolosi (argued), both of State’s Attorneys Appellate Prosecutor’s Office, of counsel), for the People.\n",
      "Attorneys: ['Fletcher P. Hamill (argued), of State Appellate Defender’s Office, of Ottawa, for appellant.', 'James Glasgow, State’s Attorney, of Joliet (Terry A. Mertel and Justin A. Nicolosi (argued), both of State’s Attorneys Appellate Prosecutor’s Office, of counsel), for the People.']\n"
     ]
    }
   ],
   "source": [
    "URL = \"https://api.case.law/v1/cases/?jurisdiction=ill&full_case=true&decision_date_min=2009-01-01&page_size=1\"\n",
    "data = requests.get(URL).json()\n",
    "\n",
    "cases = data[\"results\"]\n",
    "for case in cases:\n",
    "    print(\"Case name:\", case[\"name_abbreviation\"])\n",
    "    #your code here\n",
    "    print(\"Head matter:\", case[\"casebody\"][\"data\"][\"head_matter\"])\n",
    "    print(\"Attorneys:\", case[\"casebody\"][\"data\"][\"attorneys\"])"
   ]
  },
  {
   "cell_type": "code",
   "execution_count": null,
   "metadata": {
    "collapsed": true
   },
   "outputs": [],
   "source": []
  }
 ],
 "metadata": {
  "kernelspec": {
   "display_name": "Python 3",
   "language": "python",
   "name": "python3"
  },
  "language_info": {
   "codemirror_mode": {
    "name": "ipython",
    "version": 3
   },
   "file_extension": ".py",
   "mimetype": "text/x-python",
   "name": "python",
   "nbconvert_exporter": "python",
   "pygments_lexer": "ipython3",
   "version": "3.6.3"
  }
 },
 "nbformat": 4,
 "nbformat_minor": 2
}
