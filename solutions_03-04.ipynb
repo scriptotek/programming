{
 "cells": [
  {
   "cell_type": "markdown",
   "metadata": {},
   "source": [
    "# Fetching JSON data solutions"
   ]
  },
  {
   "cell_type": "markdown",
   "metadata": {},
   "source": [
    "## Exercise: docket number"
   ]
  },
  {
   "cell_type": "code",
   "execution_count": 1,
   "metadata": {},
   "outputs": [
    {
     "name": "stdout",
     "output_type": "stream",
     "text": [
      "Case name: Federal Insurance v. Lexington Insurance\n",
      "docket number: No. 1—09—3296\n",
      "decision date: 2011-01-03\n",
      "Case name: People v. Connolly\n",
      "docket number: No. 3—08—1027\n",
      "decision date: 2011-01-04\n",
      "Case name: Eck v. Greer\n",
      "docket number: No. 5—10—0353\n",
      "decision date: 2011-01-06\n"
     ]
    }
   ],
   "source": [
    "import requests\n",
    "import json\n",
    "\n",
    "URL = \"https://api.case.law/v1/cases/?jurisdiction=ill&full_case=true&decision_date_min=2011-01-01&page_size=3\"\n",
    "data = requests.get(URL).json()\n",
    "\n",
    "cases = data[\"results\"]\n",
    "for case in cases:\n",
    "    print(\"Case name:\", case[\"name_abbreviation\"])\n",
    "    #your code here\n",
    "    print(\"docket number:\", case[\"docket_number\"])\n",
    "    print(\"decision date:\", case[\"decision_date\"])"
   ]
  },
  {
   "cell_type": "markdown",
   "metadata": {},
   "source": [
    "## Exercise: Attorneys and head matter"
   ]
  },
  {
   "cell_type": "code",
   "execution_count": 2,
   "metadata": {
    "scrolled": true
   },
   "outputs": [
    {
     "name": "stdout",
     "output_type": "stream",
     "text": [
      "Case name: Federal Insurance v. Lexington Insurance\n",
      "Head matter: FEDERAL INSURANCE COMPANY, Plaintiff-Appellant, v. LEXINGTON INSURANCE COMPANY, Defendant-Appellee.\n",
      "First District (4th Division)\n",
      "No. 1—09—3296\n",
      "Opinion filed January 3, 2011.\n",
      "Tressler, LLP, of Chicago (Todd S. Schenk and Amber C. Coisman, of counsel), for appellant.\n",
      "Donohue Brown Mathewson & Smyth LLC, of Chicago (Norman J. Barry, Jr., Karen Kies DeGrand, and Christopher J. Rados, of counsel), for appellee.\n",
      " Attorney: Tressler, LLP, of Chicago (Todd S. Schenk and Amber C. Coisman, of counsel), for appellant.\n",
      " Attorney: Donohue Brown Mathewson & Smyth LLC, of Chicago (Norman J. Barry, Jr., Karen Kies DeGrand, and Christopher J. Rados, of counsel), for appellee.\n"
     ]
    }
   ],
   "source": [
    "URL = \"https://api.case.law/v1/cases/?jurisdiction=ill&full_case=true&decision_date_min=2011-01-01&page_size=1\"\n",
    "data = requests.get(URL).json()\n",
    "\n",
    "cases = data[\"results\"]\n",
    "for case in cases:\n",
    "    print(\"Case name:\", case[\"name_abbreviation\"])\n",
    "    #your code here\n",
    "    print(\"Head matter:\", case[\"casebody\"][\"data\"][\"head_matter\"])\n",
    "    attorneys = case[\"casebody\"][\"data\"][\"attorneys\"]\n",
    "    for attorney in attorneys:\n",
    "        print(\" Attorney:\", attorney)"
   ]
  },
  {
   "cell_type": "markdown",
   "metadata": {
    "collapsed": true
   },
   "source": [
    "## Exercise: Count dissenting opinions"
   ]
  },
  {
   "cell_type": "code",
   "execution_count": 3,
   "metadata": {},
   "outputs": [
    {
     "name": "stdout",
     "output_type": "stream",
     "text": [
      "Number of dissents: 2\n"
     ]
    }
   ],
   "source": [
    "import requests\n",
    "import json\n",
    "\n",
    "URL = \"https://api.case.law/v1/cases/?jurisdiction=ill&full_case=true&decision_date_min=2011-01-01&page_size=20\"\n",
    "data = requests.get(URL).json()\n",
    "\n",
    "dissent_count = 0\n",
    "\n",
    "cases = data[\"results\"]\n",
    "for case in cases:\n",
    "    opinions = case[\"casebody\"][\"data\"][\"opinions\"]\n",
    "    for opinion in opinions:\n",
    "        # Your code here:\n",
    "        if opinion[\"type\"] == \"dissent\":\n",
    "            dissent_count = dissent_count + 1\n",
    "\n",
    "print(\"Number of dissents:\", dissent_count)"
   ]
  },
  {
   "cell_type": "markdown",
   "metadata": {},
   "source": [
    "## Exercise: Count opinions per author"
   ]
  },
  {
   "cell_type": "code",
   "execution_count": 4,
   "metadata": {},
   "outputs": [
    {
     "name": "stdout",
     "output_type": "stream",
     "text": [
      "Number of opinions per author:\n",
      "JUSTICE EPSTEIN wrote 3 opinions\n",
      "JUSTICE GOLDENHERSH wrote 2 opinions\n",
      "JUSTICE CONNORS wrote 2 opinions\n",
      "JUSTICE HARRIS wrote 2 opinions\n",
      "PRESIDING JUSTICE GALLAGHER wrote 2 opinions\n"
     ]
    }
   ],
   "source": [
    "import requests\n",
    "import json\n",
    "\n",
    "\n",
    "URL = \"https://api.case.law/v1/cases/?jurisdiction=ill&full_case=true&decision_date_min=2011-01-01&page_size=20\"\n",
    "data = requests.get(URL).json()\n",
    "\n",
    "author2count = {}\n",
    "\n",
    "cases = data[\"results\"]\n",
    "for case in cases:\n",
    "    opinions = case[\"casebody\"][\"data\"][\"opinions\"]\n",
    "    for opinion in opinions:\n",
    "        author = opinion[\"author\"]\n",
    "        if author in author2count:\n",
    "            author2count[author] += 1\n",
    "        else:\n",
    "            author2count[author] = 1\n",
    "\n",
    "# Sorting by count\n",
    "sorted_authors = sorted(author2count, key=lambda author: author2count[author], reverse=True)\n",
    "print(\"Number of opinions per author:\")\n",
    "for author in sorted_authors[:5]:\n",
    "    count = author2count[author]\n",
    "    print(\"%s wrote %d opinions\" % (author, count))\n"
   ]
  }
 ],
 "metadata": {
  "kernelspec": {
   "display_name": "Python 3",
   "language": "python",
   "name": "python3"
  },
  "language_info": {
   "codemirror_mode": {
    "name": "ipython",
    "version": 3
   },
   "file_extension": ".py",
   "mimetype": "text/x-python",
   "name": "python",
   "nbconvert_exporter": "python",
   "pygments_lexer": "ipython3",
   "version": "3.6.3"
  }
 },
 "nbformat": 4,
 "nbformat_minor": 2
}
