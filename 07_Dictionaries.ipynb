{
 "cells": [
  {
   "cell_type": "markdown",
   "metadata": {},
   "source": [
    "This notebook is based on materials kindly provided by the [IN1900]( https://www.uio.no/studier/emner/matnat/ifi/IN1900/h19/) team.\n",
    "\n",
    "# Dictionaries \n",
    "\n",
    "Dictionaries can store many different types of data. In both Python code and JSON, dictionaries are enclosed in curly brackets: `{ }`.\n",
    "\n",
    "Like the name implies we can use dictionaries to look up information.\n",
    "Rather than numerical indexes, a dictionary assigns a *key* to each stored *value*.\n",
    "Keys are usually strings, and we can use the key to find the value."
   ]
  },
  {
   "cell_type": "code",
   "execution_count": null,
   "metadata": {
    "collapsed": true
   },
   "outputs": [],
   "source": [
    "dictionary = {}\n",
    "print(type(dictionary))"
   ]
  },
  {
   "cell_type": "markdown",
   "metadata": {},
   "source": [
    "## Creating Dictionaries\n",
    "\n",
    "We can create a new dictionary, and add some elements:"
   ]
  },
  {
   "cell_type": "code",
   "execution_count": null,
   "metadata": {
    "collapsed": true
   },
   "outputs": [],
   "source": [
    "phone_directory = {\"Alice\": 12345679, \"Bob\": 2345678}\n",
    "# Add an entry\n",
    "phone_directory[\"Charlie\"] = 456789\n",
    "\n",
    "print(phone_directory)"
   ]
  },
  {
   "cell_type": "markdown",
   "metadata": {},
   "source": [
    "## Getting Items\n",
    "\n",
    "We can get items like we do with lists. However, we dictionaries we use keys rather than numerical indexes:"
   ]
  },
  {
   "cell_type": "code",
   "execution_count": null,
   "metadata": {
    "collapsed": true
   },
   "outputs": [],
   "source": [
    "number = phone_directory[\"Alice\"]\n",
    "print(number)"
   ]
  },
  {
   "cell_type": "markdown",
   "metadata": {},
   "source": [
    "### Iterating Over Dictionaries\n",
    "\n",
    "When you iterate over dictionary, you iterate over the *keys* not the *values*."
   ]
  },
  {
   "cell_type": "code",
   "execution_count": null,
   "metadata": {
    "collapsed": true
   },
   "outputs": [],
   "source": [
    "for name in phone_directory:\n",
    "    number = phone_directory[name]\n",
    "    print(name, \"has phone number\", number)"
   ]
  },
  {
   "cell_type": "markdown",
   "metadata": {},
   "source": [
    "### Is this Key in the Dictionary?\n",
    "\n",
    "We can check for the presence of a key with the Boolean expression\n",
    "`key in dictionary`.\n",
    "\n",
    "Boolean expressions are `True` or `False`."
   ]
  },
  {
   "cell_type": "code",
   "execution_count": null,
   "metadata": {
    "collapsed": true
   },
   "outputs": [],
   "source": [
    "people = [\"Alice\", \"Bob\", \"Paul\"]\n",
    "\n",
    "for name in people:\n",
    "    if name in phone_directory:\n",
    "        print(name, \"has phone number\", phone_directory[name])\n",
    "    else:\n",
    "        print(\"No phone number for\", name)"
   ]
  },
  {
   "cell_type": "markdown",
   "metadata": {},
   "source": [
    "## Nested Dictionaries\n",
    "\n",
    "Like with nested lists, we can put dictionaries inside other dictionaries."
   ]
  },
  {
   "cell_type": "code",
   "execution_count": null,
   "metadata": {
    "collapsed": true
   },
   "outputs": [],
   "source": [
    "phone_directory = {\"Alice\": {\"phone\": 12345679,\n",
    "                             \"mobile\": 45678},\n",
    "                   \"Bob\": {\"phone\": 145679,\n",
    "                           \"mobile\": 4578}}\n",
    "for name in phone_directory:\n",
    "    numbers = phone_directory[name]\n",
    "    for device in numbers:\n",
    "        print(\"%s has %s with number %s\" % (name, device, numbers[device]))"
   ]
  },
  {
   "cell_type": "markdown",
   "metadata": {},
   "source": [
    "### <span style=\"color:green\"> Exercise: A Very Nested Dictionary </span>\n",
    "\n",
    "Index the dictionary `people` in order to print out the phone number of Alice."
   ]
  },
  {
   "cell_type": "code",
   "execution_count": null,
   "metadata": {
    "collapsed": true
   },
   "outputs": [],
   "source": [
    "people = {\"Alice\" : {\"Age\" : 37, \"number\" : phone_directory[\"Alice\"]},\n",
    "          \"Bob\" : {\"Age\" : 42, \"number\" : phone_directory[\"Bob\"]}}"
   ]
  },
  {
   "cell_type": "markdown",
   "metadata": {},
   "source": [
    "### <span style=\"color:green\"> Exercise: Count Opinions per Author </span>\n",
    "\n",
    "In the JSON case law data, each opinion has an `author` field.\n",
    "Complete the code below to count the number of opinions per author.\n",
    "\n",
    "You will need to browse the [data](https://api.case.law/v1/cases/?jurisdiction=ill&full_case=true&decision_date_min=2011-01-01&page_size=1\")."
   ]
  },
  {
   "cell_type": "code",
   "execution_count": null,
   "metadata": {
    "collapsed": true
   },
   "outputs": [],
   "source": [
    "URL = \"https://api.case.law/v1/cases/?jurisdiction=ill&full_case=true&decision_date_min=2011-01-01&page_size=20\"\n",
    "data = requests.get(URL).json()\n",
    "\n",
    "author2count = {}"
   ]
  },
  {
   "cell_type": "markdown",
   "metadata": {},
   "source": [
    "#  <span style=\"color:blue\">Key Points</span>\n",
    "\n",
    "- A dictionary links *values* to *keys*: `phone_directory[\"Alice\"]`\n",
    "- Keys are usually strings, values can be any object\n",
    "- We can iterate over dictionaries"
   ]
  }
 ],
 "metadata": {
  "kernelspec": {
   "display_name": "Python 3",
   "language": "python",
   "name": "python3"
  },
  "language_info": {
   "codemirror_mode": {
    "name": "ipython",
    "version": 3
   },
   "file_extension": ".py",
   "mimetype": "text/x-python",
   "name": "python",
   "nbconvert_exporter": "python",
   "pygments_lexer": "ipython3",
   "version": "3.6.8"
  }
 },
 "nbformat": 4,
 "nbformat_minor": 2
}
