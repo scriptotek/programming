{
 "cells": [
  {
   "cell_type": "markdown",
   "metadata": {},
   "source": [
    "# Dictionaries \n",
    "\n",
    "Dictionaries can store many different types of data. In both Python code and JSON, dictionaries are enclosed in curly brackets: `{ }`.\n",
    "\n",
    "Like the name implies we can use dictionaries to look up information.\n",
    "Rather than numerical indexes, a dictionary assigns a *key* to each stored *value*.\n",
    "Keys are usually strings, and we can use the key to find the value."
   ]
  },
  {
   "cell_type": "code",
   "execution_count": 1,
   "metadata": {},
   "outputs": [
    {
     "name": "stdout",
     "output_type": "stream",
     "text": [
      "<class 'dict'>\n"
     ]
    }
   ],
   "source": [
    "dictionary = {}\n",
    "print(type(dictionary))"
   ]
  },
  {
   "cell_type": "markdown",
   "metadata": {},
   "source": [
    "## Creating dictionaries\n",
    "\n",
    "We can create a new dictionary, and add some elements:"
   ]
  },
  {
   "cell_type": "code",
   "execution_count": 2,
   "metadata": {},
   "outputs": [
    {
     "name": "stdout",
     "output_type": "stream",
     "text": [
      "{'Alice': 12345679, 'Bob': 2345678, 'Charlie': 456789}\n"
     ]
    }
   ],
   "source": [
    "phone_directory = {\"Alice\": 12345679, \"Bob\": 2345678}\n",
    "# Add an entry\n",
    "phone_directory[\"Charlie\"] = 456789\n",
    "\n",
    "print(phone_directory)"
   ]
  },
  {
   "cell_type": "markdown",
   "metadata": {},
   "source": [
    "## Getting items\n",
    "\n",
    "We can get items like we do with lists. However, we dictionaries we use keys rather than numerical indexes:"
   ]
  },
  {
   "cell_type": "code",
   "execution_count": 3,
   "metadata": {},
   "outputs": [
    {
     "name": "stdout",
     "output_type": "stream",
     "text": [
      "12345679\n"
     ]
    }
   ],
   "source": [
    "number = phone_directory[\"Alice\"]\n",
    "print(number)"
   ]
  },
  {
   "cell_type": "markdown",
   "metadata": {},
   "source": [
    "### Iterating over dictionaries\n",
    "\n",
    "When you iterate over dictionary, you iterate over the *keys* not the *values*."
   ]
  },
  {
   "cell_type": "code",
   "execution_count": 4,
   "metadata": {},
   "outputs": [
    {
     "name": "stdout",
     "output_type": "stream",
     "text": [
      "Alice has phone number 12345679\n",
      "Bob has phone number 2345678\n",
      "Charlie has phone number 456789\n"
     ]
    }
   ],
   "source": [
    "for name in phone_directory:\n",
    "    number = phone_directory[name]\n",
    "    print(name, \"has phone number\", number)\n",
    "#     print(\"%s has phone number %s\" % (name, number))"
   ]
  },
  {
   "cell_type": "markdown",
   "metadata": {},
   "source": [
    "### Is the key in a dictionary?\n",
    "\n",
    "We can check for the presence of a key with the Boolean expression\n",
    "`key in dictionary`.\n",
    "\n",
    "Boolean expressions are `True` or `False`."
   ]
  },
  {
   "cell_type": "code",
   "execution_count": 5,
   "metadata": {},
   "outputs": [
    {
     "name": "stdout",
     "output_type": "stream",
     "text": [
      "Alice has phone number 12345679\n",
      "Bob has phone number 2345678\n",
      "No phone number for Paul\n"
     ]
    }
   ],
   "source": [
    "people = [\"Alice\", \"Bob\", \"Paul\"]\n",
    "\n",
    "for name in people:\n",
    "    if name in phone_directory:\n",
    "        print(name, \"has phone number\", phone_directory[name])\n",
    "    else:\n",
    "        print(\"No phone number for\", name)"
   ]
  },
  {
   "cell_type": "markdown",
   "metadata": {},
   "source": [
    "## Nested dictionaries\n",
    "\n",
    "Like with nested lists, we can put dictionaries inside other dictionaries."
   ]
  },
  {
   "cell_type": "code",
   "execution_count": 6,
   "metadata": {},
   "outputs": [
    {
     "name": "stdout",
     "output_type": "stream",
     "text": [
      "Alice has phone with number 12345679\n",
      "Alice has mobile with number 45678\n",
      "Bob has phone with number 145679\n",
      "Bob has mobile with number 4578\n"
     ]
    }
   ],
   "source": [
    "phone_directory = {\"Alice\": {\"phone\": 12345679,\n",
    "                             \"mobile\": 45678},\n",
    "                   \"Bob\": {\"phone\": 145679,\n",
    "                           \"mobile\": 4578}}\n",
    "for name in phone_directory:\n",
    "    numbers = phone_directory[name]\n",
    "    for device in numbers:\n",
    "        print(\"%s has %s with number %s\" % (name, device, numbers[device]))"
   ]
  }
 ],
 "metadata": {
  "kernelspec": {
   "display_name": "Python 3",
   "language": "python",
   "name": "python3"
  },
  "language_info": {
   "codemirror_mode": {
    "name": "ipython",
    "version": 3
   },
   "file_extension": ".py",
   "mimetype": "text/x-python",
   "name": "python",
   "nbconvert_exporter": "python",
   "pygments_lexer": "ipython3",
   "version": "3.6.3"
  }
 },
 "nbformat": 4,
 "nbformat_minor": 2
}
