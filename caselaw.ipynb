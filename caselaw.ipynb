{
 "cells": [
  {
   "cell_type": "markdown",
   "metadata": {},
   "source": [
    "# Working with JSON data from a server\n",
    "In this lesson, we look at how we can use data from the web.\n",
    "We will use data from Harvard’s [Caselaw Access Project](https://case.law/) (\"CAP\").\n",
    "CAP aims to make all published US courts decisions freely available in a standard, machine-readable format.\n",
    "CAP and the data format is [documented here](https://case.law/api/).\n",
    "\n",
    "## Fetching data\n",
    "To fetch data from the web, we must first import a few libraries:"
   ]
  },
  {
   "cell_type": "code",
   "execution_count": 1,
   "metadata": {
    "collapsed": true
   },
   "outputs": [],
   "source": [
    "import requests\n",
    "import json"
   ]
  },
  {
   "cell_type": "markdown",
   "metadata": {},
   "source": [
    "We need to specify the URL to the data we want to fetch."
   ]
  },
  {
   "cell_type": "code",
   "execution_count": 2,
   "metadata": {
    "collapsed": true
   },
   "outputs": [],
   "source": [
    "URL = \"https://api.case.law/v1/cases/?jurisdiction=ill&full_case=true&decision_date_min=2009-01-01&page_size=3\""
   ]
  },
  {
   "cell_type": "markdown",
   "metadata": {},
   "source": [
    "We include some parameters that specifies which cases we want to load:\n",
    "- `page_size` is the number of items\n",
    "- `jurisdiction` is Illinois in this example\n",
    "- `decision_date_min` is the minimum date, we only want decisions later than this date\n",
    "- `full_case` include the full text of each case\n",
    "\n",
    "More parameters are listed in the CAP documentation linked above."
   ]
  },
  {
   "cell_type": "markdown",
   "metadata": {},
   "source": [
    "Now, let's fetch the data."
   ]
  },
  {
   "cell_type": "code",
   "execution_count": 3,
   "metadata": {},
   "outputs": [],
   "source": [
    "data = requests.get(URL).json()"
   ]
  },
  {
   "cell_type": "markdown",
   "metadata": {},
   "source": [
    "This step both fetches and decodes the json data in one line. We can also do this step-by-step, to see how the process works.\n",
    "If you don't want to get into the details at this point, you can skip ahead to the section \"Using the data\". \n",
    "The server response also contains metadata, but we want the content:"
   ]
  },
  {
   "cell_type": "code",
   "execution_count": 4,
   "metadata": {},
   "outputs": [],
   "source": [
    "response = requests.get(URL)\n",
    "content = response.content"
   ]
  },
  {
   "cell_type": "markdown",
   "metadata": {},
   "source": [
    "We can look at the first 100 characters from the raw data. We can see the same data if we open the URL in a web browser:\n",
    "https://api.case.law/v1/cases/?jurisdiction=ill&full_case=true&decision_date_min=2009-01-01&page_size=3"
   ]
  },
  {
   "cell_type": "code",
   "execution_count": 5,
   "metadata": {},
   "outputs": [
    {
     "name": "stdout",
     "output_type": "stream",
     "text": [
      "b'{\"count\":2025,\"next\":\"https://api.case.law/v1/cases/?cursor=eyJwIjogWzAuMCwgMTIzMTI4NjQwMDAwMCwgNDI4'\n"
     ]
    }
   ],
   "source": [
    "print(content[:100])"
   ]
  },
  {
   "cell_type": "markdown",
   "metadata": {},
   "source": [
    "To use the data, we must decode them. We must specify the character set, which is often UTF-8. Then we decode the json format into a Python dictionary."
   ]
  },
  {
   "cell_type": "code",
   "execution_count": 6,
   "metadata": {},
   "outputs": [],
   "source": [
    "text = content.decode(\"utf-8\")\n",
    "data = json.loads(text)"
   ]
  },
  {
   "cell_type": "markdown",
   "metadata": {},
   "source": [
    "## Using the data\n",
    "The field `count` contains the number of hits in the database. This is usually different from the number of items we requested.\n",
    "If the `count` is zero, we don't have any results and need to check the query in the URL."
   ]
  },
  {
   "cell_type": "code",
   "execution_count": 7,
   "metadata": {},
   "outputs": [
    {
     "name": "stdout",
     "output_type": "stream",
     "text": [
      "2025\n"
     ]
    }
   ],
   "source": [
    "print(data[\"count\"])"
   ]
  },
  {
   "cell_type": "markdown",
   "metadata": {},
   "source": [
    "That looks good. Let's fetch the list of cases:"
   ]
  },
  {
   "cell_type": "code",
   "execution_count": 8,
   "metadata": {
    "collapsed": true
   },
   "outputs": [],
   "source": [
    "cases = data[\"results\"]"
   ]
  },
  {
   "cell_type": "markdown",
   "metadata": {},
   "source": [
    "Now we can inspect each case. Let's loop over the cases and get some of the information.\n",
    "The data contains various metadata about each case, such as the case name and the abbreviated case name.\n",
    "\n",
    "It's often useful to look at the data in a web browser to get an overview."
   ]
  },
  {
   "cell_type": "code",
   "execution_count": 9,
   "metadata": {},
   "outputs": [
    {
     "name": "stdout",
     "output_type": "stream",
     "text": [
      "Case name: People v. Johnson\n",
      "Case name: People v. Angarola\n",
      "Case name: Village of Bensenville v. City of Chicago\n"
     ]
    }
   ],
   "source": [
    "for case in cases:\n",
    "    print(\"Case name:\", case[\"name_abbreviation\"])"
   ]
  },
  {
   "cell_type": "markdown",
   "metadata": {},
   "source": [
    "## Exercise: docket number\n",
    "\n",
    "Complete the code below to print the docket number and decision date of each case.\n",
    "You will need to browse the [data](https://api.case.law/v1/cases/?jurisdiction=ill&full_case=true&decision_date_min=2009-01-01&page_size=1\")."
   ]
  },
  {
   "cell_type": "code",
   "execution_count": 10,
   "metadata": {
    "scrolled": true
   },
   "outputs": [
    {
     "name": "stdout",
     "output_type": "stream",
     "text": [
      "Case name: People v. Johnson\n",
      "Case name: People v. Angarola\n",
      "Case name: Village of Bensenville v. City of Chicago\n"
     ]
    }
   ],
   "source": [
    "URL = \"https://api.case.law/v1/cases/?jurisdiction=ill&full_case=true&decision_date_min=2009-01-01&page_size=3\"\n",
    "data = requests.get(URL).json()\n",
    "\n",
    "cases = data[\"results\"]\n",
    "for case in cases:\n",
    "    print(\"Case name:\", case[\"name_abbreviation\"])\n",
    "    #your code here"
   ]
  },
  {
   "cell_type": "markdown",
   "metadata": {},
   "source": [
    "## Working with lists\n",
    "\n",
    "Each case in the data set contains a list of one or more opinions. These lists are located quite deep in the data structure, in ` case[\"casebody\"][\"data\"][\"opinions\"]`. These levels are somewhat like directories in a file tree, and can be seen when browsing the [web interface](https://api.case.law/v1/cases/?jurisdiction=ill&full_case=true&decision_date_min=2009-01-01&page_size=1\").\n",
    "\n",
    "We can look at some of the data for each opinion:"
   ]
  },
  {
   "cell_type": "code",
   "execution_count": 11,
   "metadata": {},
   "outputs": [
    {
     "name": "stdout",
     "output_type": "stream",
     "text": [
      "Case name: People v. Johnson\n",
      "Court: Illinois Appellate Court\n",
      " opinion author: JUSTICE LYTTON\n",
      " opinion author: None\n",
      "Case name: People v. Angarola\n",
      "Court: Illinois Appellate Court\n",
      " opinion author: JUSTICE O’MALLEY\n",
      "Case name: Village of Bensenville v. City of Chicago\n",
      "Court: Illinois Appellate Court\n",
      " opinion author: JUSTICE O’MALLEY\n"
     ]
    }
   ],
   "source": [
    "for case in cases:\n",
    "    print(\"Case name:\", case[\"name_abbreviation\"])\n",
    "    print(\"Court:\", case[\"court\"][\"name\"])\n",
    "    opinions = case[\"casebody\"][\"data\"][\"opinions\"]\n",
    "    for opinion in opinions:\n",
    "        print(\" opinion author:\", opinion[\"author\"])"
   ]
  },
  {
   "cell_type": "code",
   "execution_count": null,
   "metadata": {
    "collapsed": true
   },
   "outputs": [],
   "source": []
  }
 ],
 "metadata": {
  "kernelspec": {
   "display_name": "Python 3",
   "language": "python",
   "name": "python3"
  },
  "language_info": {
   "codemirror_mode": {
    "name": "ipython",
    "version": 3
   },
   "file_extension": ".py",
   "mimetype": "text/x-python",
   "name": "python",
   "nbconvert_exporter": "python",
   "pygments_lexer": "ipython3",
   "version": "3.6.3"
  }
 },
 "nbformat": 4,
 "nbformat_minor": 2
}
