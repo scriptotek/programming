{
 "cells": [
  {
   "cell_type": "markdown",
   "metadata": {},
   "source": [
    "# Bonus Episode: Strings\n",
    "\n",
    "This notebook is based on materials kindly provided by the [IN1900]( https://www.uio.no/studier/emner/matnat/ifi/IN1900/h19/) team.\n",
    "\n",
    "Python has many functions for working with strings. We will look at a few of them.\n",
    "\n",
    "## String Search\n",
    "We can search for a substring in a string:"
   ]
  },
  {
   "cell_type": "code",
   "execution_count": null,
   "metadata": {},
   "outputs": [],
   "source": [
    "text = \"a short text\"\n",
    "print(\"short\" in text)\n",
    "print(\"an\" in text)"
   ]
  },
  {
   "cell_type": "markdown",
   "metadata": {},
   "source": [
    "### <span style=\"color:green\"> Exercise: String Search </span>\n",
    "\n",
    "Examine the code below. What results do you expect?\n",
    "\n",
    "Now, run the code. Does the result match your expectation?"
   ]
  },
  {
   "cell_type": "code",
   "execution_count": null,
   "metadata": {},
   "outputs": [],
   "source": [
    "quote = \"Strange women lying in ponds, distributing swords, is no basis for a system of government!\"\n",
    "queries = [\"women\", \"men\", \"Camelot\"]\n",
    "\n",
    "for query in queries:\n",
    "    if query in quote:\n",
    "        print(query, \"was found in quote\")\n",
    "    else:\n",
    "        print(query, \"was not found in quote\")"
   ]
  },
  {
   "cell_type": "markdown",
   "metadata": {},
   "source": [
    "##  `string.split()`\n",
    "\n",
    "`split()` divides/splits a string into a list of parts. If we don't specify an argument, it splits on *whitespace*, which includes spaces and 'tab'-characters."
   ]
  },
  {
   "cell_type": "code",
   "execution_count": null,
   "metadata": {},
   "outputs": [],
   "source": [
    "quote_list = quote.split()\n",
    "print(quote_list)"
   ]
  },
  {
   "cell_type": "markdown",
   "metadata": {},
   "source": [
    "You can also specify one or more characters to use as the separator:"
   ]
  },
  {
   "cell_type": "code",
   "execution_count": null,
   "metadata": {},
   "outputs": [],
   "source": [
    "quote_list = quote.split(\",\")\n",
    "print(quote_list)"
   ]
  },
  {
   "cell_type": "markdown",
   "metadata": {},
   "source": [
    "## Joining Strings\n",
    "\n",
    "We can also go the other way, joining a list of strings to a single string.\n",
    "The syntax is different, we must first specify the string that is used to \"glue\" the parts together.\n",
    "This is the opposite of the separator above."
   ]
  },
  {
   "cell_type": "code",
   "execution_count": null,
   "metadata": {},
   "outputs": [],
   "source": [
    "joined_list = \",\".join(quote_list)\n",
    "print(joined_list)"
   ]
  },
  {
   "cell_type": "markdown",
   "metadata": {},
   "source": [
    "### <span style=\"color:green\"> Exercise: Inverting Names </span>\n",
    "\n",
    "Complete the function below which inverts names.\n",
    "\"John Doe\" should become \"Doe, John\".\n",
    "\n",
    "To reverse a list, you can use the function `reversed()`."
   ]
  },
  {
   "cell_type": "code",
   "execution_count": null,
   "metadata": {},
   "outputs": [],
   "source": [
    "def invert_name(name):\n",
    "    'your code here'\n",
    "\n",
    "print(invert_name(\"John Doe\"))"
   ]
  },
  {
   "cell_type": "markdown",
   "metadata": {},
   "source": [
    "## Indexing Strings\n",
    "\n",
    "You can use indexes with Strings, just like with lists. This yields *characters*, not words:"
   ]
  },
  {
   "cell_type": "code",
   "execution_count": null,
   "metadata": {},
   "outputs": [],
   "source": [
    "print(\"First character in quote is\", quote[0])\n",
    "print(\"Last character in quote is\", quote[-1])"
   ]
  },
  {
   "cell_type": "markdown",
   "metadata": {},
   "source": [
    "Remeber that `quote = \"Strange women lying in ponds, distributing swords, is no basis for a system of government!\"`."
   ]
  },
  {
   "cell_type": "code",
   "execution_count": null,
   "metadata": {},
   "outputs": [],
   "source": [
    "sub_string = quote[57:63]\n",
    "print(sub_string)"
   ]
  },
  {
   "cell_type": "markdown",
   "metadata": {},
   "source": [
    "## `string.replace()` \n",
    "\n",
    "`string.replace(old, new)` takes two arguments. The first argument, `old`,  is the string to be replaced, and `new` is the replacement. \n",
    "\n",
    "This is often useful when changing from norwegian notation for decimal numbers to english notation for decimal numbers, as shown below:"
   ]
  },
  {
   "cell_type": "code",
   "execution_count": null,
   "metadata": {},
   "outputs": [],
   "source": [
    "number = \"1,57\"\n",
    "number = number.replace(',', '.')   # number is now string object \"1.57\"\n",
    "number = float(number)              # number is now float 1.57\n",
    "print(number*2)"
   ]
  },
  {
   "cell_type": "markdown",
   "metadata": {},
   "source": [
    "But can also be used to replace larger pieces of text:"
   ]
  },
  {
   "cell_type": "code",
   "execution_count": null,
   "metadata": {},
   "outputs": [],
   "source": [
    "quote = \"All work and no play makes Jack a dull boy\".replace(\"play\", \"python-programming\")\n",
    "print(quote)"
   ]
  },
  {
   "cell_type": "markdown",
   "metadata": {},
   "source": [
    "## Sorting\n",
    "\n",
    "We can sort lists. This can be done in two ways.\n",
    "Firstly, we can make a new, sorted list, while also keeping the old one."
   ]
  },
  {
   "cell_type": "code",
   "execution_count": null,
   "metadata": {},
   "outputs": [],
   "source": [
    "names = [\"Charlie\", \"Alice\", \"Bob\"]\n",
    "names_sorted = sorted(names)\n",
    "print(names_sorted)"
   ]
  },
  {
   "cell_type": "markdown",
   "metadata": {},
   "source": [
    "Secondly, if we don't need the original list, it's more efficient to sort the existing list in place:"
   ]
  },
  {
   "cell_type": "code",
   "execution_count": null,
   "metadata": {},
   "outputs": [],
   "source": [
    "print(names)\n",
    "names.sort()\n",
    "print(names)"
   ]
  },
  {
   "cell_type": "markdown",
   "metadata": {},
   "source": [
    "We can reverse the sort order:"
   ]
  },
  {
   "cell_type": "code",
   "execution_count": null,
   "metadata": {},
   "outputs": [],
   "source": [
    "names.sort(reverse=True)\n",
    "print(names)"
   ]
  },
  {
   "cell_type": "markdown",
   "metadata": {},
   "source": [
    "### <span style=\"color:green\"> Exercise: Sorting Numbers </span>\n",
    "\n",
    "We can also sort lists of numbers. Sort the list below, and print the result."
   ]
  },
  {
   "cell_type": "code",
   "execution_count": null,
   "metadata": {},
   "outputs": [],
   "source": [
    "numbers = [2,5,3,15,1,35,0]\n",
    "#Your solution"
   ]
  },
  {
   "cell_type": "markdown",
   "metadata": {},
   "source": [
    "###  <span style=\"color:green\">Case Law Exercise: Attorneys Sorted </span>\n",
    "\n",
    "Here, we expand on the exercise \"Attorneys and Head Matter\" from the chapter \"JSON and Case Law\", so you might want to have a look at your solution to that.\n",
    "Complete the code below to print the attorneys for each case in alphabetical order.\n",
    "\n",
    "(The simplest solution uses the names as they occur in the data, starting with first names.\n",
    "It would be nice to invert the names, but since the `attorneys` field also contains company names, this is too tricky for this exercise.)\n",
    "\n",
    "If you're starting from scratch, you will need to browse the [data](https://api.case.law/v1/cases/?jurisdiction=ill&full_case=true&decision_date_min=2011-01-01&page_size=1\")."
   ]
  },
  {
   "cell_type": "code",
   "execution_count": null,
   "metadata": {},
   "outputs": [],
   "source": [
    "import requests\n",
    "import json\n",
    "\n",
    "URL = \"https://api.case.law/v1/cases/?jurisdiction=ill&full_case=true&decision_date_min=2011-01-01&page_size=3\"\n",
    "data = requests.get(URL).json()\n",
    "\n",
    "#Your solution"
   ]
  },
  {
   "cell_type": "markdown",
   "metadata": {},
   "source": [
    "###  <span style=\"color:green\">Library Data Exercise: Creators Sorted </span>\n",
    "\n",
    "Here, we expand on the exercise \"Creators\" from the chapter \"JSON for librarians\", so you might want to have a look at your solution to that.\n",
    "Complete the code below to print the creators for each case in alphabetical order.\n",
    "\n",
    "If you're starting from scratch, you will need to browse the\n",
    "[data](https://api.nb.no/catalog/v1/items?digitalAccessibleOnly=true&size=3&filter=mediatype:bøker&q=Bing,Jon)."
   ]
  },
  {
   "cell_type": "code",
   "execution_count": null,
   "metadata": {},
   "outputs": [],
   "source": [
    "import requests\n",
    "import json\n",
    "\n",
    "URL = \"https://api.nb.no/catalog/v1/items?digitalAccessibleOnly=true&size=3&filter=mediatype:bøker&q=Bing,Jon\"\n",
    "data = requests.get(URL).json()\n",
    "embedded = data['_embedded']\n",
    "items = embedded['items']\n",
    "\n",
    "for item in items:\n",
    "    metadata = item['metadata']\n",
    "    print(\"Item title:\", metadata['title'])\n",
    "    #your code here"
   ]
  },
  {
   "cell_type": "markdown",
   "metadata": {},
   "source": [
    "##  <span style=\"color:blue\">Key Points</span>\n",
    "\n",
    "- Strings can be split into lists of words\n",
    "- We can use indexes to access individual characters in a String\n",
    "- Use `string.replace()` to replace parts of a string"
   ]
  }
 ],
 "metadata": {
  "kernelspec": {
   "display_name": "Python 3",
   "language": "python",
   "name": "python3"
  },
  "language_info": {
   "codemirror_mode": {
    "name": "ipython",
    "version": 3
   },
   "file_extension": ".py",
   "mimetype": "text/x-python",
   "name": "python",
   "nbconvert_exporter": "python",
   "pygments_lexer": "ipython3",
   "version": "3.7.10"
  }
 },
 "nbformat": 4,
 "nbformat_minor": 2
}
