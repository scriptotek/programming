{
 "cells": [
  {
   "cell_type": "markdown",
   "metadata": {},
   "source": [
    "# Decisions\n",
    "\n",
    "This notebook is based on materials kindly provided by the [IN1900]( https://www.uio.no/studier/emner/matnat/ifi/IN1900/h19/) team.\n",
    "\n",
    "How can we use Python to automatically recognize different features in our data, and take a different action for each?\n",
    "Here, we will learn how to write code that executes only when certain conditions are true.\n",
    "\n",
    "We can tell Python to take an action depending on the value of a variable:"
   ]
  },
  {
   "cell_type": "code",
   "execution_count": null,
   "metadata": {},
   "outputs": [],
   "source": [
    "length = 42\n",
    "if length > 100:\n",
    "    print('greater')"
   ]
  },
  {
   "cell_type": "markdown",
   "metadata": {},
   "source": [
    "We can also include an alternate path, `else`:"
   ]
  },
  {
   "cell_type": "code",
   "execution_count": null,
   "metadata": {},
   "outputs": [],
   "source": [
    "length = 42\n",
    "if length > 100:\n",
    "    print('greater')\n",
    "else:\n",
    "    print('smaller')\n",
    "print('done')"
   ]
  },
  {
   "cell_type": "markdown",
   "metadata": {},
   "source": [
    "This code can be illustrated with a flowchart:\n",
    "![if illustration](images/if.png)"
   ]
  },
  {
   "cell_type": "markdown",
   "metadata": {},
   "source": [
    "## `elif`\n",
    "\n",
    "We can chain multiple `if`-tests with \n",
    "`elif`, short for \"else if\"."
   ]
  },
  {
   "cell_type": "code",
   "execution_count": null,
   "metadata": {},
   "outputs": [],
   "source": [
    "length = 42\n",
    "if length > 100:\n",
    "    print('greater')\n",
    "elif length < 0:\n",
    "    print('Oops, negative length?')\n",
    "else:\n",
    "    print('smaller')\n",
    "print('done')"
   ]
  },
  {
   "cell_type": "markdown",
   "metadata": {},
   "source": [
    "### <span style=\"color:green\"> Exercise: multiple hits </span>\n",
    "With `elif`, only the first test that yields `True` is executed.\n",
    "\n",
    "The code below is supposed to show a warning for temperatures above 70, but there is a bug.\n",
    "Find two different ways to fix the code, so that the warning is displayed."
   ]
  },
  {
   "cell_type": "code",
   "execution_count": null,
   "metadata": {},
   "outputs": [],
   "source": [
    "temperature = 120\n",
    "\n",
    "if temperature > 0:\n",
    "    print(\"it's warm\")\n",
    "elif temperature <= 0:\n",
    "    print(\"it's freezing\")\n",
    "elif temperature > 70:\n",
    "    print(\"WARNING: dangerously hot\")"
   ]
  },
  {
   "cell_type": "markdown",
   "metadata": {},
   "source": [
    "## `boolean` Expressions\n",
    "\n",
    "The comparisons that are part of the if statements in the examples are Boolean expressions.\n",
    "Boolean expressions include comparisons (`>`, `<`), equality (`==`) and inequality (`!=`).\n",
    "Boolean expressions evaluate to `True` or `False`.\n",
    "\n",
    "### `boolean` Connectors\n",
    "\n",
    "We can use the `boolean` connectors or operators to build larger expressions.\n",
    "The boolean connectors in Python are `and`, `or` and `not`."
   ]
  },
  {
   "cell_type": "code",
   "execution_count": null,
   "metadata": {},
   "outputs": [],
   "source": [
    "warm = True\n",
    "cloudy = False\n",
    "\n",
    "print(warm and cloudy)\n",
    "print(warm or cloudy)\n",
    "if warm and not cloudy:\n",
    "    print(\"Remember sunscreen!\")"
   ]
  },
  {
   "cell_type": "markdown",
   "metadata": {},
   "source": [
    "### <span style=\"color:green\"> Exercise: Boolean Operators </span>\n",
    "\n",
    "Again we look at the temperature test.\n",
    "This time, use a Boolean operator to fix this test so that the warning is displayed."
   ]
  },
  {
   "cell_type": "code",
   "execution_count": null,
   "metadata": {},
   "outputs": [],
   "source": [
    "temperature = 120\n",
    "\n",
    "if temperature > 0:\n",
    "    print(\"it's warm\")\n",
    "elif temperature <= 0:\n",
    "    print(\"it's freezing\")\n",
    "elif temperature > 70:\n",
    "    print(\"WARNING: dangerously hot\")"
   ]
  },
  {
   "cell_type": "markdown",
   "metadata": {},
   "source": [
    "### <span style=\"color:green\"> Case Law Exercise: count dissenting opinions </span>\n",
    "\n",
    "In the code below, we loop through a list of cases from the Case Law Api, then\n",
    "loop through the opinions for each of those cases. Each `opinion` has a `\"type\"`\n",
    "field which describes if it's a majority opinion, dissenting opinion or concurring opinion. \n",
    "First, try to run the code below to check if you can print out the value of this field for each opinion:"
   ]
  },
  {
   "cell_type": "code",
   "execution_count": null,
   "metadata": {},
   "outputs": [],
   "source": [
    "import requests\n",
    "import json\n",
    "\n",
    "URL = \"https://api.case.law/v1/cases/?jurisdiction=ill&full_case=true&decision_date_min=2011-01-01&page_size=20\"\n",
    "data = requests.get(URL).json()\n",
    "\n",
    "cases = data[\"results\"]\n",
    "for case in cases:\n",
    "    opinions = case[\"casebody\"][\"data\"][\"opinions\"]\n",
    "    for opinion in opinions:\n",
    "        print(opinion[\"type\"])"
   ]
  },
  {
   "cell_type": "markdown",
   "metadata": {},
   "source": [
    "Now, try to modify the code below to count the number of dissenting opinions by using an `if` test with `opinion[\"type\"]`.\n",
    "If you find a dissent, you will need to increase the variable `dissent_count`:"
   ]
  },
  {
   "cell_type": "code",
   "execution_count": null,
   "metadata": {},
   "outputs": [],
   "source": [
    "import requests\n",
    "import json\n",
    "\n",
    "URL = \"https://api.case.law/v1/cases/?jurisdiction=ill&full_case=true&decision_date_min=2011-01-01&page_size=20\"\n",
    "data = requests.get(URL).json()\n",
    "\n",
    "dissent_count = 0\n",
    "\n",
    "cases = data[\"results\"]\n",
    "for case in cases:\n",
    "    opinions = case[\"casebody\"][\"data\"][\"opinions\"]\n",
    "    for opinion in opinions:\n",
    "        'Your code here'\n",
    "\n",
    "print(\"Number of dissents:\", dissent_count)"
   ]
  },
  {
   "cell_type": "markdown",
   "metadata": {},
   "source": [
    "### <span style=\"color:green\"> Library Data Exercise: Count Fulltext Documents </span>\n",
    "\n",
    "In the code below, we loop through a list of items from the National Library API.\n",
    "Each `item` has a dictionary `accessInfo`, containing a key `isDigital`.\n",
    "The corresponding value is a Boolean which is `True` if the document is available digitally in fulltext.\n",
    "First, try to run the code below to check if you can print out the value of `isDigital` for each item:"
   ]
  },
  {
   "cell_type": "code",
   "execution_count": null,
   "metadata": {},
   "outputs": [],
   "source": [
    "import requests\n",
    "import json\n",
    "\n",
    "URL = \"https://api.nb.no/catalog/v1/items?size=20&filter=mediatype:b%C3%B8ker&q=Bing,Jon\"\n",
    "data = requests.get(URL).json()\n",
    "embedded = data['_embedded']\n",
    "items = embedded['items']\n",
    "\n",
    "for item in items:\n",
    "    accessInfo = item['accessInfo']\n",
    "    isDigital = accessInfo['isDigital']\n",
    "    print(isDigital)"
   ]
  },
  {
   "cell_type": "markdown",
   "metadata": {},
   "source": [
    "Now, try to modify the code below to count the number of digital fulltext documents by using an `if` test with `isDigital`.\n",
    "If you find a digital document, you will need to increase the variable `fulltext_count`:"
   ]
  },
  {
   "cell_type": "code",
   "execution_count": null,
   "metadata": {},
   "outputs": [],
   "source": [
    "import requests\n",
    "import json\n",
    "\n",
    "URL = \"https://api.nb.no/catalog/v1/items?size=20&filter=mediatype:b%C3%B8ker&q=Bing,Jon\"\n",
    "data = requests.get(URL).json()\n",
    "embedded = data['_embedded']\n",
    "items = embedded['items']\n",
    "\n",
    "fulltext_count = 0\n",
    "\n",
    "for item in items:\n",
    "    accessInfo = item['accessInfo']\n",
    "    isDigital = accessInfo['isDigital']\n",
    "    # your code here"
   ]
  },
  {
   "cell_type": "markdown",
   "metadata": {},
   "source": [
    "##  <span style=\"color:blue\">Key Points</span>\n",
    "\n",
    "- We use `if`-statements to control program flow\n",
    "- `if`-statements can have an `else`-part\n",
    "- We can chain multiple `if`-statements with `elif`\n",
    "- `if`-statements use Boolean expressions, which can be `True` or `False`"
   ]
  }
 ],
 "metadata": {
  "kernelspec": {
   "display_name": "Python 3",
   "language": "python",
   "name": "python3"
  },
  "language_info": {
   "codemirror_mode": {
    "name": "ipython",
    "version": 3
   },
   "file_extension": ".py",
   "mimetype": "text/x-python",
   "name": "python",
   "nbconvert_exporter": "python",
   "pygments_lexer": "ipython3",
   "version": "3.8.8"
  }
 },
 "nbformat": 4,
 "nbformat_minor": 2
}
