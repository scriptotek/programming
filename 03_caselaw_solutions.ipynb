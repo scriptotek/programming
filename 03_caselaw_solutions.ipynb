{
 "cells": [
  {
   "cell_type": "markdown",
   "metadata": {},
   "source": [
    "# Fetching JSON data solutions"
   ]
  },
  {
   "cell_type": "markdown",
   "metadata": {},
   "source": [
    "## Exercise: docket number"
   ]
  },
  {
   "cell_type": "code",
   "execution_count": 1,
   "metadata": {},
   "outputs": [
    {
     "name": "stdout",
     "output_type": "stream",
     "text": [
      "Case name: People v. Johnson\n",
      "docket number: No. 3-07-0255\n",
      "decision date: 2009-01-05\n",
      "Case name: People v. Angarola\n",
      "docket number: Nos. 2-07-0396, 2-07-1062 cons.\n",
      "decision date: 2009-01-06\n",
      "Case name: Village of Bensenville v. City of Chicago\n",
      "docket number: No. 2-08-0769\n",
      "decision date: 2009-01-07\n"
     ]
    }
   ],
   "source": [
    "import requests\n",
    "import json\n",
    "\n",
    "URL = \"https://api.case.law/v1/cases/?jurisdiction=ill&full_case=true&decision_date_min=2011-01-01&page_size=3\"\n",
    "data = requests.get(URL).json()\n",
    "\n",
    "cases = data[\"results\"]\n",
    "for case in cases:\n",
    "    print(\"Case name:\", case[\"name_abbreviation\"])\n",
    "    #your code here\n",
    "    print(\"docket number:\", case[\"docket_number\"])\n",
    "    print(\"decision date:\", case[\"decision_date\"])"
   ]
  },
  {
   "cell_type": "markdown",
   "metadata": {},
   "source": [
    "## Exercise: Attorneys and head matter"
   ]
  },
  {
   "cell_type": "code",
   "execution_count": 2,
   "metadata": {
    "scrolled": true
   },
   "outputs": [
    {
     "name": "stdout",
     "output_type": "stream",
     "text": [
      "Case name: People v. Johnson\n",
      "Head matter: THE PEOPLE OF THE STATE OF ILLINOIS, Plaintiff-Appellee, v. ANTHONY JOHNSON, Defendant-Appellant.\n",
      "Third District\n",
      "No. 3 — 07-—0255\n",
      "Opinion filed January 5, 2009.\n",
      "HOLDRIDGE, J., dissenting.\n",
      "Fletcher P. Hamill (argued), of State Appellate Defender’s Office, of Ottawa, for appellant.\n",
      "James Glasgow, State’s Attorney, of Joliet (Terry A. Mertel and Justin A. Nicolosi (argued), both of State’s Attorneys Appellate Prosecutor’s Office, of counsel), for the People.\n",
      "Attorneys: ['Fletcher P. Hamill (argued), of State Appellate Defender’s Office, of Ottawa, for appellant.', 'James Glasgow, State’s Attorney, of Joliet (Terry A. Mertel and Justin A. Nicolosi (argued), both of State’s Attorneys Appellate Prosecutor’s Office, of counsel), for the People.']\n"
     ]
    }
   ],
   "source": [
    "URL = \"https://api.case.law/v1/cases/?jurisdiction=ill&full_case=true&decision_date_min=2011-01-01&page_size=1\"\n",
    "data = requests.get(URL).json()\n",
    "\n",
    "cases = data[\"results\"]\n",
    "for case in cases:\n",
    "    print(\"Case name:\", case[\"name_abbreviation\"])\n",
    "    #your code here\n",
    "    print(\"Head matter:\", case[\"casebody\"][\"data\"][\"head_matter\"])\n",
    "    print(\"Attorneys:\", case[\"casebody\"][\"data\"][\"attorneys\"])"
   ]
  },
  {
   "cell_type": "markdown",
   "metadata": {
    "collapsed": true
   },
   "source": [
    "## Exercise: Count dissenting opinions"
   ]
  },
  {
   "cell_type": "code",
   "execution_count": 3,
   "metadata": {},
   "outputs": [
    {
     "name": "stdout",
     "output_type": "stream",
     "text": [
      "Number of dissents: 4\n"
     ]
    }
   ],
   "source": [
    "import requests\n",
    "import json\n",
    "\n",
    "URL = \"https://api.case.law/v1/cases/?jurisdiction=ill&full_case=true&decision_date_min=2011-01-01&page_size=20\"\n",
    "data = requests.get(URL).json()\n",
    "\n",
    "dissent_count = 0\n",
    "\n",
    "cases = data[\"results\"]\n",
    "for case in cases:\n",
    "    opinions = case[\"casebody\"][\"data\"][\"opinions\"]\n",
    "    for opinion in opinions:\n",
    "        # Your code here:\n",
    "        if opinion[\"type\"] == \"dissent\":\n",
    "            dissent_count = dissent_count + 1\n",
    "\n",
    "print(\"Number of dissents:\", dissent_count)"
   ]
  },
  {
   "cell_type": "code",
   "execution_count": null,
   "metadata": {
    "collapsed": true
   },
   "outputs": [],
   "source": []
  }
 ],
 "metadata": {
  "kernelspec": {
   "display_name": "Python 3",
   "language": "python",
   "name": "python3"
  },
  "language_info": {
   "codemirror_mode": {
    "name": "ipython",
    "version": 3
   },
   "file_extension": ".py",
   "mimetype": "text/x-python",
   "name": "python",
   "nbconvert_exporter": "python",
   "pygments_lexer": "ipython3",
   "version": "3.6.3"
  }
 },
 "nbformat": 4,
 "nbformat_minor": 2
}
