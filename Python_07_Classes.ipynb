{
 "cells": [
  {
   "cell_type": "markdown",
   "metadata": {},
   "source": [
    "# Klasser i Python\n",
    "\n",
    "\n",
    "En klasse som en samling av variabler og methoder. **Metoder er funksjoner som tilhører en klasse.** Alle methoder i klassen vil ha `self` som første variabel. Hva `self` gjør vil bli beskrevet senere.  \n",
    "\n",
    "En klasse brukes ved å opprette en **instans** av klassen. Du kan tenke at klassen definerer egenskapene til instansen. \n",
    "\n",
    "Når du lager en klasse bør du tenke over hvilke typer egenskaper objektet bør ha. Klasser skal ikke bare være en samling av masse metoder og variabler, de bør relevant for objektet klassen beskriver.\n",
    "\n",
    "\n",
    "Som et eksempel på en klasse, lånes en klasse fra side 430 i boken. Dette er klassen som heter `Circle`."
   ]
  },
  {
   "cell_type": "code",
   "execution_count": 1,
   "metadata": {},
   "outputs": [],
   "source": [
    "from numpy import pi\n",
    "\n",
    "class Circle:    \n",
    "    def __init__(self, x0, y0, R):\n",
    "        self.x0 = x0\n",
    "        self.y0 = y0\n",
    "        self.R = R\n",
    "        \n",
    "    def area(self):\n",
    "        return pi*self.R**2\n",
    "    \n",
    "    def print_area(self):\n",
    "        print(\"The area of the circle is %.4f\" %self.area()  )"
   ]
  },
  {
   "cell_type": "markdown",
   "metadata": {},
   "source": [
    "## Opprette instans av en klasse og `__init__()`\n",
    "\n",
    "\n",
    "Methoden `__init__()` kalles en konstruktør. Den initialiserer et objekt av klassen. Med dette menes at det er `__init__()` som kalles i klassen når du oppretter en instans av klassen. Python vil gjenkjenne navnet på denne metoden og automatisk kalle på den når instansen opprettes.\n",
    "\n",
    "### Hvilke parametre bør sendes med konstruktøren ?\n",
    "\n",
    "Variablene som sendes inn med `__init__()` bør være nødvendige for å beskrive objektet, men ikke konstant for alle objekt av klassen. En sirkel vil nødvendigvis alltid ha et senter $(x_0, y_0)$ og radius $R$. En klasse `Circle` trenger å derfor ha informasjon om posisjonen til senteret og radiusen til sirkelen. Disse verdiene vil variere fra sirkel til sirkel, og bør derfor sendes inn som parametre i konstruktøren. Alle sirkler har også null kanter, men dette gjelder alle sirkler, og ville derfor ikke passet som et parameter, men som en heller som en konstant i klassen.\n",
    "\n",
    "### Å opprette en instans av `Circle` \n",
    "\n",
    "I kodesnutten under blir noen instanser av klassen `Circle` opprettet. Dette gjøres ved å bruke navnet til klassen, og sende inn parameterne gitt av konstruktøren, `__init__()`."
   ]
  },
  {
   "cell_type": "code",
   "execution_count": 2,
   "metadata": {},
   "outputs": [
    {
     "name": "stdout",
     "output_type": "stream",
     "text": [
      "<class '__main__.Circle'>\n"
     ]
    }
   ],
   "source": [
    "unit_circle = Circle(0, 0, 1)\n",
    "small_circle = Circle(0, 0, 0.001)\n",
    "\n",
    "print(type(unit_circle))"
   ]
  },
  {
   "cell_type": "markdown",
   "metadata": {},
   "source": [
    "## `self`\n",
    "\n",
    "I Python er `self` måten klassen refererer til instansen som er opprettet.\n",
    "\n",
    "Det er konvensjon å kalle denne referansen `self`, men det vil fungere like fint med `spam` eller `eggs` så lenge man er konsekvent. I dette kurset følges konvensjonen med å bruke `self` for å øke lesbarheten til koden. \n",
    "\n",
    "Legg merke til hvordan parametre i `__init__()` i klassen redefineres til `self.R = R` osv. Slik lagres parametre som variabler inne i klassen. Disse variablene blir da tilgjengelige i hele klassen, slik som i utregningen av areal. Der brukes `self.R` til utregningen, som ble opprettet i `__init__()`.\n",
    "\n",
    "Om ikke annet er spesifisert, kan disse variablene også hentes utenfra klassen. Dette vises i eksempelet under."
   ]
  },
  {
   "cell_type": "code",
   "execution_count": 3,
   "metadata": {},
   "outputs": [
    {
     "name": "stdout",
     "output_type": "stream",
     "text": [
      "The radius of the unit circle is 1. \n",
      "The radius of the small circle is 0.001. \n"
     ]
    }
   ],
   "source": [
    "print(\"The radius of the unit circle is %d. \" %unit_circle.R)\n",
    "print(\"The radius of the small circle is %.3f. \" %small_circle.R)"
   ]
  },
  {
   "cell_type": "markdown",
   "metadata": {},
   "source": [
    "## Metoder \n",
    "\n",
    "I eksempelklassen `Circle` er det en metode som regner ut og returnerer arealet til sirkelen. Dette er en typisk egenskap som forventes av en sirkel. Det kan selvsagt foreligge mange metoder i én og samme klasse. Hvor mange metoder som trengs avhenger mye av klassen. \n",
    "\n",
    "Metoder kan kalles på inni klassen ved å bruke `self`, slik som i `print_area()` i `Circle`. Dette gjøres ved `self.method_name(parameters)`. Utenforklassen vil dette bli `instance_name.method_name(parameters)`. Under ligger et eksempel på hvordan kalle på en funksjon av en instans."
   ]
  },
  {
   "cell_type": "code",
   "execution_count": 4,
   "metadata": {},
   "outputs": [
    {
     "name": "stdout",
     "output_type": "stream",
     "text": [
      "The area of the circle is 3.1416\n"
     ]
    }
   ],
   "source": [
    "unit_circle.print_area()"
   ]
  },
  {
   "cell_type": "markdown",
   "metadata": {
    "collapsed": true
   },
   "source": [
    "## Special methods\n",
    "\n",
    "Special methods er metoder i klassen med spesielle navn som Python gjennkjenner. Et eksempel på en special method er konstruktøren `__init()__`.\n",
    "\n",
    "I sammendraget av `numpy`-arrays nevnes forskjellen mellom `numpy`-arrays og Python-lister når man bruker vanlige operatorer på dem (slik som `+`, `*` osv). Dette er et eksempel på at special methods i klassen er implementert ulikt. \n",
    "\n",
    "**En tabell med noen special methods i Python finnes på side 465 i boken.**\n",
    "\n",
    "Under printes `unit_circle`. Det som printes er hvilken klasse objektet tilhører, og adressen til objektet."
   ]
  },
  {
   "cell_type": "code",
   "execution_count": 5,
   "metadata": {},
   "outputs": [
    {
     "name": "stdout",
     "output_type": "stream",
     "text": [
      "<__main__.Circle object at 0x10b7c1400>\n"
     ]
    }
   ],
   "source": [
    "print(unit_circle)"
   ]
  },
  {
   "cell_type": "markdown",
   "metadata": {},
   "source": [
    "Klassen under er en forbedret versjon av det forrige eksempelet. Her er en special method implementert som spesifiserer hvordan klassen skal kunne bli tolket som en String, som for eksempel når et objekt printes."
   ]
  },
  {
   "cell_type": "code",
   "execution_count": 6,
   "metadata": {
    "collapsed": true
   },
   "outputs": [],
   "source": [
    "from numpy import pi\n",
    "\n",
    "class Circle_improved:    \n",
    "    def __init__(self, x0, y0, R):\n",
    "        self.x0 = x0\n",
    "        self.y0 = y0\n",
    "        self.R = R\n",
    "        \n",
    "    def area(self):\n",
    "        return pi*self.R**2\n",
    "    \n",
    "    def print_area(self):\n",
    "        print(\"The area of the circle is %.4f\" %self.area()  )\n",
    "        \n",
    "    def __str__(self):\n",
    "        return \"Circle with raidus %.3g and center at (%.1f, %.1f)\" %(self.R, self.x0, self.y0)"
   ]
  },
  {
   "cell_type": "code",
   "execution_count": 7,
   "metadata": {},
   "outputs": [
    {
     "name": "stdout",
     "output_type": "stream",
     "text": [
      "Circle with raidus 1 and center at (0.0, 0.0)\n"
     ]
    }
   ],
   "source": [
    "new_unit_circle = Circle_improved(0, 0, 1)\n",
    "print(new_unit_circle)"
   ]
  }
 ],
 "metadata": {
  "kernelspec": {
   "display_name": "Python 3",
   "language": "python",
   "name": "python3"
  },
  "language_info": {
   "codemirror_mode": {
    "name": "ipython",
    "version": 3
   },
   "file_extension": ".py",
   "mimetype": "text/x-python",
   "name": "python",
   "nbconvert_exporter": "python",
   "pygments_lexer": "ipython3",
   "version": "3.6.8"
  }
 },
 "nbformat": 4,
 "nbformat_minor": 2
}
