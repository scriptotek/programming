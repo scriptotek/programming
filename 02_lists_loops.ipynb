{
 "cells": [
  {
   "cell_type": "markdown",
   "metadata": {},
   "source": [
    "# Lists\n",
    "\n",
    "Python lists can contain `int`, `float`, `String` and other items.\n",
    "We make a list by placing the items in square brackets, `[]`, separated by commas."
   ]
  },
  {
   "cell_type": "code",
   "execution_count": 1,
   "metadata": {},
   "outputs": [],
   "source": [
    "my_list = [1, 2]"
   ]
  },
  {
   "cell_type": "markdown",
   "metadata": {},
   "source": [
    "There are many functions for working with lists. One example is `len()`, which returns the length of the list, in other words the number of items it contains."
   ]
  },
  {
   "cell_type": "code",
   "execution_count": 2,
   "metadata": {},
   "outputs": [
    {
     "name": "stdout",
     "output_type": "stream",
     "text": [
      "odd:  [1, 3, 5, 7, 9]\n",
      "length of list 'odd' : 5\n"
     ]
    }
   ],
   "source": [
    "odd = [1, 3, 5, 7, 9]\n",
    "\n",
    "print(\"odd: \", odd)\n",
    "print(\"length of list 'odd' :\", len(odd))"
   ]
  },
  {
   "cell_type": "markdown",
   "metadata": {},
   "source": [
    "## Adding (appending) elements to a list\n",
    "\n",
    "We can add/append elements to an existing list. Below we first make an empty list, and then append one element at a time using `append()`. Note that `append()` adds items at the end of the list."
   ]
  },
  {
   "cell_type": "code",
   "execution_count": 3,
   "metadata": {},
   "outputs": [
    {
     "name": "stdout",
     "output_type": "stream",
     "text": [
      "['not', 'so', 'empty', 'anymore']\n"
     ]
    }
   ],
   "source": [
    "empty_list = []\n",
    "\n",
    "empty_list.append(\"not\")\n",
    "empty_list.append(\"so\")\n",
    "empty_list.append(\"empty\")\n",
    "empty_list.append(\"anymore\")\n",
    "\n",
    "print(empty_list)"
   ]
  },
  {
   "cell_type": "markdown",
   "metadata": {},
   "source": [
    "## Accessing list elements - list indexing\n",
    "\n",
    "To get an item from a list, we use an index number. \n",
    "\n",
    "**Python counts from 0, not 1!**\n",
    "\n",
    "We can get the items in `odd` one at a time:"
   ]
  },
  {
   "cell_type": "code",
   "execution_count": 4,
   "metadata": {},
   "outputs": [
    {
     "name": "stdout",
     "output_type": "stream",
     "text": [
      "odd[0] =  1\n",
      "odd[1] =  3\n",
      "odd[2] =  5\n",
      "odd[3] =  7\n",
      "odd[4] =  9\n"
     ]
    }
   ],
   "source": [
    "print('odd[0] = ', odd[0])\n",
    "print('odd[1] = ', odd[1])\n",
    "print('odd[2] = ', odd[2])\n",
    "print('odd[3] = ', odd[3])\n",
    "print('odd[4] = ', odd[4])"
   ]
  },
  {
   "cell_type": "markdown",
   "metadata": {},
   "source": [
    "## Nested lists \n",
    "\n",
    "Lists are frequently used in Python. Later we will see an example of lists of cases from US case law.\n",
    "Lists can contain other lists. In the list of cases, each case has a list of attorneys.\n",
    "\n",
    "We can make a new list `even` to complement our list `odd`."
   ]
  },
  {
   "cell_type": "code",
   "execution_count": 5,
   "metadata": {
    "collapsed": true,
    "scrolled": true
   },
   "outputs": [],
   "source": [
    "even = [2, 4, 6, 8, 10]"
   ]
  },
  {
   "cell_type": "markdown",
   "metadata": {},
   "source": [
    "### Making a list of lists \n",
    "\n",
    "Now, we can make a new list containing the lists `odd` and `even`."
   ]
  },
  {
   "cell_type": "code",
   "execution_count": 6,
   "metadata": {},
   "outputs": [
    {
     "name": "stdout",
     "output_type": "stream",
     "text": [
      "odd_and_even :  [[1, 3, 5, 7, 9], [2, 4, 6, 8, 10]]\n",
      "Second object in odd_and_even is the list even :  [2, 4, 6, 8, 10]\n",
      "First number in even:  2\n",
      "Third number in even:  6\n"
     ]
    }
   ],
   "source": [
    "odd_and_even = [odd, even]\n",
    "print(\"odd_and_even : \", odd_and_even)\n",
    "print(\"Second object in odd_and_even is the list even : \", odd_and_even[1])\n",
    "print(\"First number in even: \", odd_and_even[1][0])\n",
    "print(\"Third number in even: \", odd_and_even[1][2])"
   ]
  },
  {
   "cell_type": "markdown",
   "metadata": {},
   "source": [
    "### <span style=\"color:green\">Exercise: dates</span>\n",
    "\n",
    "Change the indexes in the code below, so that the printed information is correct."
   ]
  },
  {
   "cell_type": "code",
   "execution_count": 7,
   "metadata": {},
   "outputs": [
    {
     "name": "stdout",
     "output_type": "stream",
     "text": [
      "\n",
      "My birthday is the 19th of August.\n",
      "Christmas is the 9th of October.\n"
     ]
    }
   ],
   "source": [
    "days = [1, 2, 3, 4, 5, 6, 7, 8, 9, 10]\n",
    "days += [11, 12, 13, 14, 15, 16, 17, 18, 19, 20]\n",
    "days += [21, 22, 23, 24, 25, 26, 27, 28, 29, 30, 31]\n",
    "\n",
    "summer = [\"June\", \"July\", \"August\"]\n",
    "autum = [\"September\", \"October\", \"November\"]\n",
    "winter = [\"Desember\", \"January\", \"February\"]\n",
    "spring = [\"March\", \"April\", \"May\"]\n",
    "\n",
    "months = [summer, autum, winter, spring]\n",
    "\n",
    "\n",
    "# change the indices below\n",
    "print(\"\\nMy birthday is the %dth of %s.\" %(days[18], months[0][2]))\n",
    "print(\"Christmas is the %dth of %s.\" %(days[8], months[1][1]))"
   ]
  },
  {
   "cell_type": "markdown",
   "metadata": {},
   "source": [
    "# Loops\n",
    "\n",
    "We saw above how we can manually retrieve each element in a list. However, this kind of repetition is tedious and error-prone. If we change the list, we get an error:"
   ]
  },
  {
   "cell_type": "code",
   "execution_count": 8,
   "metadata": {},
   "outputs": [
    {
     "name": "stdout",
     "output_type": "stream",
     "text": [
      "odd[0] =  1\n",
      "odd[1] =  3\n",
      "odd[2] =  5\n",
      "odd[3] =  7\n"
     ]
    },
    {
     "ename": "IndexError",
     "evalue": "list index out of range",
     "output_type": "error",
     "traceback": [
      "\u001b[1;31m---------------------------------------------------------------------------\u001b[0m",
      "\u001b[1;31mIndexError\u001b[0m                                Traceback (most recent call last)",
      "\u001b[1;32m<ipython-input-8-924b83c54b8d>\u001b[0m in \u001b[0;36m<module>\u001b[1;34m()\u001b[0m\n\u001b[0;32m      5\u001b[0m \u001b[0mprint\u001b[0m\u001b[1;33m(\u001b[0m\u001b[1;34m'odd[2] = '\u001b[0m\u001b[1;33m,\u001b[0m \u001b[0modd\u001b[0m\u001b[1;33m[\u001b[0m\u001b[1;36m2\u001b[0m\u001b[1;33m]\u001b[0m\u001b[1;33m)\u001b[0m\u001b[1;33m\u001b[0m\u001b[0m\n\u001b[0;32m      6\u001b[0m \u001b[0mprint\u001b[0m\u001b[1;33m(\u001b[0m\u001b[1;34m'odd[3] = '\u001b[0m\u001b[1;33m,\u001b[0m \u001b[0modd\u001b[0m\u001b[1;33m[\u001b[0m\u001b[1;36m3\u001b[0m\u001b[1;33m]\u001b[0m\u001b[1;33m)\u001b[0m\u001b[1;33m\u001b[0m\u001b[0m\n\u001b[1;32m----> 7\u001b[1;33m \u001b[0mprint\u001b[0m\u001b[1;33m(\u001b[0m\u001b[1;34m'odd[4] = '\u001b[0m\u001b[1;33m,\u001b[0m \u001b[0modd\u001b[0m\u001b[1;33m[\u001b[0m\u001b[1;36m4\u001b[0m\u001b[1;33m]\u001b[0m\u001b[1;33m)\u001b[0m\u001b[1;33m\u001b[0m\u001b[0m\n\u001b[0m",
      "\u001b[1;31mIndexError\u001b[0m: list index out of range"
     ]
    }
   ],
   "source": [
    "odd = [1, 3, 5, 7]\n",
    "\n",
    "print('odd[0] = ', odd[0])\n",
    "print('odd[1] = ', odd[1])\n",
    "print('odd[2] = ', odd[2])\n",
    "print('odd[3] = ', odd[3])\n",
    "print('odd[4] = ', odd[4])"
   ]
  },
  {
   "cell_type": "markdown",
   "metadata": {},
   "source": [
    "This code violates an important principle in programming: *Don't Repeat Yourself* (DRY).\n",
    "To avoid such errors, we should leave the work of keeping track of the list elements to the computer."
   ]
  },
  {
   "cell_type": "code",
   "execution_count": 9,
   "metadata": {},
   "outputs": [
    {
     "name": "stdout",
     "output_type": "stream",
     "text": [
      "Iterating over the list:\n",
      "1\n",
      "3\n",
      "5\n",
      "7\n"
     ]
    }
   ],
   "source": [
    "print(\"Iterating over the list:\")\n",
    "for number in odd:\n",
    "    print(number)"
   ]
  },
  {
   "cell_type": "markdown",
   "metadata": {},
   "source": [
    "<figure>\n",
    "  <img src=\"images/loops_image_05.jpg\" alt=\"loop illustration\"/>\n",
    "  <figcaption>Illustration derivative work of illustration in the [Software Carpentry](https://software-carpentry.org/)\n",
    "lesson [Programming with Python](\n",
    "http://swcarpentry.github.io/python-novice-inflammation/04-loop/index.html/), with modified indexes.\n",
    "</figcaption>\n",
    "</figure>"
   ]
  },
  {
   "cell_type": "markdown",
   "metadata": {},
   "source": [
    "`for`-loops iterate over all the elements in a sequence, frequently a list.\n",
    "We can also loop over other kinds of sequences. The function `range()` returns a sequence of numbers:"
   ]
  },
  {
   "cell_type": "code",
   "execution_count": 10,
   "metadata": {},
   "outputs": [
    {
     "name": "stdout",
     "output_type": "stream",
     "text": [
      "\n",
      "Using range:\n",
      "0\n",
      "1\n",
      "2\n",
      "3\n"
     ]
    }
   ],
   "source": [
    "print(\"\\nUsing range:\")\n",
    "for i in range(4):\n",
    "    print(i)"
   ]
  },
  {
   "cell_type": "markdown",
   "metadata": {},
   "source": [
    "### `range(start, stop, step_length)`\n",
    "\n",
    "`range()` can have up to three arguments. If you give all three arguments, range will yield integers starting from and *including* `start`, up to but *excluding* `stop`, in steps of size `step_length`.\n",
    "\n",
    "If you only give two arguments, the step length will be 1.\n",
    "\n",
    "If you only give a single argument, the starting point will be zero."
   ]
  },
  {
   "cell_type": "markdown",
   "metadata": {},
   "source": [
    "##  Bruke løkker til å printe tabeller\n",
    "\n",
    "Under er det gitt tre forskjellige måter å printe ut samme resultat. Alle tre kodesnuttene vil ha output:"
   ]
  },
  {
   "cell_type": "markdown",
   "metadata": {},
   "source": [
    "### Indeksering av liste med to lister\n",
    "\n",
    "I kodesnutten under er `odd_and_even` en liste med to lister. For å printe ut tallene \n",
    "fra begge de to sub-listene, må **indekseringen i løkken både spesifisere \n",
    "hvilken sub-liste, og hvilket element fra sub-listen som skal hentes ut**. Legg merke til hvor i løkken indekseringen \n",
    "blir holdt konstant, dette er hvor det blir spesifisert om elementet kommer fra `odd` eller\n",
    "`even`. Hvilket element som hentes ut avhenger altså av verdien på `i`, \n",
    "som her går fra 0 til 4."
   ]
  },
  {
   "cell_type": "code",
   "execution_count": 11,
   "metadata": {},
   "outputs": [
    {
     "name": "stdout",
     "output_type": "stream",
     "text": [
      "1 2\n",
      "3 4\n",
      "5 6\n",
      "7 8\n"
     ]
    }
   ],
   "source": [
    "odd_and_even = [odd, even]\n",
    "\n",
    "for i in range(len(odd)):\n",
    "    odd_number = odd_and_even[0][i]\n",
    "    even_number = odd_and_even[1][i]\n",
    "    print(odd_number, even_number)"
   ]
  },
  {
   "cell_type": "markdown",
   "metadata": {},
   "source": [
    "### Indeksering av liste med tupler\n",
    "\n",
    "I kodesnutten under er `odd_and_even` en liste med `touples`, laget av å flette sammen (`odd` og `even`). Travserseringen er gjort på samme måte som beskrevet i avsnittet over. **Merk forskjellen i rekkefølgen av indekseringen fra eksempelet over.**"
   ]
  },
  {
   "cell_type": "code",
   "execution_count": 12,
   "metadata": {},
   "outputs": [
    {
     "name": "stdout",
     "output_type": "stream",
     "text": [
      "1 2\n",
      "3 4\n",
      "5 6\n",
      "7 8\n"
     ]
    }
   ],
   "source": [
    "odd_and_even = [(o, e) for o, e in zip(odd, even)]\n",
    "\n",
    "for i in range(len(odd)):\n",
    "    odd_number = odd_and_even[i][0]\n",
    "    even_number = odd_and_even[i][1]\n",
    "    print(odd_number, even_number)"
   ]
  },
  {
   "cell_type": "markdown",
   "metadata": {
    "collapsed": true
   },
   "source": [
    "## Nøstede løkker\n",
    "\n",
    "Under ligger et illustrativt eksempel på hvordan en dobbel `for`-løkke fungerer. Studér eksempelet og se at du forstår output."
   ]
  },
  {
   "cell_type": "code",
   "execution_count": 13,
   "metadata": {},
   "outputs": [
    {
     "name": "stdout",
     "output_type": "stream",
     "text": [
      "Main loop i = 0\n",
      "\tInner loop j = 0\n",
      "Main loop i = 1\n",
      "\tInner loop j = 0\n",
      "\tInner loop j = 1\n",
      "Main loop i = 2\n",
      "\tInner loop j = 0\n",
      "\tInner loop j = 1\n",
      "\tInner loop j = 2\n",
      "Main loop i = 3\n",
      "\tInner loop j = 0\n",
      "\tInner loop j = 1\n",
      "\tInner loop j = 2\n",
      "\tInner loop j = 3\n"
     ]
    }
   ],
   "source": [
    "for i in range(4):\n",
    "    print(\"Main loop i = %d\" %i)\n",
    "    for j in range(i+1):\n",
    "        print(\"\\tInner loop j = %d\" %j)"
   ]
  }
 ],
 "metadata": {
  "kernelspec": {
   "display_name": "Python 3",
   "language": "python",
   "name": "python3"
  },
  "language_info": {
   "codemirror_mode": {
    "name": "ipython",
    "version": 3
   },
   "file_extension": ".py",
   "mimetype": "text/x-python",
   "name": "python",
   "nbconvert_exporter": "python",
   "pygments_lexer": "ipython3",
   "version": "3.6.3"
  }
 },
 "nbformat": 4,
 "nbformat_minor": 2
}
