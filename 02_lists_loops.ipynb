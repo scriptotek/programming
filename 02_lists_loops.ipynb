{
 "cells": [
  {
   "cell_type": "markdown",
   "metadata": {},
   "source": [
    "# Lists\n",
    "\n",
    "Python lists can contain `int`, `float`, `String` and other items.\n",
    "We make a list by placing the items in square brackets, `[]`, separated by commas."
   ]
  },
  {
   "cell_type": "code",
   "execution_count": null,
   "metadata": {
    "collapsed": true
   },
   "outputs": [],
   "source": [
    "my_list = [1, 2]"
   ]
  },
  {
   "cell_type": "markdown",
   "metadata": {},
   "source": [
    "There are many functions for working with lists. One example is `len()`, which returns the length of the list, in other words the number of items it contains."
   ]
  },
  {
   "cell_type": "code",
   "execution_count": null,
   "metadata": {},
   "outputs": [],
   "source": [
    "odd = [1, 3, 5, 7, 9]\n",
    "\n",
    "print(\"odd: \", odd)\n",
    "print(\"length of list 'odd' :\", len(odd))"
   ]
  },
  {
   "cell_type": "markdown",
   "metadata": {},
   "source": [
    "## Adding (Appending) Elements to a List\n",
    "\n",
    "We can add/append elements to an existing list. Below we first make an empty list, and then append one element at a time using `append()`. Note that `append()` adds items at the end of the list."
   ]
  },
  {
   "cell_type": "code",
   "execution_count": null,
   "metadata": {},
   "outputs": [],
   "source": [
    "empty_list = []\n",
    "\n",
    "empty_list.append(\"not\")\n",
    "empty_list.append(\"so\")\n",
    "empty_list.append(\"empty\")\n",
    "empty_list.append(\"anymore\")\n",
    "\n",
    "print(empty_list)"
   ]
  },
  {
   "cell_type": "markdown",
   "metadata": {},
   "source": [
    "## Accessing List Elements - List Indexing\n",
    "\n",
    "To get an item from a list, we use an index number. \n",
    "\n",
    "**Python counts from 0, not 1!**\n",
    "\n",
    "We can get the items in `odd` one at a time:"
   ]
  },
  {
   "cell_type": "code",
   "execution_count": null,
   "metadata": {},
   "outputs": [],
   "source": [
    "print('odd[0] = ', odd[0])\n",
    "print('odd[1] = ', odd[1])\n",
    "print('odd[2] = ', odd[2])\n",
    "print('odd[3] = ', odd[3])\n",
    "print('odd[4] = ', odd[4])"
   ]
  },
  {
   "cell_type": "markdown",
   "metadata": {},
   "source": [
    "### <span style=\"color:green\">Exercise: Indexing Lists</span>  \n",
    "\n",
    "Change the variable `index` in the code below such that the word *something* is printed when the code snippet is run."
   ]
  },
  {
   "cell_type": "code",
   "execution_count": null,
   "metadata": {},
   "outputs": [],
   "source": [
    "Margaret_Lanterman = ['my', 'log', 'has', 'something', 'to', 'tell', 'you.']\n",
    "\n",
    "index = -1\n",
    "print(Margaret_Lanterman[index])"
   ]
  },
  {
   "cell_type": "markdown",
   "metadata": {},
   "source": [
    "## Nested Lists \n",
    "\n",
    "Lists are frequently used in Python. Later we will see an example of lists of cases from US case law.\n",
    "Lists can contain other lists. In the list of cases, each case has a list of attorneys.\n",
    "\n",
    "We can make a new list `even` to complement our list `odd`."
   ]
  },
  {
   "cell_type": "code",
   "execution_count": null,
   "metadata": {
    "collapsed": true,
    "scrolled": true
   },
   "outputs": [],
   "source": [
    "even = [2, 4, 6, 8, 10]"
   ]
  },
  {
   "cell_type": "markdown",
   "metadata": {},
   "source": [
    "### Making a List of Lists \n",
    "\n",
    "Now, we can make a new list containing the lists `odd` and `even`."
   ]
  },
  {
   "cell_type": "code",
   "execution_count": null,
   "metadata": {},
   "outputs": [],
   "source": [
    "odd_and_even = [odd, even]\n",
    "print(\"odd_and_even : \", odd_and_even)\n",
    "print(\"Second object in odd_and_even is the list even : \", odd_and_even[1])\n",
    "print(\"First number in even: \", odd_and_even[1][0])\n",
    "print(\"Third number in even: \", odd_and_even[1][2])"
   ]
  },
  {
   "cell_type": "markdown",
   "metadata": {},
   "source": [
    "### <span style=\"color:green\">Exercise: Dates and Indexing Nested Lists</span> \n",
    "\n",
    "Change the indexes in the code below, so that the printed information is correct."
   ]
  },
  {
   "cell_type": "code",
   "execution_count": null,
   "metadata": {},
   "outputs": [],
   "source": [
    "days = [1, 2, 3, 4, 5, 6, 7, 8, 9, 10]\n",
    "days += [11, 12, 13, 14, 15, 16, 17, 18, 19, 20]\n",
    "days += [21, 22, 23, 24, 25, 26, 27, 28, 29, 30, 31]\n",
    "\n",
    "summer = [\"June\", \"July\", \"August\"]\n",
    "autum = [\"September\", \"October\", \"November\"]\n",
    "winter = [\"December\", \"January\", \"February\"]\n",
    "spring = [\"March\", \"April\", \"May\"]\n",
    "\n",
    "months = [summer, autum, winter, spring]\n",
    "\n",
    "\n",
    "# change the indices below\n",
    "print(\"My birthday is the %d. of %s.\" %(days[18], months[0][2]))\n",
    "print(\"Christmas is the %d. of %s.\" %(days[8], months[1][1]))"
   ]
  },
  {
   "cell_type": "markdown",
   "metadata": {},
   "source": [
    "# Loops\n",
    "\n",
    "We saw above how we could manually get each element in a list. However, this kind of repetition is tedious and error-prone. For example, if we change ```odd``` to be a shorter list, we will get an error when re-running the code we wrote above:"
   ]
  },
  {
   "cell_type": "code",
   "execution_count": null,
   "metadata": {},
   "outputs": [],
   "source": [
    "odd = [1, 3, 5, 7]\n",
    "\n",
    "print('odd[0] = ', odd[0])\n",
    "print('odd[1] = ', odd[1])\n",
    "print('odd[2] = ', odd[2])\n",
    "print('odd[3] = ', odd[3])\n",
    "print('odd[4] = ', odd[4])"
   ]
  },
  {
   "cell_type": "markdown",
   "metadata": {},
   "source": [
    "This code violates an important principle in programming: *Don't Repeat Yourself* (DRY).\n",
    "To avoid such errors, we should leave the work of keeping track of the list elements to the computer."
   ]
  },
  {
   "cell_type": "code",
   "execution_count": null,
   "metadata": {},
   "outputs": [],
   "source": [
    "for number in odd:\n",
    "    print(number)"
   ]
  },
  {
   "cell_type": "markdown",
   "metadata": {},
   "source": [
    "We can also loop or iterate over lists of strings:"
   ]
  },
  {
   "cell_type": "code",
   "execution_count": null,
   "metadata": {},
   "outputs": [],
   "source": [
    "sentence = ['a', 'short', 'list']\n",
    "\n",
    "print(\"Iterating over the sentence:\")\n",
    "for word in sentence:\n",
    "    print(word)"
   ]
  },
  {
   "cell_type": "markdown",
   "metadata": {},
   "source": [
    "For each iteration of the loop, the variable `word` changes to the next element in the list:"
   ]
  },
  {
   "cell_type": "markdown",
   "metadata": {},
   "source": [
    "![Loop illustration](images/loop.png)"
   ]
  },
  {
   "cell_type": "markdown",
   "metadata": {},
   "source": [
    "`for`-loops iterate over all the elements in a sequence, frequently a list.\n",
    "We can also loop over other kinds of sequences. The function `range()` returns a sequence of numbers:"
   ]
  },
  {
   "cell_type": "code",
   "execution_count": null,
   "metadata": {
    "collapsed": true
   },
   "outputs": [],
   "source": [
    "print(\"Using range:\")\n",
    "for i in range(4):\n",
    "    print(i)"
   ]
  },
  {
   "cell_type": "markdown",
   "metadata": {},
   "source": [
    "### `range(start, stop, step_length)`\n",
    "\n",
    "`range()` can have up to three arguments. If you give all three arguments, range will yield integers starting from and *including* `start`, up to but *excluding* `stop`, in steps of size `step_length`.\n",
    "\n",
    "If you only give two arguments, the step length will be 1.\n",
    "\n",
    "If you only give a single argument, the starting point will be zero."
   ]
  },
  {
   "cell_type": "markdown",
   "metadata": {},
   "source": [
    "### <span style=\"color:green\"> Exercise: Using `range` </span>\n",
    " \n",
    " Predict what will be printed when running the code snippet below:"
   ]
  },
  {
   "cell_type": "code",
   "execution_count": null,
   "metadata": {
    "collapsed": true
   },
   "outputs": [],
   "source": [
    "for i in range(0, 3, 2):\n",
    "    print(i)"
   ]
  },
  {
   "cell_type": "markdown",
   "metadata": {},
   "source": [
    "### <span style=\"color:green\"> Exercise: Using `range` when Indexing </span>\n",
    " \n",
    "Predict what will be printed when running the code snippet below:"
   ]
  },
  {
   "cell_type": "code",
   "execution_count": null,
   "metadata": {
    "collapsed": true
   },
   "outputs": [],
   "source": [
    "message = [\"You\", \"don't\", \"understand!\"]\n",
    "\n",
    "for i in range(0, 3, 2):\n",
    "    print(message[i])"
   ]
  },
  {
   "cell_type": "markdown",
   "metadata": {
    "collapsed": true
   },
   "source": [
    "## Nested Loops \n",
    "\n",
    "When we put a loop inside another loop, we call them nested loops. We can use nested loops to iterate over nested lists.\n",
    "\n",
    "Remember that ``` odd_and_even = [odd, even] ```."
   ]
  },
  {
   "cell_type": "code",
   "execution_count": null,
   "metadata": {
    "collapsed": true
   },
   "outputs": [],
   "source": [
    "for items in odd_and_even:\n",
    "    for number in items:\n",
    "        print(number)"
   ]
  },
  {
   "cell_type": "markdown",
   "metadata": {},
   "source": [
    "###  <span style=\"color:green\"> Exercise: Nested Loops </span>\n",
    "We can also use nested loops with `range`. Explain the loop below."
   ]
  },
  {
   "cell_type": "code",
   "execution_count": null,
   "metadata": {
    "collapsed": true
   },
   "outputs": [],
   "source": [
    "for i in range(4):\n",
    "    print(\"Main loop i =\", i)\n",
    "    for j in range(i+1):\n",
    "        print(\"\\tInner loop j =\", j)"
   ]
  },
  {
   "cell_type": "markdown",
   "metadata": {},
   "source": [
    "## Key points\n",
    "\n",
    "- We can make lists of items\n",
    "- We use indexes to access items in lists: `things[3]` or `many_things[0][4]`\n",
    "- Modify lists using `append()` and other functions\n",
    "- Use `loop` to iterate over lists"
   ]
  }
 ],
 "metadata": {
  "kernelspec": {
   "display_name": "Python 3",
   "language": "python",
   "name": "python3"
  },
  "language_info": {
   "codemirror_mode": {
    "name": "ipython",
    "version": 3
   },
   "file_extension": ".py",
   "mimetype": "text/x-python",
   "name": "python",
   "nbconvert_exporter": "python",
   "pygments_lexer": "ipython3",
   "version": "3.6.3"
  }
 },
 "nbformat": 4,
 "nbformat_minor": 2
}
