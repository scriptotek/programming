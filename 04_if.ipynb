{
 "cells": [
  {
   "cell_type": "markdown",
   "metadata": {},
   "source": [
    "# `if`-tests\n",
    "\n",
    "How can we use Python to automatically recognize different features in our data, and take a different action for each?\n",
    "Here, we will learn how to write code that executes only when certain conditions are true.\n",
    "\n",
    "We can tell Python to take an action depending on the value of a variable:"
   ]
  },
  {
   "cell_type": "code",
   "execution_count": null,
   "metadata": {},
   "outputs": [],
   "source": [
    "length = 42\n",
    "if length > 100:\n",
    "    print('greater')\n",
    "else:\n",
    "    print('smaller')\n",
    "print('done')"
   ]
  },
  {
   "cell_type": "markdown",
   "metadata": {},
   "source": [
    "This code can be illustrated with a flowchart:\n",
    "![if illustration](images/if.png)"
   ]
  },
  {
   "cell_type": "markdown",
   "metadata": {},
   "source": [
    "The else part is optional, and can be skipped:"
   ]
  },
  {
   "cell_type": "code",
   "execution_count": null,
   "metadata": {},
   "outputs": [],
   "source": [
    "length = 42\n",
    "if length > 100:\n",
    "    print('greater')\n",
    "print('done')"
   ]
  },
  {
   "cell_type": "markdown",
   "metadata": {},
   "source": [
    "## `elif`\n",
    "\n",
    "We can chain multiple `if`-tests with \n",
    "`elif`, short for \"else if\"."
   ]
  },
  {
   "cell_type": "code",
   "execution_count": null,
   "metadata": {},
   "outputs": [],
   "source": [
    "temperature = -5\n",
    "\n",
    "if temperature > 0:\n",
    "    print(\"it's warm\")\n",
    "elif temperature == 0:\n",
    "    print(\"it's cold\")\n",
    "elif temperature < 0:\n",
    "    print(\"it's freezing\")"
   ]
  },
  {
   "cell_type": "markdown",
   "metadata": {},
   "source": [
    "Only the first test that yields `True` is executed:"
   ]
  },
  {
   "cell_type": "code",
   "execution_count": null,
   "metadata": {},
   "outputs": [],
   "source": [
    "if False:\n",
    "     print(\"False, so will not be printed\")\n",
    "elif False:\n",
    "    print(\"also False, so will not be printed\")\n",
    "elif True:\n",
    "    print(\"first True, so this will be printed\")\n",
    "elif True:\n",
    "    print(\"True, but will not be printed as the previous test was True\")"
   ]
  },
  {
   "cell_type": "markdown",
   "metadata": {},
   "source": [
    "## `boolean` expressions\n",
    "\n",
    "The comparisons that are part of the if statements in the examples are boolean expressions.\n",
    "Boolean expressions include comparisons, equality (`==`) and inequality (`!=`)."
   ]
  },
  {
   "cell_type": "markdown",
   "metadata": {},
   "source": [
    "## Exercise: count dissenting opinions\n",
    "\n",
    "In the code below, we loop through a list of cases from the Case Law Api, then\n",
    "loop through the opinions for each of those cases. Each `opinion` has a `\"type\"`\n",
    "field which describes if it's a majority opinion, dissenting opinion or concurring opinion. \n",
    "First, try to run the code below to check if you can print out the value of this field for each opinion:"
   ]
  },
  {
   "cell_type": "code",
   "execution_count": null,
   "metadata": {},
   "outputs": [],
   "source": [
    "import requests\n",
    "import json\n",
    "\n",
    "URL = \"https://api.case.law/v1/cases/?jurisdiction=ill&full_case=true&decision_date_min=2011-01-01&page_size=20\"\n",
    "data = requests.get(URL).json()\n",
    "\n",
    "cases = data[\"results\"]\n",
    "for case in cases:\n",
    "    opinions = case[\"casebody\"][\"data\"][\"opinions\"]\n",
    "    for opinion in opinions:\n",
    "        print(opinion[\"type\"])"
   ]
  },
  {
   "cell_type": "markdown",
   "metadata": {},
   "source": [
    "Now, try to modify the code below to count the number of dissenting opinions by using an `if` test with `opinion[\"type\"]`.\n",
    "If you find a dissent, you will need to increase the variable `dissent_count`:"
   ]
  },
  {
   "cell_type": "code",
   "execution_count": null,
   "metadata": {
    "collapsed": true
   },
   "outputs": [],
   "source": [
    "import requests\n",
    "import json\n",
    "\n",
    "URL = \"https://api.case.law/v1/cases/?jurisdiction=ill&full_case=true&decision_date_min=2011-01-01&page_size=20\"\n",
    "data = requests.get(URL).json()\n",
    "\n",
    "dissent_count = 0\n",
    "\n",
    "cases = data[\"results\"]\n",
    "for case in cases:\n",
    "    opinions = case[\"casebody\"][\"data\"][\"opinions\"]\n",
    "    for opinion in opinions:\n",
    "        # Your code here:\n",
    "\n",
    "print(\"Number of dissents:\", dissent_count)"
   ]
  }
 ],
 "metadata": {
  "kernelspec": {
   "display_name": "Python 3",
   "language": "python",
   "name": "python3"
  },
  "language_info": {
   "codemirror_mode": {
    "name": "ipython",
    "version": 3
   },
   "file_extension": ".py",
   "mimetype": "text/x-python",
   "name": "python",
   "nbconvert_exporter": "python",
   "pygments_lexer": "ipython3",
   "version": "3.6.3"
  }
 },
 "nbformat": 4,
 "nbformat_minor": 2
}
