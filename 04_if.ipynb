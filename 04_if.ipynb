{
 "cells": [
  {
   "cell_type": "markdown",
   "metadata": {},
   "source": [
    "# `if`-tester \n",
    "\n",
    "På samme måte som `assert` skjekker `if` om et uttrykk er `True` eller `False`. Under ligger to illustrative eksempel på hvordan `if`-tester fungerer."
   ]
  },
  {
   "cell_type": "code",
   "execution_count": null,
   "metadata": {},
   "outputs": [],
   "source": [
    "if True:\n",
    "    print(\"True, so this will be printed\")\n",
    "else:\n",
    "    print(\"Will not be printed since previous was True\")"
   ]
  },
  {
   "cell_type": "code",
   "execution_count": null,
   "metadata": {},
   "outputs": [],
   "source": [
    "if False:\n",
    "    print(\"False, so will not be printed\")\n",
    "else:\n",
    "    print(\"Will be printed since previous was False\")"
   ]
  },
  {
   "cell_type": "markdown",
   "metadata": {},
   "source": [
    "## `elif`\n",
    "\n",
    "`elif` er kort for \"else if\". Når flere tester brukes, vil **den første True** være tellende. "
   ]
  },
  {
   "cell_type": "code",
   "execution_count": null,
   "metadata": {},
   "outputs": [],
   "source": [
    "if False:\n",
    "     print(\"False, so will not be printed\")\n",
    "elif False:\n",
    "    print(\"also False, so will not be printed\")\n",
    "elif True:\n",
    "    print(\"first True, so this will be printed\")\n",
    "elif True:\n",
    "    print(\"True, but will not be printed as the previous test was True\")"
   ]
  },
  {
   "cell_type": "markdown",
   "metadata": {},
   "source": [
    "## `boolean` \n",
    "\n",
    "Eksmeplene over er ment til å illustrere hvordan testene fungerer, men vi bruker selvfølgelig ikke `if True` eller `if False`. Da er det jo ikke noe poeng med å ha testen! \n",
    "\n",
    "`If`-tester brukes mye med ulikhetstegn. (`>` og `<`)."
   ]
  }
 ],
 "metadata": {
  "kernelspec": {
   "display_name": "Python 3",
   "language": "python",
   "name": "python3"
  },
  "language_info": {
   "codemirror_mode": {
    "name": "ipython",
    "version": 3
   },
   "file_extension": ".py",
   "mimetype": "text/x-python",
   "name": "python",
   "nbconvert_exporter": "python",
   "pygments_lexer": "ipython3",
   "version": "3.6.3"
  }
 },
 "nbformat": 4,
 "nbformat_minor": 2
}
