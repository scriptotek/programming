{
 "cells": [
  {
   "cell_type": "markdown",
   "metadata": {},
   "source": [
    "# User Input\n",
    "\n",
    "Det er utrolig mye man kan gjøre med user input, men vi skal her begrense oss til å ta inn enkle variabler fra bruker. Programmet skal være ferdig skrevet, men nye variabler kan gis hver gang man kjører programmet, uten å endre koden.\n",
    "\n",
    "**OBS!** All user input kommer inn som `String`. Hvis input er tall som skal brukes til beregninger, må disse gjøres om til riktig datatype, ofte `int` eller `float`. Dette gjøres slik som vist på eksempelet under. Merk at `int` og `str` ser like ut, uten at de er det. `a_int` kan brukes i utregninger, mens `a` kan ikke det."
   ]
  },
  {
   "cell_type": "code",
   "execution_count": 1,
   "metadata": {},
   "outputs": [
    {
     "name": "stdout",
     "output_type": "stream",
     "text": [
      "5 <class 'str'>\n",
      "5 <class 'int'>\n",
      "5.0 <class 'float'>\n"
     ]
    }
   ],
   "source": [
    "a = \"5\"     # This is the number 5 as type String\n",
    "print(a, type(a))\n",
    "\n",
    "a_int = int(a)  # casting a to int \n",
    "print(a_int, type(a_int))\n",
    "\n",
    "a_float = float(a) # casting a to float\n",
    "print(a_float, type(a_float))"
   ]
  },
  {
   "cell_type": "markdown",
   "metadata": {},
   "source": [
    "## Spørre bruker om input\n",
    "\n",
    "Du kan printe ut spørsmål i terminalvinduet ved å bruke `input()`. Programmet venter da til bruker skriver noe og trykker enter. Merk at funksjonen heter `input()` i Python 3 og `raw_input()` i Python 2. Under ligger et enkelt eksempel på hvordan `input()` fungerer. Legg merke til at dersom du bruker en `str` som argument i `input()`\n",
    "-funksjonen, vil denne printes ut i terminal før bruker skriver noe."
   ]
  },
  {
   "cell_type": "code",
   "execution_count": 2,
   "metadata": {},
   "outputs": [
    {
     "name": "stdout",
     "output_type": "stream",
     "text": [
      ">>spam\n",
      "You said 'spam'\n"
     ]
    }
   ],
   "source": [
    "word = input(\">>\")\n",
    "print(\"You said '%s'\" %word)"
   ]
  },
  {
   "cell_type": "markdown",
   "metadata": {},
   "source": [
    "## Input gjennom kommandolinjen\n",
    "\n",
    "Input gjennom kommandolinjen er variabler som spesifiseres samtidig som du kjører programmet. Disse kalles argumenter. Dette gjøres ved å legge til tall eller ord etter filnavnet. Det kan legges til flere argumenter, disse separeres med mellomrom.\n",
    "\n",
    "Argumentene hentes ut ved å bruke `sys.argv`, som er en liste. Det første elementet i `argv`, altså på plass `[0]`, er filnavnet. Derfor begynner man å indeksere på plass `[1]` når argumentene hentes ut. Eksempelet under illustrerer enkelt hvordan argumenter kan hentes fra kommandolinjen."
   ]
  },
  {
   "cell_type": "code",
   "execution_count": 3,
   "metadata": {},
   "outputs": [
    {
     "name": "stdout",
     "output_type": "stream",
     "text": [
      "Writing cml.py\n"
     ]
    }
   ],
   "source": [
    "%%file cml.py\n",
    "from sys import argv\n",
    "\n",
    "filename = argv[0]\n",
    "print(\"the filename is %s\" %filename)\n",
    "\n",
    "word = argv[1]\n",
    "number = float(word)\n",
    "print(\"The number you provided was %.2f\" %number)"
   ]
  },
  {
   "cell_type": "code",
   "execution_count": 4,
   "metadata": {},
   "outputs": [
    {
     "name": "stdout",
     "output_type": "stream",
     "text": [
      "the filename is cml.py\n",
      "The number you provided was 3.14\n"
     ]
    }
   ],
   "source": [
    "%run cml.py 3.14159265359"
   ]
  },
  {
   "cell_type": "markdown",
   "metadata": {},
   "source": [
    "# Håndtering av `Error`\n",
    "\n",
    "Feilmeldinger kan håndteres slik at programmet ikke kræsjer. Slik kan det gis flere sjanser til å fullføre hele programmet. Det kan også være bra med en egendefinert feilmelding. Hvis programmet skal avsluttes etter at feilen er fanget opp, kan `sys.exit()` brukes.\n",
    "\n",
    "Håndetering av feilmeldinger gjøres ved å bruke `try` og `except`. Som vist i eksempelet under, kan flere forskjellige typer `Error` fanges opp i samme `try`. En mer generell metode som fanger opp alle feil samtidig er `except Error`, men da behandles alle feil likt. Et eksempel på feil er at bruker gir uventet input, slik som å skrive `\"to\"` istedenfor `2`. Du får da en `TypeError`.\n",
    "\n",
    "```\n",
    "try:\n",
    "    # write the code that may create Errors\n",
    "except IndexError:\n",
    "    # Handle this error\n",
    "except ValueError:\n",
    "    # Handle this error\n",
    "```\n",
    "\n",
    "###  `raise`\n",
    "\n",
    "Du kan også tvinge frem dine egne feilmeldinger ved å bruke `rasie Error`. Et eksempel er gitt under."
   ]
  },
  {
   "cell_type": "code",
   "execution_count": 5,
   "metadata": {},
   "outputs": [
    {
     "ename": "ValueError",
     "evalue": "Write your own message here",
     "output_type": "error",
     "traceback": [
      "\u001b[0;31m---------------------------------------------------------------------------\u001b[0m",
      "\u001b[0;31mValueError\u001b[0m                                Traceback (most recent call last)",
      "\u001b[0;32m<ipython-input-5-9bb55c08eee4>\u001b[0m in \u001b[0;36m<module>\u001b[0;34m()\u001b[0m\n\u001b[0;32m----> 1\u001b[0;31m \u001b[0;32mraise\u001b[0m \u001b[0mValueError\u001b[0m\u001b[0;34m(\u001b[0m\u001b[0;34m\"Write your own message here\"\u001b[0m\u001b[0;34m)\u001b[0m\u001b[0;34m\u001b[0m\u001b[0;34m\u001b[0m\u001b[0m\n\u001b[0m",
      "\u001b[0;31mValueError\u001b[0m: Write your own message here"
     ]
    }
   ],
   "source": [
    "raise ValueError(\"Write your own message here\")"
   ]
  },
  {
   "cell_type": "markdown",
   "metadata": {},
   "source": [
    "# Lese og skrive fil i Python\n",
    "\n",
    "For å kunne lese og skrive til en tekstfil i Python, må filen først åpnes. I IN1900 blir det undervist to forskjellige måter å åpne tekstfiler på i Python. Under kommer jeg kun til å bruke `with open()`. Dette er en personlig preferanse. Denne måten krever indentering, men man slipper å tenke på å lukke filen etter den er åpnet. Begge måter som er forelest i IN1900 kan selvfølgelig brukes både på obliger og eksamen.\n",
    "\n",
    "## Skrive til fil\n",
    "\n",
    "**`with open(filename, \"w\") as outfile:`**\n",
    "\n",
    "`\"w\"` står for write, og indikerer at du skal skrive til filen. Det er en konvensjon å kalle filer du skriver til for `outfile`.\n",
    "\n",
    "`outfile.write()` brukes til å skrive til fil. Du kan formatere det du skriver til fil på samme måte som du formatterer i `print()`, altså ved å bruke `\\%`.\n",
    "\n",
    "Tegnet newline `\"\\n\"` brukes for å markere en ny linje. Hvis du ikke bruker dette, kommer alt på én linje i tekstfilen du skriver!\n",
    "\n",
    "Under ligger et eksempel på skriving til en tekstfil i Python."
   ]
  },
  {
   "cell_type": "code",
   "execution_count": 6,
   "metadata": {},
   "outputs": [],
   "source": [
    "with open('eksempel.txt', \"w\") as outfile:\n",
    "    outfile.write(\"Paracetamol contains:\\n\")\n",
    "    outfile.write(\"8 C, M is 12.011 g/mol\\n\")\n",
    "    outfile.write(\"9 H, M is 1.0079 g/mol\\n\")\n",
    "    outfile.write(\"1 N, M is 14.007 g/mol\\n\")\n",
    "    outfile.write(\"2 O, M is 15.999 g/mol\")"
   ]
  },
  {
   "cell_type": "markdown",
   "metadata": {},
   "source": [
    "## Lese fil\n",
    "\n",
    "\n",
    "**`with open(filename, \"r\") as infile:`**\n",
    "\n",
    "Her står `\"r\"` for read, og indikerer at du skal lese filen. Det er en konvensjon å kalle filer du leser for `infile`.\n",
    "\n",
    "Under er det enkleste eksempelet av lesing av fil. Hver linje av filen som ble skrevet i forrige kodesnutt printes ut."
   ]
  },
  {
   "cell_type": "code",
   "execution_count": 7,
   "metadata": {},
   "outputs": [
    {
     "name": "stdout",
     "output_type": "stream",
     "text": [
      "Paracetamol contains:\n",
      "8 C, M is 12.011 g/mol\n",
      "9 H, M is 1.0079 g/mol\n",
      "1 N, M is 14.007 g/mol\n",
      "2 O, M is 15.999 g/mol\n"
     ]
    }
   ],
   "source": [
    "with open('eksempel.txt', \"r\") as infile:\n",
    "    for line in infile:\n",
    "        print(line.strip())"
   ]
  },
  {
   "cell_type": "markdown",
   "metadata": {},
   "source": [
    "`infile.readline()` leser én linje i filen. Hver gang du bruker `readline()`, kommer det derfor en ny linje. **Filen leses fra første linje og nedover.** Alle linjer vil kun leses én gang. Dersom linjen skal brukes til noe, må den derfor lagres som en variabel. **Alle linjer er av typen `String`.**\n",
    "\n",
    "\n",
    "**`strip()`** brukes til å ta bort `char`s i begynnelsen og enden av en `String`. Hvis ikke noe er spesifisert, tar den bort mellomrom, tabs og newlines (`\\n`).\n",
    "\n",
    "**`split()`** tar en `String` og deler den opp i en liste. Hvis ingenting er spesifisert, deler den på mellomrom. Denne funksjonen brukes mye når filer leses i Python. Husk at alle elementene i en liste laget av `split()` også er av typen `String`. \n",
    "\n",
    "`infile` kan itereres gjennom på samme måte som en liste. På denne måten kan du få Pythonkoden til å si: for hver linje i filen: gjør følgende. **Merk at de linjene som allerede har blitt lest, ikke vil komme med i løkken.**\n",
    "\n",
    "\n",
    "Under ligger et eksempel på lesing av fil. Filen som blir lest, er den som ble generert i forrige avsnitt. Merk at den første linjen blir behandlet annerledes. Her printes det også mye. Dette er kun ment til å illustrere hva som skjer når du bruker `readline()`, `strip()` og `split()`. \n",
    "\n",
    "I løkken behandles linje 2 - 5 likt. Her regnes det ut den molare massen til molekylet beskrevet i filen. For hver linje hentes `n` og `this_M` ut. `n` er antall atomer spesifisert på linjen i molekylet, og er det første elementet på linjen og i listen (`[0]`). `this_M` er den molare massen til atomet på linjen, og ligger som nest siste elementet på linjen og i listen (`[-2]`). For å regne ut molekylmassebidraget til atomet på linjen, ganges den molare massen med antall atomer. Summen av bidraget fra alle atomene utgjør den molare massen til molekylet."
   ]
  },
  {
   "cell_type": "code",
   "execution_count": 8,
   "metadata": {},
   "outputs": [
    {
     "name": "stdout",
     "output_type": "stream",
     "text": [
      "first line:  Paracetamol contains:\n",
      "list of the first line:  ['Paracetamol', 'contains:']\n",
      "The molas mass of Paracetamol is 151.16 g/mol\n"
     ]
    }
   ],
   "source": [
    "with open('eksempel.txt', \"r\") as infile:\n",
    "    first_line = infile.readline().strip()\n",
    "    print(\"first line: \", first_line)\n",
    "    first_line_list = first_line.split()\n",
    "    print(\"list of the first line: \", first_line_list)\n",
    "    name = first_line_list[0]\n",
    "    M = 0\n",
    "    for line in infile:\n",
    "        this_line = line.strip().split()\n",
    "        n = int(this_line[0])\n",
    "        this_M = float(this_line[-2])\n",
    "        M += n*this_M\n",
    "        \n",
    "print(\"The molas mass of %s is %.2f g/mol\" %(name, M))"
   ]
  }
 ],
 "metadata": {
  "kernelspec": {
   "display_name": "Python 3",
   "language": "python",
   "name": "python3"
  },
  "language_info": {
   "codemirror_mode": {
    "name": "ipython",
    "version": 3
   },
   "file_extension": ".py",
   "mimetype": "text/x-python",
   "name": "python",
   "nbconvert_exporter": "python",
   "pygments_lexer": "ipython3",
   "version": "3.6.8"
  }
 },
 "nbformat": 4,
 "nbformat_minor": 2
}
