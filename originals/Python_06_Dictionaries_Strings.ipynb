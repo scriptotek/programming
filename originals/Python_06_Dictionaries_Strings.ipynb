{
 "cells": [
  {
   "cell_type": "markdown",
   "metadata": {},
   "source": [
    "# Dictionaries \n",
    "\n",
    "Dictionaries er en veldig fleksibel måte å lagre data på. Dictionaries kan gjennkjennes ved krøllparenteser `{}`. \n",
    "\n",
    "**Et dictionary har egendefinerte indekser, disse kalles nøkler.**\n"
   ]
  },
  {
   "cell_type": "code",
   "execution_count": 1,
   "metadata": {},
   "outputs": [
    {
     "name": "stdout",
     "output_type": "stream",
     "text": [
      "<class 'dict'>\n"
     ]
    }
   ],
   "source": [
    "dictionary = {}\n",
    "print(type(dictionary))"
   ]
  },
  {
   "cell_type": "markdown",
   "metadata": {},
   "source": [
    "## Opprette dictionaries\n",
    "Under vises hvordan man initialiserer et dictionary, og hvordan man kan legge inn nye elementer etterpå."
   ]
  },
  {
   "cell_type": "code",
   "execution_count": 1,
   "metadata": {},
   "outputs": [
    {
     "name": "stdout",
     "output_type": "stream",
     "text": [
      "{'key1': 2, 'key2': 4, 'key3': 6}\n"
     ]
    }
   ],
   "source": [
    "empty_dict = {}\n",
    "\n",
    "value1 = 2\n",
    "value2 = 4\n",
    "my_dict = {\"key1\": value1, \"key2\": value2}\n",
    "# adding key and value to my_dict\n",
    "my_dict[\"key3\"] = 6\n",
    "\n",
    "print(my_dict)"
   ]
  },
  {
   "cell_type": "markdown",
   "metadata": {},
   "source": [
    "## Indeksere dictionaries\n",
    "\n",
    "Å hente ut elementer i et dictionary er veldig analogt med å indeksere liser og arrays, men nøklene i dictionaries er ikke lengre nødvendigvis tall."
   ]
  },
  {
   "cell_type": "code",
   "execution_count": 2,
   "metadata": {},
   "outputs": [
    {
     "name": "stdout",
     "output_type": "stream",
     "text": [
      "6\n"
     ]
    }
   ],
   "source": [
    "value3 = my_dict[\"key3\"]\n",
    "print(value3)"
   ]
  },
  {
   "cell_type": "markdown",
   "metadata": {},
   "source": [
    "### Iterere gjennom dictionaries  \n",
    "\n",
    "Når du itererer gjennom et dictionary, **itererer du over nøklene, ikke verdiene.** \n",
    "\n",
    "** `for key in dictionary` **\n",
    "\n",
    "\n",
    "Dette er vist i et eksempel under. "
   ]
  },
  {
   "cell_type": "code",
   "execution_count": 3,
   "metadata": {},
   "outputs": [
    {
     "name": "stdout",
     "output_type": "stream",
     "text": [
      "Molar mass of  H is 1.0079 g/mol\n",
      "Molar mass of He is 4.0026 g/mol\n",
      "Molar mass of Li is  6.941 g/mol\n",
      "Molar mass of Be is  9.012 g/mol\n",
      "Molar mass of  B is 10.811 g/mol\n",
      "Molar mass of  C is 12.011 g/mol\n",
      "Molar mass of  N is 14.007 g/mol\n",
      "Molar mass of  O is 15.999 g/mol\n",
      "Molar mass of  F is 18.998 g/mol\n",
      "Molar mass of Ne is  20.18 g/mol\n"
     ]
    }
   ],
   "source": [
    "molar_mass = {'H': 1.0079, 'He': 4.0026, \\\n",
    "    'Li': 6.941, 'Be': 9.012, 'B': 10.811, 'C': 12.011, 'N': 14.007, 'O': 15.999, 'F': 18.998, 'Ne': 20.180}\n",
    "\n",
    "for element in molar_mass:\n",
    "    mass = molar_mass[element]\n",
    "    print(\"Molar mass of %2s is %6g g/mol\" %(element, mass))"
   ]
  },
  {
   "cell_type": "markdown",
   "metadata": {},
   "source": [
    "### Er nøkkelen i dictionary?\n",
    "\n",
    "**`key in dictionary`** vil være `True` eller `False`.\n",
    "\n",
    "Slik kan du kan sjekke om en nøkkel eksisterer i et dictionary."
   ]
  },
  {
   "cell_type": "code",
   "execution_count": 4,
   "metadata": {},
   "outputs": [
    {
     "name": "stdout",
     "output_type": "stream",
     "text": [
      "Molar mass of He is 4.0026 g/mol.\n",
      "Molar mass of Ne is  20.18 g/mol.\n",
      "Ar in not in the dictionary!\n",
      "Kr in not in the dictionary!\n"
     ]
    }
   ],
   "source": [
    "keys = [\"He\", \"Ne\", \"Ar\", \"Kr\"]\n",
    "\n",
    "for key in keys:\n",
    "    if key in molar_mass:\n",
    "        mass = molar_mass[key]\n",
    "        print(\"Molar mass of %2s is %6g g/mol.\" %(key, mass))\n",
    "    else:\n",
    "        print(\"%s in not in the dictionary!\" %key)"
   ]
  },
  {
   "cell_type": "markdown",
   "metadata": {},
   "source": [
    "## Nøstede dictionaries\n",
    "\n",
    "Under ligger et eksempel på et dictionary som inneholder to dictionaries. Eksempelet er et dictionary som inneholder begge grunnstoff fra første periode i periodesystemet. Hvert grunnstoff har et eget dictionary med informasjon om molar masse `M` og beregnet atomradius `r`.\n",
    "\n",
    "Merk hvordan nøstede dictionaries indekseres!"
   ]
  },
  {
   "cell_type": "code",
   "execution_count": 5,
   "metadata": {},
   "outputs": [
    {
     "name": "stdout",
     "output_type": "stream",
     "text": [
      "H  has a molar mass of 1.0079 g/mol and an atomic radius of 53 pm.\n",
      "He has a molar mass of 4.0026 g/mol and an atomic radius of 31 pm.\n"
     ]
    }
   ],
   "source": [
    "period_1 = {'H': {'M' : 1.0079, 'r' : 53}, 'He': {'M' : 4.0026, 'r' : 31}}\n",
    "\n",
    "for element in period_1:\n",
    "    sub_dict = period_1[element]\n",
    "    mass = sub_dict['M']\n",
    "    radius = sub_dict['r']\n",
    "    print('%-2s has a molar mass of %.4f g/mol and an atomic radius of %d pm.' %(element, mass, radius))"
   ]
  },
  {
   "cell_type": "markdown",
   "metadata": {},
   "source": [
    "# Strings\n",
    "\n",
    "Objekter av typen String har mange funksjoner. Det vil kun bli gjennomgått noen få av disse.\n",
    "\n",
    "Mye på samme måte som i dictionaries, kan du teste om en sub-string finnes i en String. Dette er vist under.\n",
    "\n",
    "<span style=\"color:green\">Kan du se hvorfor den finner `men` som en sub-String?</span>"
   ]
  },
  {
   "cell_type": "code",
   "execution_count": 6,
   "metadata": {},
   "outputs": [
    {
     "name": "stdout",
     "output_type": "stream",
     "text": [
      "'women' was found in my_string\n",
      "'men' was found in my_string\n",
      "'Camelot' was not found in my_string\n"
     ]
    }
   ],
   "source": [
    "my_string = \"Strange women lying in ponds, distributing swords, is no basis for a system of government!\"\n",
    "\n",
    "sub_strings = [\"women\", \"men\", \"Camelot\"]\n",
    "\n",
    "for sub_string in sub_strings:\n",
    "    if sub_string in my_string:\n",
    "        print(\"'%s' was found in my_string\" %sub_string)\n",
    "    else:\n",
    "        print(\"'%s' was not found in my_string\" %sub_string)\n"
   ]
  },
  {
   "cell_type": "markdown",
   "metadata": {},
   "source": [
    "###  `string.split()`\n",
    "\n",
    "`split()` deler en String inn i en liste. Hvis intet annet blir spesifisert, deler den på mellomrom."
   ]
  },
  {
   "cell_type": "code",
   "execution_count": 7,
   "metadata": {},
   "outputs": [
    {
     "name": "stdout",
     "output_type": "stream",
     "text": [
      "['Strange', 'women', 'lying', 'in', 'ponds,', 'distributing', 'swords,', 'is', 'no', 'basis', 'for', 'a', 'system', 'of', 'government!']\n"
     ]
    }
   ],
   "source": [
    "string_list = my_string.split()\n",
    "print(string_list)"
   ]
  },
  {
   "cell_type": "markdown",
   "metadata": {},
   "source": [
    "Du kan også spesifisere hva den skal dele på ved å sende inn argument, som vist under"
   ]
  },
  {
   "cell_type": "code",
   "execution_count": 8,
   "metadata": {},
   "outputs": [
    {
     "name": "stdout",
     "output_type": "stream",
     "text": [
      "['Strange women lying in ponds', ' distributing swords', ' is no basis for a system of government!']\n"
     ]
    }
   ],
   "source": [
    "string_list = my_string.split(\",\")\n",
    "print(string_list)"
   ]
  },
  {
   "cell_type": "markdown",
   "metadata": {},
   "source": [
    "### Indeksere Strings\n",
    "\n",
    "Du kan indeksere objekt av typen String. Indeksene tilhører \"characters\", ikke ord!"
   ]
  },
  {
   "cell_type": "code",
   "execution_count": 9,
   "metadata": {},
   "outputs": [
    {
     "name": "stdout",
     "output_type": "stream",
     "text": [
      "First char in my_string is 'S'\n",
      "Last char in my_string is '!'\n"
     ]
    }
   ],
   "source": [
    "print(\"First char in my_string is '%s'\" %my_string[0])\n",
    "print(\"Last char in my_string is '%s'\" %my_string[-1])"
   ]
  },
  {
   "cell_type": "code",
   "execution_count": 10,
   "metadata": {},
   "outputs": [
    {
     "name": "stdout",
     "output_type": "stream",
     "text": [
      "basis \n"
     ]
    }
   ],
   "source": [
    "sub_string = my_string[57:63]\n",
    "print(sub_string)"
   ]
  },
  {
   "cell_type": "markdown",
   "metadata": {},
   "source": [
    "### `string.replace()` \n",
    "\n",
    "`string.replace()`  tar to argument. Første er hva som skal byttes ut, andre argument er hva den skal byttes med.\n",
    "\n",
    "Et nyttig eksempel på bruk av replace er når man leser filer. Noen filer vil bruke komma istendenfor punktum for å skille desimaler på tall. Dette må fikses FØR den tallet konverteres til float. "
   ]
  },
  {
   "cell_type": "code",
   "execution_count": 11,
   "metadata": {},
   "outputs": [
    {
     "name": "stdout",
     "output_type": "stream",
     "text": [
      "3.14\n"
     ]
    }
   ],
   "source": [
    "number = \"1,57\"\n",
    "number = number.replace(',', '.')   # number is now string object \"1.57\"\n",
    "number = float(number)              # number is now float 1.57\n",
    "print(number*2)"
   ]
  }
 ],
 "metadata": {
  "kernelspec": {
   "display_name": "Python 3",
   "language": "python",
   "name": "python3"
  },
  "language_info": {
   "codemirror_mode": {
    "name": "ipython",
    "version": 3
   },
   "file_extension": ".py",
   "mimetype": "text/x-python",
   "name": "python",
   "nbconvert_exporter": "python",
   "pygments_lexer": "ipython3",
   "version": "3.6.8"
  }
 },
 "nbformat": 4,
 "nbformat_minor": 2
}
