{
 "cells": [
  {
   "cell_type": "markdown",
   "metadata": {},
   "source": [
    "# Funksjoner\n",
    "\n",
    "**Poenget med en funksjon er å slippe å skrive lik kode flere ganger.** En funksjon er en samling kommandoer som kan kjøres uten at koden skrives på nytt. Kommandoene i funksjonen utføres kun når funksjonen blir kalt på. \n",
    "\n",
    "Funksjoner kjennetegnes ved `def`. Så skrives navnet på funksjonen etterfulgt av parenteser. Inni parentesen skrives parameternavnene. Hvis det sendes inn flere parametere, skilles disse med komma. Linjene under som har et innrykk, vil *tilhøre* funksjonen. Funksjonen avsluttes enten ved at det ikke er flere linjer igjen (neste linje har da ikke innrykk, og tilhører ikke funksjonen), eller funksjonen treffer på `return`.\n",
    "\n",
    "```\n",
    "# This line does not belong to the function \n",
    "def function_name(parameter):\n",
    "    # This line is part of the function (has indent)\n",
    "    ....\n",
    "    return output_value\n",
    "\n",
    "# This line does not belong to the function (no indent)\n",
    "```\n"
   ]
  },
  {
   "cell_type": "code",
   "execution_count": 8,
   "metadata": {},
   "outputs": [
    {
     "name": "stdout",
     "output_type": "stream",
     "text": [
      "<class 'function'>\n"
     ]
    }
   ],
   "source": [
    "def my_func(parameter):\n",
    "    some_change = 10\n",
    "    return paramters + some_change\n",
    "\n",
    "print(type(my_func))"
   ]
  },
  {
   "cell_type": "markdown",
   "metadata": {},
   "source": [
    "## Parametere\n",
    "\n",
    "For at funksjonene skal være lette å gjenbruke, inneholder de parametere. **Verdiene til parameterne er ikke bestemt i funksjonen, men sendes med funksjonskallet.** Navnene på parameterne er viktig å holde konsekvente når de brukes *inne* i funksjonen. Disse må være lik navnene innenfor parentesene på linjen med `def`. Da forstår Python at det er ment som en *ukjent* i funksjonen din, og du vil ikke få feilmelding om at variabelen din\n",
    "\"is not defined\". \n",
    "\n",
    "**Derimot er navnet på variablene du sender inn i funksjonskallet IKKE viktig.** Python leser ikke hva disse variablene heter, men sender kun inn verdiene variablene holder i den rekkefølgen de står i."
   ]
  },
  {
   "cell_type": "code",
   "execution_count": 5,
   "metadata": {},
   "outputs": [
    {
     "name": "stdout",
     "output_type": "stream",
     "text": [
      "5\n"
     ]
    }
   ],
   "source": [
    "def subtract(a, b):\n",
    "    return a - b\n",
    "\n",
    "print(subtract(10, 5))"
   ]
  },
  {
   "cell_type": "markdown",
   "metadata": {},
   "source": [
    "Merk hvordan variabelnavnene IKKE er de samme som parameternavn i eksemplene under, men at det er rekkefølgen som teller!"
   ]
  },
  {
   "cell_type": "code",
   "execution_count": 6,
   "metadata": {},
   "outputs": [
    {
     "name": "stdout",
     "output_type": "stream",
     "text": [
      "5\n"
     ]
    }
   ],
   "source": [
    "spam = 10\n",
    "eggs = 5\n",
    "print(subtract(spam, eggs))"
   ]
  },
  {
   "cell_type": "code",
   "execution_count": 7,
   "metadata": {},
   "outputs": [
    {
     "name": "stdout",
     "output_type": "stream",
     "text": [
      "-5\n"
     ]
    }
   ],
   "source": [
    "a = 10\n",
    "b = 5\n",
    "print(subtract(b, a))"
   ]
  },
  {
   "cell_type": "markdown",
   "metadata": {},
   "source": [
    "### Parametere med default \n",
    "\n",
    "Hvis et parameter som oftest har en gitt verdi, kan den settes som default.\n",
    "\n",
    "Et eksempel kan være å regne ut gravitasjonskraften som virker på et legeme. Denne kraften er gitt av $F = m g$ hvor $m$ er massen til legemet og $g$ er gravitasjonskonstanten. Her er massen til objektet en klar kandidat til å bli parameter, mens gravitasjonskonstanten vil *som oftest* være gravitasjonskonstanten til jorden, $g = 9.81$. Funksjonen kan derfor fint sette defaultverdi til $g$, som vist under:"
   ]
  },
  {
   "cell_type": "code",
   "execution_count": 9,
   "metadata": {
    "collapsed": true
   },
   "outputs": [],
   "source": [
    "def F(m, g=9.81):\n",
    "    return m*g"
   ]
  },
  {
   "cell_type": "markdown",
   "metadata": {},
   "source": [
    "For å regne ut gravitasjonskraften som virker på en svale på jorden, trengs kun ett parameter. Skulle du derimot regne ut gravitasjonskraften som virker på en svale som sitter på månen, trengs en annen gravitasjonskonstant, og dermed to parametere til funksjonen. Dette er vist under."
   ]
  },
  {
   "cell_type": "code",
   "execution_count": 15,
   "metadata": {},
   "outputs": [
    {
     "name": "stdout",
     "output_type": "stream",
     "text": [
      "The force working on the swallow on   Earth  is 0.2 N\n",
      "The force working on the swallow on the moon is 0.033 N\n"
     ]
    }
   ],
   "source": [
    "m_swallow = 0.02     #kg\n",
    "\n",
    "F_earth = F(m_swallow)\n",
    "print(\"The force working on the swallow on   Earth  is %.2g N\" %F_earth)\n",
    "\n",
    "g_moon = 1.63\n",
    "F_moon = F(m_swallow, g=g_moon)\n",
    "print(\"The force working on the swallow on the moon is %.2g N\" %F_moon)"
   ]
  },
  {
   "cell_type": "markdown",
   "metadata": {},
   "source": [
    "##  `return`\n",
    "\n",
    "Resultatet fra funksjonen sendes ut gjennom `return`. Når funksjonen støter på `return`, vil funksjonskallet avsluttes. I eksempelet under vil kodelinjen under `return` altså aldri bli brukt!"
   ]
  },
  {
   "cell_type": "code",
   "execution_count": 1,
   "metadata": {},
   "outputs": [
    {
     "name": "stdout",
     "output_type": "stream",
     "text": [
      "Now you have called the function\n",
      "output =  This String was returned\n"
     ]
    }
   ],
   "source": [
    "def what_happens_after_return():\n",
    "    print(\"Now you have called the function\")\n",
    "    return \"This String was returned\"\n",
    "    print(\"This will not be printed\")\n",
    "\n",
    "output = what_happens_after_return()\n",
    "print(\"output = \", output)"
   ]
  },
  {
   "cell_type": "markdown",
   "metadata": {},
   "source": [
    "## Funksjonskall\n",
    "\n",
    "Ved \"kall på funksjonen\" menes det at man skal skrive kommandoen for å kjøre funksjonen. Hvis en funksjon heter `f(x)`, hvor `x` er et tall, er et funksjonskall vist under\n",
    "\n",
    "```\n",
    "returned_value = f(5.4)\n",
    "```"
   ]
  },
  {
   "cell_type": "markdown",
   "metadata": {},
   "source": [
    "# Testfunksjoner\n",
    "\n",
    "**Poenget med en testfunksjon er å teste om en funksjon fungerer slik som forventet.**  Hvis alt er greit, er testfunksjonen *stille*, den printer altså ingenting. Dersom funksjonen som testfunksjonen tester har en feil, vil du få en `AssertionError`. Under er det vist oppsett for en typisk testfunksjon. Merk at testfunksjonen må kalles på!\n",
    "\n",
    "\n",
    "```\n",
    "def f(x):\n",
    "    y = ...\n",
    "    return y\n",
    "\n",
    "def test_f():\n",
    "    x_value = ...\n",
    "    expected = ...\n",
    "    computed = f(x_value)\n",
    "    tol = 1e-12\n",
    "    success = abs(expected - computed) < tol\n",
    "    assert success\n",
    "\n",
    "test_f()\n",
    "```\n",
    "\n",
    "**Merk at navnet på testfunksjonen er det samme som det funksjonen den tester heter, med `test_` foran.** \n",
    "\n",
    "En testfunksjon skal **ikke** ta inn noen parameter, og den skal **ikke** returnere noe. Hva komponentene i en testfunksjon er, vil bli beskrevet i de neste paragrafene.\n",
    "\n",
    "### `expected` \n",
    "`expected` er den verdien du forventer å få, når du sender inn noen gitte parametere. Denne verdien må være kjent på forhånd, og må med sikkerhet være riktig. Her kan du **ALDRI bruke den tilhørende funksjonen til å finne `expected`**. Da tester du ikke om funksjonen er riktig, men om funksjonen er lik seg selv, og det er den alltid.\n",
    "\n",
    "### `computed`\n",
    "`computed` er **ALLTID et kall på funksjonen du tester**. Her skal du sende inn parameterne som gjør at du vil forvente å få `expected` returnert av funksjonen.\n",
    "\n",
    "### `success`\n",
    "`success` er en `Boolean`, altså `True` eller `False`. Når returverdien er en `float`, må man sjekke at `expected` og `computed` er lik, **med en viss toleranse** (på grunn av unøyaktig representasjon av tall i datamaskinen). Dette gjøres ved å ta absoluttverdien av de to verdiene og sette de til mindre enn `tol`, som er toleransen, slik som vist i eksempelet over.\n",
    "\n",
    "### `assert`\n",
    "`assert` sjekker om noe er `True` eller `False`. Hvis det som står etter `assert` er `True`, skjer ingenting. Hvis det som står etter `assert` er `False`, oppstår det en `AssertionError`, og programmet avsluttes. `assert` er ikke som `return`, du kan bruke `assert` flere ganger i samme funksjon uten at funksjonenskallet avsluttes."
   ]
  },
  {
   "cell_type": "code",
   "execution_count": 3,
   "metadata": {
    "scrolled": true
   },
   "outputs": [
    {
     "ename": "AssertionError",
     "evalue": "This will be printed, as you are asserting False",
     "output_type": "error",
     "traceback": [
      "\u001b[0;31m---------------------------------------------------------------------------\u001b[0m",
      "\u001b[0;31mAssertionError\u001b[0m                            Traceback (most recent call last)",
      "\u001b[0;32m<ipython-input-3-3b5bee78d233>\u001b[0m in \u001b[0;36m<module>\u001b[0;34m()\u001b[0m\n\u001b[1;32m      1\u001b[0m \u001b[0;32massert\u001b[0m \u001b[0;32mTrue\u001b[0m\u001b[0;34m,\u001b[0m \u001b[0;34m\"This will not be printed, as you are asserting True\"\u001b[0m\u001b[0;34m\u001b[0m\u001b[0;34m\u001b[0m\u001b[0m\n\u001b[0;32m----> 2\u001b[0;31m \u001b[0;32massert\u001b[0m \u001b[0;32mFalse\u001b[0m\u001b[0;34m,\u001b[0m \u001b[0;34m\"This will be printed, as you are asserting False\"\u001b[0m\u001b[0;34m\u001b[0m\u001b[0;34m\u001b[0m\u001b[0m\n\u001b[0m\u001b[1;32m      3\u001b[0m \u001b[0mprint\u001b[0m\u001b[0;34m(\u001b[0m\u001b[0;34m\"This will not be printed, as the line above will terminate the program.\"\u001b[0m\u001b[0;34m)\u001b[0m\u001b[0;34m\u001b[0m\u001b[0;34m\u001b[0m\u001b[0m\n",
      "\u001b[0;31mAssertionError\u001b[0m: This will be printed, as you are asserting False"
     ]
    }
   ],
   "source": [
    "assert True, \"This will not be printed, as you are asserting True\"\n",
    "assert False, \"This will be printed, as you are asserting False\"\n",
    "print(\"This will not be printed, as the line above will terminate the program.\")"
   ]
  },
  {
   "cell_type": "markdown",
   "metadata": {},
   "source": [
    "# `if`-tester \n",
    "\n",
    "På samme måte som `assert` skjekker `if` om et uttrykk er `True` eller `False`. Under ligger to illustrative eksempel på hvordan `if`-tester fungerer."
   ]
  },
  {
   "cell_type": "code",
   "execution_count": 4,
   "metadata": {},
   "outputs": [
    {
     "name": "stdout",
     "output_type": "stream",
     "text": [
      "True, so this will be printed\n"
     ]
    }
   ],
   "source": [
    "if True:\n",
    "    print(\"True, so this will be printed\")\n",
    "else:\n",
    "    print(\"Will not be printed since previous was True\")"
   ]
  },
  {
   "cell_type": "code",
   "execution_count": 5,
   "metadata": {},
   "outputs": [
    {
     "name": "stdout",
     "output_type": "stream",
     "text": [
      "Will be printed since previous was False\n"
     ]
    }
   ],
   "source": [
    "if False:\n",
    "    print(\"False, so will not be printed\")\n",
    "else:\n",
    "    print(\"Will be printed since previous was False\")"
   ]
  },
  {
   "cell_type": "markdown",
   "metadata": {},
   "source": [
    "## `elif`\n",
    "\n",
    "`elif` er kort for \"else if\". Når flere tester brukes, vil **den første True** være tellende. "
   ]
  },
  {
   "cell_type": "code",
   "execution_count": 6,
   "metadata": {},
   "outputs": [
    {
     "name": "stdout",
     "output_type": "stream",
     "text": [
      "first True, so this will be printed\n"
     ]
    }
   ],
   "source": [
    "if False:\n",
    "     print(\"False, so will not be printed\")\n",
    "elif False:\n",
    "    print(\"also False, so will not be printed\")\n",
    "elif True:\n",
    "    print(\"first True, so this will be printed\")\n",
    "elif True:\n",
    "    print(\"True, but will not be printed as the previous test was True\")"
   ]
  },
  {
   "cell_type": "markdown",
   "metadata": {},
   "source": [
    "## `boolean` \n",
    "\n",
    "Eksmeplene over er ment til å illustrere hvordan testene fungerer, men vi bruker selvfølgelig ikke `if True` eller `if False`. Da er det jo ikke noe poeng med å ha testen! \n",
    "\n",
    "`If`-tester brukes mye med ulikhetstegn. (`>` og `<`)."
   ]
  }
 ],
 "metadata": {
  "kernelspec": {
   "display_name": "Python 3",
   "language": "python",
   "name": "python3"
  },
  "language_info": {
   "codemirror_mode": {
    "name": "ipython",
    "version": 3
   },
   "file_extension": ".py",
   "mimetype": "text/x-python",
   "name": "python",
   "nbconvert_exporter": "python",
   "pygments_lexer": "ipython3",
   "version": "3.6.3"
  }
 },
 "nbformat": 4,
 "nbformat_minor": 2
}
