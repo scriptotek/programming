{
 "cells": [
  {
   "cell_type": "markdown",
   "metadata": {},
   "source": [
    "# Grunnleggende Python"
   ]
  },
  {
   "cell_type": "markdown",
   "metadata": {},
   "source": [
    "## Skrive ut i terminalen\n",
    "\n",
    "Når du programmerer i Python brukes funksjonen `print()` til å skrive ut i terminalen. Det som skal printes må legges inni parentesen."
   ]
  },
  {
   "cell_type": "code",
   "execution_count": null,
   "metadata": {},
   "outputs": [],
   "source": [
    "print(2)"
   ]
  },
  {
   "cell_type": "markdown",
   "metadata": {},
   "source": [
    "Du kan skrive ut flere ting i terminalen ved å skille med komma."
   ]
  },
  {
   "cell_type": "code",
   "execution_count": null,
   "metadata": {},
   "outputs": [],
   "source": [
    "print(0, 1, 2, 3, 4, 5, 6, 7, 8, 9, 10)"
   ]
  },
  {
   "cell_type": "markdown",
   "metadata": {},
   "source": [
    "Hvis du skal printe tekst, må du ramme inn teksten med fnutter (\"), slik som i eksempelet under."
   ]
  },
  {
   "cell_type": "code",
   "execution_count": null,
   "metadata": {},
   "outputs": [],
   "source": [
    "print(\"This message will be printed\")"
   ]
  },
  {
   "cell_type": "markdown",
   "metadata": {},
   "source": [
    "## Variabler\n",
    "\n",
    "I Python kan man deklarere variabler som vist i kodesnutten under. \n",
    "\n",
    "Merk at det er venstresiden som settes til å være lik høyresiden. I motsetning til matte, er det derfor \"lov\" til å f.eks sette variabler lik seg selv pluss noe, slik som vist under.\n",
    "\n",
    "Merk at `b` ikke endrer verdi når du endrer `a` *etter* å ha deklarert `b`. \n",
    "\n",
    "**Husk at Python leser filen fra øverste linje og nedover.** Derfor MÅ man deklarer `a` før  `b`i kodesnutten under."
   ]
  },
  {
   "cell_type": "code",
   "execution_count": null,
   "metadata": {},
   "outputs": [],
   "source": [
    "a = 2\n",
    "print(\"1: a =\", a)\n",
    "b = a + 1\n",
    "print(\"2: b =\", b)\n",
    "a = a + 2\n",
    "print(\"3: a =\", a)\n",
    "print(\"4: b =\", b)\n"
   ]
  },
  {
   "cell_type": "markdown",
   "metadata": {},
   "source": [
    "### Variabelnavn\n",
    "\n",
    "Python dømmer ikke særlig på hvilke variabelnavn du bruker. Kriteriene til et variabelnavn er \n",
    "- Variabelnavn kan inneholde alle bokstaver, både store og små, som finnes i det **engelske alfabetet**. Æ, ø og å fungerer i Python 3, men konvensjon er å ikke bruke disse.\n",
    "- Variabelnavn kan inneholde **understrek** \n",
    "- Variabelnavn kan inneholde tall, men **et tall kan ikke være første tegn i navnet**\n",
    "- Ellers er ingen andre tegn lov i variabelnavn\n",
    "\n",
    "Disse reglene er illustrert under, med et fryktelig langt variabelnavn:"
   ]
  },
  {
   "cell_type": "code",
   "execution_count": null,
   "metadata": {
    "collapsed": true
   },
   "outputs": [],
   "source": [
    "VARIABLE_NAME_with_1_2_3 = 0"
   ]
  },
  {
   "cell_type": "markdown",
   "metadata": {},
   "source": [
    "Som sagt, Python dømmer ikke særlig på variabelnavn. Men du bør likevel lage hensiktsmessige variabelnavn for å øke lesbarheten til koden din. Variabelnavn bør ikke være kjempelang, men likevel være beskrivende nok til at andre (eller deg i fremtiden) skal kunne forstå hva variabelen er. \n",
    "\n",
    "Når variabelen er deklarert, kan den brukes!"
   ]
  },
  {
   "cell_type": "code",
   "execution_count": null,
   "metadata": {},
   "outputs": [],
   "source": [
    "pi = 3.14\n",
    "\n",
    "print(\"pi = \", pi)"
   ]
  },
  {
   "cell_type": "markdown",
   "metadata": {},
   "source": [
    "\n",
    "## Python som kalkulator  \n",
    "\n",
    "Slik gjør du enkel matte i Python:  \n",
    "$\\Large{\\cdot}$ $a - b$ i Python :  `a - b`  \n",
    "$\\Large{\\cdot}$ $a \\times b$ i Python :  `a*b`  \n",
    "$\\Large{\\cdot}$ $\\frac{a}{b}$ i Python :  `a/b`  \n",
    "$\\Large{\\cdot}$ $a^b$ i Python : `a**b`  \n",
    "$\\Large{\\cdot}$ $3.2 \\times 10^7$ i Python :  `3.2e7`  \n",
    "Pass på at du brukes parenteser når du gjør utregningene dine! Se nøye på eksemplene under."
   ]
  },
  {
   "cell_type": "code",
   "execution_count": null,
   "metadata": {},
   "outputs": [],
   "source": [
    "a = 1\n",
    "b = 2\n",
    "c = 3\n",
    "\n",
    "print(\"2 + 3/3 = \", (b + c/c))\n",
    "print(\"(2 + 3)/3 = \", ((b + c)/c))\n",
    "print(\"3/2 + 1 = \", (c/b + a))\n",
    "print(\"3/(2 + 1) = \", (c/(b + a)))"
   ]
  },
  {
   "cell_type": "markdown",
   "metadata": {},
   "source": [
    "## Datatyper\n",
    "\n",
    "Variabler kan være mye mer enn bare heltall. Noen av de enkleste typene vil bli gjennomgått. Du kan bruke `type()` for å sjekke hvilken datatype en variabel er. Eksempler på dette vil bli vist."
   ]
  },
  {
   "cell_type": "markdown",
   "metadata": {},
   "source": [
    "### Integers (Heltall)\n",
    "\n",
    "Heltall i Python heter *integer*, men betegnes som `int`.\n",
    "\n",
    "Heltall i Python 2 og Python 3 oppfører seg litt annerledes. I Python 2 vil heltall gi heltallsdivisjon, som er vanlig i programmeringsspråk. Dette betyr at når du deler to heltall, så vil svaret også bli et heltall. Altså blir $3/2 = 1$. I Python 3 derimot, vil to heltall kunne gi et desimall tall, slik at $3/2 = 1,5$."
   ]
  },
  {
   "cell_type": "code",
   "execution_count": null,
   "metadata": {},
   "outputs": [],
   "source": [
    "print(type(2))"
   ]
  },
  {
   "cell_type": "markdown",
   "metadata": {},
   "source": [
    "### Float (desimaltall)\n",
    "\n",
    "Desimaltall i Python heter `floating point number`, men betegnes som `float`."
   ]
  },
  {
   "cell_type": "code",
   "execution_count": null,
   "metadata": {},
   "outputs": [],
   "source": [
    "print(type(1.2))"
   ]
  },
  {
   "cell_type": "markdown",
   "metadata": {},
   "source": [
    "### String (tekst) \n",
    "\n",
    "Tekst i Python heter *String*, men betegnes som `str`. \n",
    "\n",
    "Lurte du på hvorfor du trengte fnutter for å printe ut tekst? Hvis ikke dette gjøres vil Python tro at verdien til en variabel med det navnet skal printes. Fnuttene spesifiserer at det *ikke* er snakk om et variabelnavn (eller andre typer, men det ignoreres foreløpig), men en `String`."
   ]
  },
  {
   "cell_type": "code",
   "execution_count": null,
   "metadata": {},
   "outputs": [],
   "source": [
    "print(type(\"spam\"))"
   ]
  },
  {
   "cell_type": "markdown",
   "metadata": {},
   "source": [
    "Under er det vist feilmeldingen som oppstår av at en Pythonista ikke har spesifisert at en `String` skulle printes. Det gjelder å lære seg at feilmeldinger er en Pythonista sin beste venn. Her sier feilmeldingen tydelig at `spam is not defined`."
   ]
  },
  {
   "cell_type": "code",
   "execution_count": null,
   "metadata": {},
   "outputs": [],
   "source": [
    "print(spam)"
   ]
  },
  {
   "cell_type": "markdown",
   "metadata": {},
   "source": [
    "### <span style=\"color:green\"> Test deg selv </span>\n",
    "\n",
    "Kan du endre på variablene under slik at alle tre variabler inneholder verdien 2, men er av forskjellige datatyper?"
   ]
  },
  {
   "cell_type": "code",
   "execution_count": null,
   "metadata": {},
   "outputs": [],
   "source": [
    "int_2 = ?\n",
    "print(type(int_2))"
   ]
  },
  {
   "cell_type": "code",
   "execution_count": null,
   "metadata": {},
   "outputs": [],
   "source": [
    "float_2 = ?\n",
    "print(type(float_2))"
   ]
  },
  {
   "cell_type": "code",
   "execution_count": null,
   "metadata": {},
   "outputs": [],
   "source": [
    "str_2 = ?\n",
    "print(type(str_2))"
   ]
  },
  {
   "cell_type": "markdown",
   "metadata": {},
   "source": [
    "## Import av bibliotek\n",
    "\n",
    "En modul er en samling ferdig skrevne funksjoner. Et eksempel er `math` som inneholder både variabler og funksjoner.  Ved å skrive `import <module_name>`, hentes modulen slik at innholdet kan brukes i koden din. For å bruke funksjonene fra modulen, må man presisere at de er fra modulen. Dette gjøres ved å skrive `<module_name>.<function_name>`, som vist under."
   ]
  },
  {
   "cell_type": "code",
   "execution_count": null,
   "metadata": {
    "collapsed": true
   },
   "outputs": [],
   "source": [
    "import math\n",
    "a = math.exp(2)"
   ]
  },
  {
   "cell_type": "markdown",
   "metadata": {},
   "source": [
    "Hvis man ikke skal bruke altfor mange funksjoner fra en modul, vil det være kortere å spesifisere i `import`-linjen hva som skal brukes. Dette gjøres ved å skrive `from <module_name> import <function_name_1>, <function_name_2>`. Hvis du henter mer enn én funksjon fra modulen, skiller du dem med komma. Under ligger et eksempel."
   ]
  },
  {
   "cell_type": "code",
   "execution_count": null,
   "metadata": {
    "collapsed": true
   },
   "outputs": [],
   "source": [
    "from math import pi, sin\n",
    "b = sin(0.5*pi)"
   ]
  },
  {
   "cell_type": "markdown",
   "metadata": {},
   "source": [
    "## Kommentering av kode\n",
    "\n",
    "For å kommentere koden kan du enten bruke `#` hvis kommentaren kun går over én linje, eller `'''` før og og etter kommentaren om den går over flere linjer."
   ]
  },
  {
   "cell_type": "code",
   "execution_count": null,
   "metadata": {},
   "outputs": [],
   "source": [
    "# This is how to make a comment on a single line\n",
    "\n",
    "a = 13   # Can be used on the right side of your code\n",
    "\n",
    "''' This is how to \n",
    "comment over \n",
    "\n",
    "several \n",
    "\n",
    "lines '''"
   ]
  },
  {
   "cell_type": "markdown",
   "metadata": {},
   "source": [
    "## Formatering  \n",
    "\n",
    "For å inkludere variabler i en String, brukes %-tegnet. %-tegnet symboliserer at det skal komme inn en variabel, som er gitt etter Stringen. Etterfulgt av %-tegnet kommer et tegn som viser hvilken type variabel som skal plasseres der. **En tabell med format-symboler finner du på side 10 i læreboken.**  Etter Stringen er avsluttet kommer et nytt %-tegn etterfulgt av variablene som skal inn. Hvis det er flere variabler, separeres disse med komma. \n",
    "\n",
    "Et eksempel: \n",
    "%f symboliserer at det kommer en `float` (tall med desimaler). Med denne kan du bestemme både hvor mye plass variabelen skal oppta, og hvor mange desimaler som skal tas med. Dette gjøres ved å skrive  \n",
    "\n",
    "`\"  %<total_space>.<decimals>f  \" % variable`  \n",
    "\n",
    "I eksempelet under er det skrevet %<span style=\"color:red\">.4</span><span style=\"color:blue\">f</span> for å presisere at det er en <span style=\"color:blue\">float</span> og at det tallet skal inkludere <span style=\"color:red\">fire desimaler</span>. Den neste er tilsvarende, %.2f presiserer `float` med to desimaler. **Merk at rekkefølgen på variablene som er satt inn bak bestemmer rekkefølgen de vil vises i teksten.** \n",
    "\n",
    "Under er det printet ut 1/3 uten å formatere. Ser du forskjellen?"
   ]
  },
  {
   "cell_type": "code",
   "execution_count": null,
   "metadata": {},
   "outputs": [],
   "source": [
    "a_third = 1./3\n",
    "a_fourth = 1./4\n",
    "print(\"1/3 = %.4f  and  1/4 = %.2f\" %(a_third, a_fourth))\n",
    "print(\"1/3 = \", a_third)"
   ]
  },
  {
   "cell_type": "markdown",
   "metadata": {},
   "source": [
    "## Kjøreeksempel\n",
    "\n",
    "Et kjøreeksempel er en kopi av det som skrives ut i terminalvinduet når du kjører koden. Copy-paste nederest i .py-filen før du leverer."
   ]
  },
  {
   "cell_type": "code",
   "execution_count": null,
   "metadata": {},
   "outputs": [],
   "source": [
    "print(\"Hello world\")\n",
    "'''\n",
    "eirillsh$ python hello_world.py\n",
    "Hello world\n",
    "'''"
   ]
  }
 ],
 "metadata": {
  "kernelspec": {
   "display_name": "Python 3",
   "language": "python",
   "name": "python3"
  },
  "language_info": {
   "codemirror_mode": {
    "name": "ipython",
    "version": 3
   },
   "file_extension": ".py",
   "mimetype": "text/x-python",
   "name": "python",
   "nbconvert_exporter": "python",
   "pygments_lexer": "ipython3",
   "version": "3.7.3"
  }
 },
 "nbformat": 4,
 "nbformat_minor": 2
}
