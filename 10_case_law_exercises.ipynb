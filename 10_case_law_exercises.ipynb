{
 "cells": [
  {
   "cell_type": "markdown",
   "metadata": {},
   "source": [
    "# Case Law Exercises\n",
    "\n",
    "## <span style=\"color:green\"> Exercise: Count Opinions per Author </span>\n",
    "\n",
    "In the JSON case law data, each opinion has an `author` field.\n",
    "Complete the code below step-by-step to count the number of opinions per author.\n",
    "\n",
    "You will need to browse the [data](https://api.case.law/v1/cases/?jurisdiction=ill&full_case=true&decision_date_min=2011-01-01&page_size=1\").\n",
    "\n",
    "## a)\n",
    "Fetch the data results into cases as before. Then loop over the cases and print each case. Each case is a large dictionary, so expect a lot of text.\n",
    "\n",
    "## b)\n",
    "Now, change the content of the for loop. Instead of just printing the case, get the list of opinions. You will need to find the path to follow.\n",
    "For now, print the list of opinions.\n",
    "\n",
    "## c)\n",
    "Instead of printing the opinions, loop over the list of opinions and find and print the author.\n",
    "\n",
    "## d)\n",
    "Now we need to check if the author already exists in our lookup table/dictionary `author2count`.\n",
    "Use an if statement to start the count at one, if the author isn't registered in the table.\n",
    "\n",
    "## e)\n",
    "Otherwise, if the author is registered in the dictionary, increase the count by one.\n",
    "\n",
    "## f)\n",
    "With the counting completed, all that remains is to show the results.\n",
    "Loop over `author2count` and print the result."
   ]
  },
  {
   "cell_type": "code",
   "execution_count": null,
   "metadata": {
    "collapsed": true
   },
   "outputs": [],
   "source": [
    "import requests\n",
    "import json\n",
    "\n",
    "URL = \"https://api.case.law/v1/cases/?jurisdiction=ill&full_case=true&decision_date_min=2011-01-01&page_size=20\"\n",
    "data = requests.get(URL).json()\n",
    "\n",
    "author2count = {} #example content {'JUSTICE CARTER': 1}\n"
   ]
  }
 ],
 "metadata": {
  "kernelspec": {
   "display_name": "Python 3",
   "language": "python",
   "name": "python3"
  },
  "language_info": {
   "codemirror_mode": {
    "name": "ipython",
    "version": 3
   },
   "file_extension": ".py",
   "mimetype": "text/x-python",
   "name": "python",
   "nbconvert_exporter": "python",
   "pygments_lexer": "ipython3",
   "version": "3.7.10"
  }
 },
 "nbformat": 4,
 "nbformat_minor": 2
}
