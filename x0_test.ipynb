{
 "cells": [
  {
   "cell_type": "markdown",
   "metadata": {},
   "source": [
    "## Test Functions\n",
    "\n",
    "We can use test functions to check that our functions work.\n",
    "If everything works, the test function is *quiet*, printing nothing. But if a test fails, the test function yields an `Error`, like `AssertionError`.\n",
    "\n",
    "\n",
    "```\n",
    "def f(x):\n",
    "    y = ...\n",
    "    return y\n",
    "\n",
    "def test_f():\n",
    "    x_value = ...\n",
    "    expected = ...\n",
    "    computed = f(x_value)\n",
    "    tol = 1e-12\n",
    "    success = abs(expected - computed) < tol\n",
    "    assert success\n",
    "\n",
    "test_f()\n",
    "```\n",
    "\n",
    "The test function has the *same* name as the function to be tested, with the *prefix* `test_`.\n",
    "A test function does *not* have any parameters, nor does it return anything. It uses `assert` to test that the function behaves as it should.\n",
    "\n",
    "### `expected` \n",
    "`expected` is the correct value that the function should return. *Never* use the function to be tested to find `expected`, since that would defeat the purpose of the test.\n",
    "\n",
    "### `computed`\n",
    "`computed` is *always* calculated by the function you are testing. Call the function with the parameters it needs.\n",
    "\n",
    "### `success`\n",
    "`success` is a `Boolean`, that is `True` eller `False`. \n",
    "Here we compare the `expected` value with the `computed` result.\n",
    "If the function returns a `float`, we must check that `expected` and `computed` are within a small tolerance, because floating-point values are imprecise. We will not get into that here.\n",
    "\n",
    "### `assert`\n",
    "`assert` checks that something is `True`.\n",
    "If the expression after `assert` is `True`, nothing happens and the test passes.\n",
    "If the expression is `False`, we get an `AssertionError`, and the test fails.\n",
    "You can have several assertions in the same function."
   ]
  },
  {
   "cell_type": "code",
   "execution_count": null,
   "metadata": {
    "collapsed": true
   },
   "outputs": [],
   "source": [
    "assert True, \"This will not be printed, as you are asserting True\"\n",
    "assert False, \"This will be printed, as you are asserting False\"\n",
    "print(\"This will not be printed, as the line above will terminate the program.\")"
   ]
  }
 ],
 "metadata": {
  "kernelspec": {
   "display_name": "Python 3",
   "language": "python",
   "name": "python3"
  },
  "language_info": {
   "codemirror_mode": {
    "name": "ipython",
    "version": 3
   },
   "file_extension": ".py",
   "mimetype": "text/x-python",
   "name": "python",
   "nbconvert_exporter": "python",
   "pygments_lexer": "ipython3",
   "version": "3.6.3"
  }
 },
 "nbformat": 4,
 "nbformat_minor": 2
}
