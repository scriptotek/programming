{
 "cells": [
  {
   "cell_type": "markdown",
   "metadata": {},
   "source": [
    "# Tupler \n",
    "\n",
    "Tupler i Python heter *tuple*. \n",
    "\n",
    "Tupler kjennetegnes av parentes `()`, og objektene i en tuple separeres med komma. \n",
    "\n",
    "Denne datatypen ligner veldig på lister, som vil bli forklart i neste avsnitt. Ved å lese neste avsnitt vil du derfor kunne lære mye om tupler.\n",
    "\n",
    "**Den store forskjellen mellom tupler og lister er at tupler ikke kan endres på.** Alle funksjoner som endrer lister vil derfor ikke eksistere for tupler. Men indeksering, addering og iterering (alt forklart senere), vil være likt for tupler som for lister."
   ]
  },
  {
   "cell_type": "code",
   "execution_count": 10,
   "metadata": {},
   "outputs": [
    {
     "name": "stdout",
     "output_type": "stream",
     "text": [
      "<class 'tuple'>\n"
     ]
    }
   ],
   "source": [
    "my_tuple = (1, 2)\n",
    "print(type(my_tuple))"
   ]
  },
  {
   "cell_type": "markdown",
   "metadata": {},
   "source": [
    "# Lister\n",
    "\n",
    "I Python kan lister inneholde `int`, `float`, `String` og alle andre objekter. \n",
    "\n",
    "Lister kjennetegnes av brakkeparentes `[]`, og objektene i listen separeres med komma. "
   ]
  },
  {
   "cell_type": "code",
   "execution_count": 8,
   "metadata": {},
   "outputs": [
    {
     "name": "stdout",
     "output_type": "stream",
     "text": [
      "<class 'list'>\n"
     ]
    }
   ],
   "source": [
    "my_list = [1, 2]\n",
    "print(type(my_list))"
   ]
  },
  {
   "cell_type": "markdown",
   "metadata": {},
   "source": [
    "Det er flere funksjoner tilknyttet lister. Én av dem er `len()`, som angir hvor mange objekter du har i listen (altså lengden til listen). Dette er vist i eksempelet under."
   ]
  },
  {
   "cell_type": "code",
   "execution_count": 1,
   "metadata": {},
   "outputs": [
    {
     "name": "stdout",
     "output_type": "stream",
     "text": [
      "odd:  [1, 3, 5, 7, 9]\n",
      "length of list 'odd' : 5\n"
     ]
    }
   ],
   "source": [
    "odd = [1, 3, 5, 7, 9]\n",
    "\n",
    "print(\"odd: \", odd)\n",
    "print(\"length of list 'odd' :\", len(odd))"
   ]
  },
  {
   "cell_type": "markdown",
   "metadata": {},
   "source": [
    "## Legge til element i en liste\n",
    "\n",
    "I kodesnutten under er det vist hvordan en tom liste opprettes. Deretter blir listen fylt opp med ett element av gangen ved å bruke `append()`. Merk at `append()` legger elementet bakerst i listen."
   ]
  },
  {
   "cell_type": "code",
   "execution_count": 2,
   "metadata": {},
   "outputs": [
    {
     "name": "stdout",
     "output_type": "stream",
     "text": [
      "['not ', 'so ', 'empty ', 'anymore']\n"
     ]
    }
   ],
   "source": [
    "empty_list = []\n",
    "\n",
    "empty_list.append(\"not \")\n",
    "empty_list.append(\"so \")\n",
    "empty_list.append(\"empty \")\n",
    "empty_list.append(\"anymore\")\n",
    "\n",
    "print(empty_list)"
   ]
  },
  {
   "cell_type": "markdown",
   "metadata": {},
   "source": [
    "## Indeksering av lister\n",
    "\n",
    "For å hente ut objekt fra en liste, indekseres listen. \n",
    "\n",
    "**Python teller fra 0, ikke 1!**\n",
    "\n",
    "I eksempelet under viser hvordan elementene i `odd` kan hentes ut enkeltvis."
   ]
  },
  {
   "cell_type": "code",
   "execution_count": 3,
   "metadata": {},
   "outputs": [
    {
     "name": "stdout",
     "output_type": "stream",
     "text": [
      "odd[0] =  1\n",
      "odd[1] =  3\n",
      "odd[2] =  5\n",
      "odd[3] =  7\n",
      "odd[4] =  9\n"
     ]
    }
   ],
   "source": [
    "print('odd[0] = ', odd[0])\n",
    "print('odd[1] = ', odd[1])\n",
    "print('odd[2] = ', odd[2])\n",
    "print('odd[3] = ', odd[3])\n",
    "print('odd[4] = ', odd[4])"
   ]
  },
  {
   "cell_type": "markdown",
   "metadata": {},
   "source": [
    "## Nøstede lister\n",
    "\n",
    "Å bruke lister i lister er mye brukt i Python, blant annet til å representere matriser. \n",
    "\n",
    "I tillegg til `odd`, skal vi nå også introdusere listen `even`. Det vil så lages to nøstede lister av disse to listene. Merk deg hvordan indekseringen endrer seg etter hvilken type nøstet liste som velges."
   ]
  },
  {
   "cell_type": "code",
   "execution_count": 4,
   "metadata": {
    "collapsed": true,
    "scrolled": true
   },
   "outputs": [],
   "source": [
    "even = [2, 4, 6, 8, 10]"
   ]
  },
  {
   "cell_type": "markdown",
   "metadata": {},
   "source": [
    "### Fylle en liste med lister\n",
    "\n",
    "Under er det vist hvordan den nøstede listen `odd_and_even` lages. Etterpå vises det hvordan listen `even` kan hentes ut, samt element 0 og 2 i `even`."
   ]
  },
  {
   "cell_type": "code",
   "execution_count": 5,
   "metadata": {},
   "outputs": [
    {
     "name": "stdout",
     "output_type": "stream",
     "text": [
      "odd_and_even :  [[1, 3, 5, 7, 9], [2, 4, 6, 8, 10]]\n",
      "Second object in odd_and_even is the list even :  [2, 4, 6, 8, 10]\n",
      "First number in even:  2\n",
      "Third number in even:  6\n"
     ]
    }
   ],
   "source": [
    "odd_and_even = [odd, even]\n",
    "print(\"odd_and_even : \", odd_and_even)\n",
    "print(\"Second object in odd_and_even is the list even : \", odd_and_even[1])\n",
    "print(\"First number in even: \", odd_and_even[1][0])\n",
    "print(\"Third number in even: \", odd_and_even[1][2])"
   ]
  },
  {
   "cell_type": "markdown",
   "metadata": {},
   "source": [
    "### `zip`-funksjonen\n",
    "\n",
    "For å løpe gjennom to eller flere lister samtidig kan funksjonen `zip()` benyttes. Denne kan også brukes til å flette lister slik at elementene med samme indeks havner sammen i tupler. Dette er vist i eksempelet under."
   ]
  },
  {
   "cell_type": "code",
   "execution_count": 6,
   "metadata": {},
   "outputs": [
    {
     "name": "stdout",
     "output_type": "stream",
     "text": [
      "odd_and_even :  [(1, 2), (3, 4), (5, 6), (7, 8), (9, 10)]\n",
      "Second object in odd_and_even are the sencond elements from both odd and even:  (3, 4)\n",
      "First number in even : 2\n",
      "Third number in even:  6\n"
     ]
    }
   ],
   "source": [
    "odd_and_even = [(o,d) for o,d in zip(odd, even)]\n",
    "\n",
    "print(\"odd_and_even : \", odd_and_even)\n",
    "print(\"Second object in odd_and_even are the sencond elements from both odd and even: \", odd_and_even[1])\n",
    "print(\"First number in even :\", odd_and_even[0][1])\n",
    "print(\"Third number in even: \", odd_and_even[2][1])"
   ]
  },
  {
   "cell_type": "markdown",
   "metadata": {},
   "source": [
    "### <span style=\"color:green\"> Test deg selv </span>\n",
    "\n",
    "Bytt ut indeksene under slik at informasjonen som printes stemmer for deg!"
   ]
  },
  {
   "cell_type": "code",
   "execution_count": 7,
   "metadata": {},
   "outputs": [
    {
     "name": "stdout",
     "output_type": "stream",
     "text": [
      "\n",
      "My birthday is the 19th of August.\n",
      "Christmas is the 9th of October.\n"
     ]
    }
   ],
   "source": [
    "days = [1, 2, 3, 4, 5, 6, 7, 8, 9, 10]\n",
    "days += [11, 12, 13, 14, 15, 16, 17, 18, 19, 20]\n",
    "days += [21, 22, 23, 24, 25, 26, 27, 28, 29, 30, 31]\n",
    "\n",
    "summer = [\"June\", \"July\", \"August\"]\n",
    "autum = [\"September\", \"October\", \"November\"]\n",
    "winter = [\"Desember\", \"January\", \"February\"]\n",
    "spring = [\"March\", \"April\", \"May\"]\n",
    "\n",
    "months = [summer, autum, winter, spring]\n",
    "\n",
    "\n",
    "# change the indices below\n",
    "print(\"\\nMy birthday is the %dth of %s.\" %(days[18], months[0][2]))\n",
    "print(\"Christmas is the %dth of %s.\" %(days[8], months[1][1]))"
   ]
  },
  {
   "cell_type": "markdown",
   "metadata": {},
   "source": [
    "# Løkker"
   ]
  },
  {
   "cell_type": "markdown",
   "metadata": {},
   "source": [
    "##  `while`-løkker\n",
    "\n",
    "`while`-løkker kjennetegnes av at de fortsetter å løpe helt til det boolske uttrykket evalueres til `False`. Dersom du ikke passer på at dette skjer, vil ikke programmet terminere. \n",
    "*Du kan tvinge programmet til å avslutte med CTRL+C.* \n",
    "\n",
    " <span style=\"color:green\">Legg merke til at i eksempelet under, printes *2^6 = 64* selv om *64 > 50*. Kan du se hvorfor? </span>"
   ]
  },
  {
   "cell_type": "code",
   "execution_count": 8,
   "metadata": {},
   "outputs": [
    {
     "name": "stdout",
     "output_type": "stream",
     "text": [
      "2^0 = 1\n",
      "2^1 = 2\n",
      "2^2 = 4\n",
      "2^3 = 8\n",
      "2^4 = 16\n",
      "2^5 = 32\n",
      "2^6 = 64\n"
     ]
    }
   ],
   "source": [
    "i = 0\n",
    "N = 50\n",
    "A = 0\n",
    "while A < N:\n",
    "    A = 2**i\n",
    "    print(\"2^%d = %s\" %(i, A))\n",
    "    i += 1"
   ]
  },
  {
   "cell_type": "markdown",
   "metadata": {},
   "source": [
    "## `for`-løkker\n",
    "\n",
    "`for`-løkker kjennetegnes av at de løper over alle elementene i en sekvens. Denne sekvensen kan være en liste slik som i det første eksempelet under, eller andre sekvenstyper slik som den returnert av `range()`-funksjonen, her vist i eksempel to. "
   ]
  },
  {
   "cell_type": "code",
   "execution_count": 9,
   "metadata": {},
   "outputs": [
    {
     "name": "stdout",
     "output_type": "stream",
     "text": [
      "Traversing through the list:\n",
      "1\n",
      "3\n",
      "5\n",
      "7\n",
      "9\n",
      "\n",
      "Using loop to index list:\n",
      "1\n",
      "3\n",
      "5\n",
      "7\n",
      "9\n"
     ]
    }
   ],
   "source": [
    "print(\"Traversing through the list:\")\n",
    "for number in odd:\n",
    "    print(number)\n",
    "\n",
    "print(\"\\nUsing loop to index list:\")\n",
    "n = len(odd)\n",
    "for i in range(n):\n",
    "    print(odd[i])"
   ]
  },
  {
   "cell_type": "markdown",
   "metadata": {},
   "source": [
    "### `range(i_min, i_max, step_length)`\n",
    "\n",
    "`range` kan ta tre argument. Hvis alle tre er oppgitt vil `range` gi heltall **fra og med** `i_min`, ha en steglengde på `step_length` opp **til, men ikke med** `i_max`.\n",
    "\n",
    "Skulle kun to argument sendes inn, tolker `range` at steglengden er 1.\n",
    "\n",
    "Skulle kun ett argument sendes inn, tolker `range` at steglengden er 1 og at den skal begynne på null."
   ]
  },
  {
   "cell_type": "markdown",
   "metadata": {},
   "source": [
    "##  Bruke løkker til å printe tabeller\n",
    "\n",
    "Under er det gitt tre forskjellige måter å printe ut samme resultat. Alle tre kodesnuttene vil ha output:"
   ]
  },
  {
   "cell_type": "markdown",
   "metadata": {},
   "source": [
    "### Løkke med `zip`\n",
    "\n",
    "`zip()`-funksjonen kan brukes til å traversere to lister samtidig, slik som vist på eksempelet under."
   ]
  },
  {
   "cell_type": "code",
   "execution_count": 10,
   "metadata": {},
   "outputs": [
    {
     "name": "stdout",
     "output_type": "stream",
     "text": [
      "1 2\n",
      "3 4\n",
      "5 6\n",
      "7 8\n",
      "9 10\n"
     ]
    }
   ],
   "source": [
    "for num_odd, num_even in zip(odd, even):\n",
    "    print(num_odd, num_even)  "
   ]
  },
  {
   "cell_type": "markdown",
   "metadata": {},
   "source": [
    "### Indeksering av liste med to lister\n",
    "\n",
    "I kodesnutten under er `odd_and_even` en liste med to lister. For å printe ut tallene \n",
    "fra begge de to sub-listene, må **indekseringen i løkken både spesifisere \n",
    "hvilken sub-liste, og hvilket element fra sub-listen som skal hentes ut**. Legg merke til hvor i løkken indekseringen \n",
    "blir holdt konstant, dette er hvor det blir spesifisert om elementet kommer fra `odd` eller\n",
    "`even`. Hvilket element som hentes ut avhenger altså av verdien på `i`, \n",
    "som her går fra 0 til 4."
   ]
  },
  {
   "cell_type": "code",
   "execution_count": 11,
   "metadata": {},
   "outputs": [
    {
     "name": "stdout",
     "output_type": "stream",
     "text": [
      "1 2\n",
      "3 4\n",
      "5 6\n",
      "7 8\n",
      "9 10\n"
     ]
    }
   ],
   "source": [
    "odd_and_even = [odd, even]\n",
    "\n",
    "for i in range(len(odd)):\n",
    "    odd_number = odd_and_even[0][i]\n",
    "    even_number = odd_and_even[1][i]\n",
    "    print(odd_number, even_number)"
   ]
  },
  {
   "cell_type": "markdown",
   "metadata": {},
   "source": [
    "### Indeksering av liste med tupler\n",
    "\n",
    "I kodesnutten under er `odd_and_even` en liste med `touples`, laget av å flette sammen (`odd` og `even`). Travserseringen er gjort på samme måte som beskrevet i avsnittet over. **Merk forskjellen i rekkefølgen av indekseringen fra eksempelet over.**"
   ]
  },
  {
   "cell_type": "code",
   "execution_count": 12,
   "metadata": {},
   "outputs": [
    {
     "name": "stdout",
     "output_type": "stream",
     "text": [
      "1 2\n",
      "3 4\n",
      "5 6\n",
      "7 8\n",
      "9 10\n"
     ]
    }
   ],
   "source": [
    "odd_and_even = [(o, e) for o, e in zip(odd, even)]\n",
    "\n",
    "for i in range(len(odd)):\n",
    "    odd_number = odd_and_even[i][0]\n",
    "    even_number = odd_and_even[i][1]\n",
    "    print(odd_number, even_number)"
   ]
  },
  {
   "cell_type": "markdown",
   "metadata": {
    "collapsed": true
   },
   "source": [
    "## Nøstede løkker\n",
    "\n",
    "Under ligger et illustrativt eksempel på hvordan en dobbel `for`-løkke fungerer. Studér eksempelet og se at du forstår output."
   ]
  },
  {
   "cell_type": "code",
   "execution_count": 13,
   "metadata": {},
   "outputs": [
    {
     "name": "stdout",
     "output_type": "stream",
     "text": [
      "Main loop i = 0\n",
      "\tInner loop j = 0\n",
      "Main loop i = 1\n",
      "\tInner loop j = 0\n",
      "\tInner loop j = 1\n",
      "Main loop i = 2\n",
      "\tInner loop j = 0\n",
      "\tInner loop j = 1\n",
      "\tInner loop j = 2\n",
      "Main loop i = 3\n",
      "\tInner loop j = 0\n",
      "\tInner loop j = 1\n",
      "\tInner loop j = 2\n",
      "\tInner loop j = 3\n"
     ]
    }
   ],
   "source": [
    "for i in range(4):\n",
    "    print(\"Main loop i = %d\" %i)\n",
    "    for j in range(i+1):\n",
    "        print(\"\\tInner loop j = %d\" %j)"
   ]
  }
 ],
 "metadata": {
  "kernelspec": {
   "display_name": "Python 3",
   "language": "python",
   "name": "python3"
  },
  "language_info": {
   "codemirror_mode": {
    "name": "ipython",
    "version": 3
   },
   "file_extension": ".py",
   "mimetype": "text/x-python",
   "name": "python",
   "nbconvert_exporter": "python",
   "pygments_lexer": "ipython3",
   "version": "3.6.8"
  }
 },
 "nbformat": 4,
 "nbformat_minor": 2
}
