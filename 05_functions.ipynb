{
 "cells": [
  {
   "cell_type": "markdown",
   "metadata": {},
   "source": [
    "# Functions\n",
    "\n",
    "We have seen how we can use loops to avoid repeating code. This helps us obey the DRY principle.\n",
    "(Question: what is the DRY principle?)\n",
    "Functions are another way to reuse code.\n",
    "\n",
    "A function is a short block of code/program statements. These statements are executed when we call the function. This way, we can perform a common operation many times without having to rewrite the code each time.\n",
    "\n",
    "\n",
    "\n",
    "We define a new function with the statement `def`. `def` is followed by the function name, and a set of parentheses. If the function has parameters, we list those inside the parentheses. The function *body* follows on the next lines, and must be *indented*.\n",
    "The function ends when there are more no more indented lines, or by the `return` statement."
   ]
  },
  {
   "cell_type": "code",
   "execution_count": null,
   "metadata": {
    "collapsed": true
   },
   "outputs": [],
   "source": [
    "# This line does not belong to the function \n",
    "def function_name(parameter):\n",
    "    # This line is part of the function (has indent)\n",
    "    ....\n",
    "    return output_value\n",
    "\n",
    "# This line does not belong to the function (no indent)"
   ]
  },
  {
   "cell_type": "code",
   "execution_count": 1,
   "metadata": {},
   "outputs": [
    {
     "name": "stdout",
     "output_type": "stream",
     "text": [
      "<class 'function'>\n"
     ]
    }
   ],
   "source": [
    "def grow(height):\n",
    "    growth = 10\n",
    "    return height + growth\n",
    "\n",
    "print(type(grow))"
   ]
  },
  {
   "cell_type": "markdown",
   "metadata": {},
   "source": [
    "## Function calls \n",
    "\n",
    "Using a function is also known as *calling* a function. We have called several functions, for example `print()`.\n",
    "Some functions return values. We can store the return value like below. (Is this a good variable name? Why/why not?)\n",
    "```\n",
    "returned_value = f(5.4)\n",
    "```"
   ]
  },
  {
   "cell_type": "markdown",
   "metadata": {},
   "source": [
    "## Parameters\n",
    "\n",
    "Most functions need some information to work with. We can pass information to functions as *parameters*.\n",
    "We define the parameter names in the `def`-statement. Inside the function, we can use these parameter names. When the function finishes, these parameters/local variables are removed."
   ]
  },
  {
   "cell_type": "code",
   "execution_count": 2,
   "metadata": {},
   "outputs": [
    {
     "name": "stdout",
     "output_type": "stream",
     "text": [
      "5\n"
     ]
    }
   ],
   "source": [
    "def subtract(a, b):\n",
    "    return a - b\n",
    "\n",
    "print(subtract(10, 5))"
   ]
  },
  {
   "cell_type": "markdown",
   "metadata": {},
   "source": [
    "Notice that the variable names in the function call are not the same as the variable names in the function definition. What counts is the order of the parameters."
   ]
  },
  {
   "cell_type": "code",
   "execution_count": 3,
   "metadata": {},
   "outputs": [
    {
     "name": "stdout",
     "output_type": "stream",
     "text": [
      "5\n"
     ]
    }
   ],
   "source": [
    "spam = 10\n",
    "eggs = 5\n",
    "print(subtract(spam, eggs))"
   ]
  },
  {
   "cell_type": "code",
   "execution_count": 4,
   "metadata": {},
   "outputs": [
    {
     "name": "stdout",
     "output_type": "stream",
     "text": [
      "-5\n"
     ]
    }
   ],
   "source": [
    "a = 10\n",
    "b = 5\n",
    "print(subtract(b, a))"
   ]
  },
  {
   "cell_type": "markdown",
   "metadata": {},
   "source": [
    "### Exercise: make a function\n",
    "\n",
    "Define a greeting function. It should take a name as input, and print a greeting.\n",
    "Then use the function to greet first Alice, and then Bob. The output should be:\n",
    "\t\n",
    "    Hello Alice\n",
    "    Hello Bob"
   ]
  },
  {
   "cell_type": "markdown",
   "metadata": {},
   "source": [
    "### Parameters with default values\n",
    "\n",
    "If a parameter often has a certain value, we can set that value as the default.\n",
    "\n",
    "For instance, we can write a function to issue a fine. Most fines are for NOK 750, so we set that as the default amount:"
   ]
  },
  {
   "cell_type": "code",
   "execution_count": 5,
   "metadata": {
    "collapsed": true
   },
   "outputs": [],
   "source": [
    "def issue_fine(amount = 750):\n",
    "    #here we need to do something\n",
    "    print(\"Fine sent for NOK\", amount)"
   ]
  },
  {
   "cell_type": "markdown",
   "metadata": {},
   "source": [
    "##  `return`\n",
    "\n",
    "When we have calculated a result, we can send it to the caller with `return`. \n",
    "When Python executes the `return`-statement, the function is terminated immediately.\n",
    "In the example below, the line below the `return`-statement will never be executed."
   ]
  },
  {
   "cell_type": "code",
   "execution_count": 6,
   "metadata": {},
   "outputs": [
    {
     "name": "stdout",
     "output_type": "stream",
     "text": [
      "Now you have called the function\n",
      "output =  This String was returned\n"
     ]
    }
   ],
   "source": [
    "def what_happens_after_return():\n",
    "    print(\"Now you have called the function\")\n",
    "    return \"This String was returned\"\n",
    "    print(\"This will not be printed\")\n",
    "\n",
    "output = what_happens_after_return()\n",
    "print(\"output = \", output)"
   ]
  },
  {
   "cell_type": "markdown",
   "metadata": {},
   "source": [
    "## Exercise: functions to get information\n",
    "\n",
    "Here, we will continue working with our JSON data.\n",
    "Define a function that takes a case as an argument, and returns the name of the court.\n",
    "Then, loop over the cases in our search results as before, and use the function to get the court names."
   ]
  },
  {
   "cell_type": "code",
   "execution_count": null,
   "metadata": {
    "collapsed": true
   },
   "outputs": [],
   "source": [
    "import requests\n",
    "import json\n",
    "\n",
    "def #your code here\n",
    "\n",
    "URL = \"https://api.case.law/v1/cases/?jurisdiction=ill&full_case=true&decision_date_min=2011-01-01&page_size=3\"\n",
    "data = requests.get(URL).json()\n",
    "\n",
    "cases = data[\"results\"]\n",
    "for case in cases:\n",
    "    #your code here"
   ]
  },
  {
   "cell_type": "markdown",
   "metadata": {},
   "source": [
    "## Test functions\n",
    "\n",
    "We can use test functions to check that our functions work.\n",
    "If everything works, the test function is *quiet*, printing nothing. But if a test fails, the test function yields an `Error`, like `AssertionError`.\n",
    "\n",
    "\n",
    "```\n",
    "def f(x):\n",
    "    y = ...\n",
    "    return y\n",
    "\n",
    "def test_f():\n",
    "    x_value = ...\n",
    "    expected = ...\n",
    "    computed = f(x_value)\n",
    "    tol = 1e-12\n",
    "    success = abs(expected - computed) < tol\n",
    "    assert success\n",
    "\n",
    "test_f()\n",
    "```\n",
    "\n",
    "The test function has the *same* name as the function to be tested, with the *prefix* `test_`.\n",
    "A test function does *not* have any parameters, nor does it return anything. It uses `assert` to test that the function behaves as it should.\n",
    "\n",
    "### `expected` \n",
    "`expected` is the correct value that the function should return. *Never* use the function to be tested to find `expected`, since that would defeat the purpose of the test.\n",
    "\n",
    "### `computed`\n",
    "`computed` is *always* calculated by the function you are testing. Call the function with the parameters it needs.\n",
    "\n",
    "### `success`\n",
    "`success` is a `Boolean`, that is `True` eller `False`. \n",
    "Here we compare the `expected` value with the `computed` result.\n",
    "If the function returns a `float`, we must check that `expected` and `computed` are within a small tolerance, because floating-point values are imprecise. We will not get into that here.\n",
    "\n",
    "### `assert`\n",
    "`assert` checks that something is `True`.\n",
    "If the expression after `assert` is `True`, nothing happens and the test passes.\n",
    "If the expression is `False`, we get an `AssertionError`, and the test fails.\n",
    "You can have several assertions in the same function.\n"
   ]
  },
  {
   "cell_type": "code",
   "execution_count": 7,
   "metadata": {
    "scrolled": true
   },
   "outputs": [
    {
     "ename": "AssertionError",
     "evalue": "This will be printed, as you are asserting False",
     "output_type": "error",
     "traceback": [
      "\u001b[1;31m---------------------------------------------------------------------------\u001b[0m",
      "\u001b[1;31mAssertionError\u001b[0m                            Traceback (most recent call last)",
      "\u001b[1;32m<ipython-input-7-3088277d50de>\u001b[0m in \u001b[0;36m<module>\u001b[1;34m()\u001b[0m\n\u001b[0;32m      1\u001b[0m \u001b[1;32massert\u001b[0m \u001b[1;32mTrue\u001b[0m\u001b[1;33m,\u001b[0m \u001b[1;34m\"This will not be printed, as you are asserting True\"\u001b[0m\u001b[1;33m\u001b[0m\u001b[0m\n\u001b[1;32m----> 2\u001b[1;33m \u001b[1;32massert\u001b[0m \u001b[1;32mFalse\u001b[0m\u001b[1;33m,\u001b[0m \u001b[1;34m\"This will be printed, as you are asserting False\"\u001b[0m\u001b[1;33m\u001b[0m\u001b[0m\n\u001b[0m\u001b[0;32m      3\u001b[0m \u001b[0mprint\u001b[0m\u001b[1;33m(\u001b[0m\u001b[1;34m\"This will not be printed, as the line above will terminate the program.\"\u001b[0m\u001b[1;33m)\u001b[0m\u001b[1;33m\u001b[0m\u001b[0m\n",
      "\u001b[1;31mAssertionError\u001b[0m: This will be printed, as you are asserting False"
     ]
    }
   ],
   "source": [
    "assert True, \"This will not be printed, as you are asserting True\"\n",
    "assert False, \"This will be printed, as you are asserting False\"\n",
    "print(\"This will not be printed, as the line above will terminate the program.\")"
   ]
  }
 ],
 "metadata": {
  "kernelspec": {
   "display_name": "Python 3",
   "language": "python",
   "name": "python3"
  },
  "language_info": {
   "codemirror_mode": {
    "name": "ipython",
    "version": 3
   },
   "file_extension": ".py",
   "mimetype": "text/x-python",
   "name": "python",
   "nbconvert_exporter": "python",
   "pygments_lexer": "ipython3",
   "version": "3.6.3"
  }
 },
 "nbformat": 4,
 "nbformat_minor": 2
}
