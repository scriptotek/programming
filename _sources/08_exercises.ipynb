{
 "cells": [
  {
   "cell_type": "markdown",
   "metadata": {},
   "source": [
    "# More Exercises\n",
    "\n",
    "Here are extra exercises for the previous parts of the course.\n",
    "We encourage you to do them all, to get as much practice as possible."
   ]
  },
  {
   "cell_type": "markdown",
   "metadata": {},
   "source": [
    "## Your address\n",
    "\n",
    "Create three variables containing your name, street address and city.\n",
    "Then print these variables on three separate lines."
   ]
  },
  {
   "cell_type": "markdown",
   "metadata": {},
   "source": [
    "## User input\n",
    "\n",
    "We can use the function `input(question)` to ask the user a question and get a reply.\n",
    "`question` is a string that is printed to the user. We can store the result in a variable, for example:\n",
    "\n",
    "    name = input(\"What's your name? \")\n",
    "    \n",
    "Use the input function to ask for the user's name and age (separately).\n",
    "Then print a greeting including the user's name."
   ]
  }
 ],
 "metadata": {
  "kernelspec": {
   "display_name": "Python 3",
   "language": "python",
   "name": "python3"
  },
  "language_info": {
   "codemirror_mode": {
    "name": "ipython",
    "version": 3
   },
   "file_extension": ".py",
   "mimetype": "text/x-python",
   "name": "python",
   "nbconvert_exporter": "python",
   "pygments_lexer": "ipython3",
   "version": "3.7.10"
  }
 },
 "nbformat": 4,
 "nbformat_minor": 4
}
