{
 "cells": [
  {
   "cell_type": "markdown",
   "metadata": {
    "collapsed": true
   },
   "source": [
    "# Klasser og Arv\n",
    "\n",
    "## Arv\n",
    "\n",
    "Klasser i Python kan *arve* fra andre klasser. En klasse som arver, kalles ofte for en *child class*, mens klassen den arver av, kalles ofte dens *parent class*. \n",
    "\n",
    "En *child class* vil automatisk arve alt fra sin *parent class*, men den kan overskrive metoder for å endre på egenskaper fra *parent class* til å passe bedre med *child class*. Den vil også typisk ha flere metoder enn sin *parent class*. \n",
    "\n",
    "Vi kan begynne med å se på et generisk tilfelle. Under ligger `class Parent`."
   ]
  },
  {
   "cell_type": "code",
   "execution_count": 1,
   "metadata": {
    "collapsed": true
   },
   "outputs": [],
   "source": [
    "class Parent:  \n",
    "    def __init__(self, parent_variable):\n",
    "        self.parent_variable = parent_variable\n",
    "        \n",
    "    def parent_method(self):\n",
    "        print(\"This is a method in class Parent\")       "
   ]
  },
  {
   "cell_type": "markdown",
   "metadata": {},
   "source": [
    "Under ligger `class Child`, som arver fra `class Parent`. Dette er spesifisert ved å legge ved `Parent` som argument til klassen, som vist under."
   ]
  },
  {
   "cell_type": "code",
   "execution_count": 2,
   "metadata": {
    "collapsed": true
   },
   "outputs": [],
   "source": [
    "class Child(Parent):   \n",
    "    def child_method(self):\n",
    "        print(\"This is a method in class Child\")"
   ]
  },
  {
   "cell_type": "markdown",
   "metadata": {},
   "source": [
    "Under opprettes en instans av hver av klassene. Merk at `class Child` har arvet konstruktøren til `class Parent`, og krever derfor et argument."
   ]
  },
  {
   "cell_type": "code",
   "execution_count": 3,
   "metadata": {
    "collapsed": true
   },
   "outputs": [],
   "source": [
    "parent = Parent(42)\n",
    "child = Child(3.14)"
   ]
  },
  {
   "cell_type": "markdown",
   "metadata": {},
   "source": [
    "For å tydeliggjøre at `class Child` har arvet konstruktøren til `class Parent`, viser eksempelet under hvordan du får feilmelding på grunn av for få argument hvis ingen argument sendes inn i konstruktøren."
   ]
  },
  {
   "cell_type": "code",
   "execution_count": 4,
   "metadata": {},
   "outputs": [
    {
     "ename": "TypeError",
     "evalue": "__init__() missing 1 required positional argument: 'parent_variable'",
     "output_type": "error",
     "traceback": [
      "\u001b[0;31m---------------------------------------------------------------------------\u001b[0m",
      "\u001b[0;31mTypeError\u001b[0m                                 Traceback (most recent call last)",
      "\u001b[0;32m<ipython-input-4-8f2f61b99a52>\u001b[0m in \u001b[0;36m<module>\u001b[0;34m()\u001b[0m\n\u001b[0;32m----> 1\u001b[0;31m \u001b[0mother_child\u001b[0m \u001b[0;34m=\u001b[0m \u001b[0mChild\u001b[0m\u001b[0;34m(\u001b[0m\u001b[0;34m)\u001b[0m\u001b[0;34m\u001b[0m\u001b[0;34m\u001b[0m\u001b[0m\n\u001b[0m",
      "\u001b[0;31mTypeError\u001b[0m: __init__() missing 1 required positional argument: 'parent_variable'"
     ]
    }
   ],
   "source": [
    "other_child = Child()"
   ]
  },
  {
   "cell_type": "markdown",
   "metadata": {
    "collapsed": true
   },
   "source": [
    "La oss se igjen på instansen av `class Parent`. Den skal ha én variabel, og den skal ha én methode."
   ]
  },
  {
   "cell_type": "code",
   "execution_count": 5,
   "metadata": {},
   "outputs": [
    {
     "name": "stdout",
     "output_type": "stream",
     "text": [
      "Variable of instance of class Parent:  42\n",
      "This is a method in class Parent\n"
     ]
    }
   ],
   "source": [
    "print(\"Variable of instance of class Parent: \", parent.parent_variable)\n",
    "parent.parent_method()"
   ]
  },
  {
   "cell_type": "markdown",
   "metadata": {
    "collapsed": true
   },
   "source": [
    "Merk at `class Child` har akkurat de samme egenskapene (selvfølgelig med annen verdi på variabelen):"
   ]
  },
  {
   "cell_type": "code",
   "execution_count": 6,
   "metadata": {},
   "outputs": [
    {
     "name": "stdout",
     "output_type": "stream",
     "text": [
      "Variable of instance of class Parent:  3.14\n",
      "This is a method in class Parent\n"
     ]
    }
   ],
   "source": [
    "print(\"Variable of instance of class Parent: \", child.parent_variable)\n",
    "child.parent_method()"
   ]
  },
  {
   "cell_type": "markdown",
   "metadata": {},
   "source": [
    "`class Child` har også en ny methode:"
   ]
  },
  {
   "cell_type": "code",
   "execution_count": 7,
   "metadata": {},
   "outputs": [
    {
     "name": "stdout",
     "output_type": "stream",
     "text": [
      "This is a method in class Child\n"
     ]
    }
   ],
   "source": [
    "child.child_method()"
   ]
  },
  {
   "cell_type": "markdown",
   "metadata": {},
   "source": [
    "Merk hvordan arv **ikke** går begge veier. Det er kun *child class* som arver av sin *parent class*, ikke omvendt!"
   ]
  },
  {
   "cell_type": "code",
   "execution_count": 8,
   "metadata": {},
   "outputs": [
    {
     "ename": "AttributeError",
     "evalue": "'Parent' object has no attribute 'child_method'",
     "output_type": "error",
     "traceback": [
      "\u001b[0;31m---------------------------------------------------------------------------\u001b[0m",
      "\u001b[0;31mAttributeError\u001b[0m                            Traceback (most recent call last)",
      "\u001b[0;32m<ipython-input-8-4a95fa2509b1>\u001b[0m in \u001b[0;36m<module>\u001b[0;34m()\u001b[0m\n\u001b[0;32m----> 1\u001b[0;31m \u001b[0mparent\u001b[0m\u001b[0;34m.\u001b[0m\u001b[0mchild_method\u001b[0m\u001b[0;34m(\u001b[0m\u001b[0;34m)\u001b[0m\u001b[0;34m\u001b[0m\u001b[0;34m\u001b[0m\u001b[0m\n\u001b[0m",
      "\u001b[0;31mAttributeError\u001b[0m: 'Parent' object has no attribute 'child_method'"
     ]
    }
   ],
   "source": [
    "parent.child_method()"
   ]
  },
  {
   "cell_type": "markdown",
   "metadata": {},
   "source": [
    "## Overskriving\n",
    "\n",
    "Som tidligere nevnt kan metoder også overskrives. Dette gjøres enkelt ved å definere en metode i *child class* med samme navn som en metode i *parent class*. \n",
    "\n",
    "Noe som er vanlig er å overskrive en metode, men samtidig arve fra *parent class*. \n",
    "\n",
    "Dette vil bli illustrert gjennom *parent class* `class Circle` og dens *child class* `class Sphere`."
   ]
  },
  {
   "cell_type": "code",
   "execution_count": 9,
   "metadata": {
    "collapsed": true
   },
   "outputs": [],
   "source": [
    "from numpy import pi\n",
    "\n",
    "class Circle:    \n",
    "    def __init__(self, x0, y0, R):\n",
    "        self.x0 = x0\n",
    "        self.y0 = y0\n",
    "        self.R = R\n",
    "        \n",
    "    def area(self):\n",
    "        return pi*self.R**2\n",
    "    \n",
    "    def print_area(self):\n",
    "        print(\"The area of the circle is %.4f\" %self.area())\n",
    "        \n",
    "    def __str__(self):\n",
    "        return \"Circle with raidus %.3g and center at (%.1f, %.1f)\" %(self.R, self.x0, self.y0)"
   ]
  },
  {
   "cell_type": "markdown",
   "metadata": {},
   "source": [
    "Et annet ord for *parent class* er *super class*. I Python code brukes `super` for å betegne klassen som arves fra. \n",
    "\n",
    "For å definere en sfære, trengs samme parametere som for en sirkel, men i tillegg trengs en koordinat i $z$-retning. I `class Sphere` lagres derfor $z_0$ i konstruktøren i klassen `Sphere`, mens for å lagre resten av variablene kan *parent class* `Circle` sin konstruktør gjenbrukes. Dette gjøres ved å kalle på `super` for å få *parent class*, og spesifisere at det er konstruktøren som skal kalles på. Argumentene sendes da videre til `class Circle` sin konstruktør og lagres der.\n",
    "\n",
    "Tilsvarende er metoden `area()` overskrevet. Ettersom en sphære sitt areal er fire ganger arealet til en sirkel, kalles `area()` metoden til *parent class*.\n",
    "\n",
    "Metoden `volume()` ligger naturligvis ikke i `class Circle`. Metoden i `class Sphere` overskriver dermed ingenting, det er en metode kun `Sphere` har.\n",
    "\n",
    "Special method `__str__()` bruker ikke arv, men overskirves i `class Sphere`. Merk at funksjonen i `Sphere` har tilgang til alle variablene som ble lagret i *parent class* `Cricle`."
   ]
  },
  {
   "cell_type": "code",
   "execution_count": 10,
   "metadata": {
    "collapsed": true
   },
   "outputs": [],
   "source": [
    "class Sphere(Circle):\n",
    "    def __init__(self, x0, y0, z0, R):\n",
    "        self.z0 = z0\n",
    "        super().__init__(x0, y0, R)      # call the constructor of super class \n",
    "        \n",
    "    def area(self):\n",
    "        return 4*super().area()\n",
    "    \n",
    "    def volmue(self):\n",
    "        return 4/3*pi*self.R**3\n",
    "    \n",
    "    def __str__(self):\n",
    "        return \"Sphere with raidus %.3g and center at (%.1f, %.1f, %.1f)\" %(self.R, self.x0, self.y0, self.z0)"
   ]
  },
  {
   "cell_type": "markdown",
   "metadata": {
    "collapsed": true
   },
   "source": [
    "### Funksjonen `isinstance()`\n",
    "\n",
    "Funksjonen `isinstance(instance, class)` returnerer boolske utrykk `True` eller `False` på om `instance` er en instans av klassen `class` eller ikke. \n",
    "\n",
    "Vi kan begynne med å spørre `isinstance` noe som opplagt er sant:"
   ]
  },
  {
   "cell_type": "code",
   "execution_count": 11,
   "metadata": {},
   "outputs": [
    {
     "name": "stdout",
     "output_type": "stream",
     "text": [
      "child  is of class  Child:  True\n",
      "parent is of class Parent:  True\n"
     ]
    }
   ],
   "source": [
    "print(\"child  is of class  Child: \", isinstance(child, Child))\n",
    "print(\"parent is of class Parent: \", isinstance(parent, Parent))"
   ]
  },
  {
   "cell_type": "markdown",
   "metadata": {},
   "source": [
    "Så noe som opplagt ikke er sant:"
   ]
  },
  {
   "cell_type": "code",
   "execution_count": 12,
   "metadata": {},
   "outputs": [
    {
     "name": "stdout",
     "output_type": "stream",
     "text": [
      "child  is of class Circle:  False\n",
      "parent is of class Circle:  False\n"
     ]
    }
   ],
   "source": [
    "print(\"child  is of class Circle: \", isinstance(child, Circle))\n",
    "print(\"parent is of class Circle: \", isinstance(child, Circle))"
   ]
  },
  {
   "cell_type": "markdown",
   "metadata": {},
   "source": [
    "Men merk hva som skjer når klassen arver:"
   ]
  },
  {
   "cell_type": "code",
   "execution_count": 13,
   "metadata": {},
   "outputs": [
    {
     "name": "stdout",
     "output_type": "stream",
     "text": [
      "child  is of class Parent:  True\n",
      "parent is of class  Child:  False\n"
     ]
    }
   ],
   "source": [
    "print(\"child  is of class Parent: \", isinstance(child, Parent))\n",
    "print(\"parent is of class  Child: \", isinstance(parent, Child))"
   ]
  }
 ],
 "metadata": {
  "kernelspec": {
   "display_name": "Python 3",
   "language": "python",
   "name": "python3"
  },
  "language_info": {
   "codemirror_mode": {
    "name": "ipython",
    "version": 3
   },
   "file_extension": ".py",
   "mimetype": "text/x-python",
   "name": "python",
   "nbconvert_exporter": "python",
   "pygments_lexer": "ipython3",
   "version": "3.6.8"
  }
 },
 "nbformat": 4,
 "nbformat_minor": 2
}
