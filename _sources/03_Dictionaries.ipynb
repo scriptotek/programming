{
 "cells": [
  {
   "cell_type": "markdown",
   "metadata": {},
   "source": [
    "# Dictionaries \n",
    "\n",
    "This notebook is based on materials kindly provided by the [IN1900]( https://www.uio.no/studier/emner/matnat/ifi/IN1900/h19/) team.\n",
    "\n",
    "Dictionaries are lookup tables.\n",
    "We can use dictionaries to store and look up information.\n",
    "Rather than numerical indexes, a dictionary assigns a *key* to each stored *value*.\n",
    "Keys are usually strings, and we can use the key to find the value.\n",
    "\n",
    "Like lists, dictionaries can store many different types of data.\n",
    "In Python code dictionaries are enclosed in curly brackets: `{ }`."
   ]
  },
  {
   "cell_type": "code",
   "execution_count": null,
   "metadata": {},
   "outputs": [],
   "source": [
    "dictionary = {}\n",
    "print(type(dictionary))"
   ]
  },
  {
   "cell_type": "markdown",
   "metadata": {},
   "source": [
    "## Creating Dictionaries\n",
    "\n",
    "We can create a new dictionary, and add some elements:"
   ]
  },
  {
   "cell_type": "code",
   "execution_count": null,
   "metadata": {},
   "outputs": [],
   "source": [
    "phone_directory = {\"Alice\": 12345679, \"Bob\": 2345678}\n",
    "# Add an entry\n",
    "phone_directory[\"Charlie\"] = 456789\n",
    "\n",
    "print(phone_directory)"
   ]
  },
  {
   "cell_type": "markdown",
   "metadata": {},
   "source": [
    "## Getting Items\n",
    "\n",
    "We can get items like we do with lists. However, with dictionaries we use keys rather than numerical indexes:"
   ]
  },
  {
   "cell_type": "code",
   "execution_count": null,
   "metadata": {},
   "outputs": [],
   "source": [
    "number = phone_directory[\"Alice\"]\n",
    "print(number)"
   ]
  },
  {
   "cell_type": "markdown",
   "metadata": {},
   "source": [
    "### <span style=\"color:green\"> Exercise: A Dictionary Describing a Book </span>\n",
    "\n",
    "Create a dictionary containing these data about a book:\n",
    "\n",
    "    Title: Scenario\n",
    "    Author: Jon Bing\n",
    "\n",
    "Then, print each value in the dictionary on the screen."
   ]
  },
  {
   "cell_type": "code",
   "execution_count": null,
   "metadata": {},
   "outputs": [],
   "source": [
    "book = #Your solution"
   ]
  },
  {
   "cell_type": "markdown",
   "metadata": {},
   "source": [
    "## Iterating Over Dictionaries\n",
    "\n",
    "When you iterate over dictionary, you iterate over the *keys* not the *values*."
   ]
  },
  {
   "cell_type": "code",
   "execution_count": null,
   "metadata": {},
   "outputs": [],
   "source": [
    "for name in phone_directory:\n",
    "    number = phone_directory[name]\n",
    "    print(name, \"has phone number\", number)"
   ]
  },
  {
   "cell_type": "markdown",
   "metadata": {},
   "source": [
    "## Is this Key in the Dictionary?\n",
    "\n",
    "We can check for the presence of a key with the Boolean expression\n",
    "`key in dictionary`.\n",
    "\n",
    "Boolean expressions are `True` or `False`."
   ]
  },
  {
   "cell_type": "code",
   "execution_count": null,
   "metadata": {},
   "outputs": [],
   "source": [
    "print(\"Alice\" in phone_directory)\n",
    "print(\"Alex\" in phone_directory)"
   ]
  },
  {
   "cell_type": "markdown",
   "metadata": {},
   "source": [
    "## Nested Dictionaries\n",
    "\n",
    "Like with nested lists, we can put dictionaries inside other dictionaries."
   ]
  },
  {
   "cell_type": "code",
   "execution_count": null,
   "metadata": {},
   "outputs": [],
   "source": [
    "phone_directory = {\"Alice\": {\"phone\": 12345679,\n",
    "                             \"mobile\": 45678},\n",
    "                   \"Bob\": {\"phone\": 145679,\n",
    "                           \"mobile\": 4578}}\n",
    "for name in phone_directory:\n",
    "    numbers = phone_directory[name]\n",
    "    for device in numbers:\n",
    "        print(name, \"has\", device, \"with number\", numbers[device])"
   ]
  },
  {
   "cell_type": "markdown",
   "metadata": {},
   "source": [
    "### <span style=\"color:green\"> Exercise: A Nested Dictionary </span>\n",
    "\n",
    "Below is a dictionary containing two books. Print the title of the first book, and the year of the second."
   ]
  },
  {
   "cell_type": "code",
   "execution_count": null,
   "metadata": {},
   "outputs": [],
   "source": [
    "library = {'8251790530': {'title': 'Azur',\n",
    "                          'author': 'Jon Bing',\n",
    "                          'year': 1975},\n",
    "           '8247800497': {'title': 'Zalt',\n",
    "                          'author': 'Jon Bing',\n",
    "                          'year': 1976}}\n",
    "\n",
    "#Your solution"
   ]
  },
  {
   "cell_type": "markdown",
   "metadata": {},
   "source": [
    "### <span style=\"color:green\"> Exercise: Iterating Over a Nested Dictionary </span>\n",
    "\n",
    "We will continue using the dictionary `library` from the previous exercise.\n",
    "\n",
    "Now, use `for`-loops to print out all the bibliographic data in the `library` dictionary  by iterating over the keys of the dictionaries.\n",
    "\n",
    "You will need to use two nested `for`-loops."
   ]
  },
  {
   "cell_type": "code",
   "execution_count": null,
   "metadata": {},
   "outputs": [],
   "source": [
    "library = {'8251790530': {'title': 'Azur',\n",
    "                          'author': 'Jon Bing',\n",
    "                          'year': 1975},\n",
    "           '8247800497': {'title': 'Zalt',\n",
    "                          'author': 'Jon Bing',\n",
    "                          'year': 1976}}\n",
    "\n",
    "for #Your solution"
   ]
  },
  {
   "cell_type": "markdown",
   "metadata": {},
   "source": [
    "### <span style=\"color:green\"> Exercise: A Very Nested Dictionary </span>\n",
    "\n",
    "Index the dictionary `people` in order to print out the phone number of Alice."
   ]
  },
  {
   "cell_type": "code",
   "execution_count": null,
   "metadata": {},
   "outputs": [],
   "source": [
    "people = {'Alice': {'Age': 37, 'numbers': {'phone': 12345679,\n",
    "                                           'mobile': 45678}},\n",
    "          'Bob': {'Age': 42, 'numbers': {'phone': 145679,\n",
    "                                         'mobile': 4578}}}\n",
    "\n",
    "#Your solution"
   ]
  },
  {
   "cell_type": "markdown",
   "metadata": {},
   "source": [
    "##  <span style=\"color:blue\">Key Points</span>\n",
    "\n",
    "- A dictionary links *values* to *keys*: `phone_directory[\"Alice\"]`\n",
    "- Keys are usually strings, values can be any object\n",
    "- We can iterate over dictionaries"
   ]
  }
 ],
 "metadata": {
  "kernelspec": {
   "display_name": "Python 3",
   "language": "python",
   "name": "python3"
  },
  "language_info": {
   "codemirror_mode": {
    "name": "ipython",
    "version": 3
   },
   "file_extension": ".py",
   "mimetype": "text/x-python",
   "name": "python",
   "nbconvert_exporter": "python",
   "pygments_lexer": "ipython3",
   "version": "3.8.8"
  }
 },
 "nbformat": 4,
 "nbformat_minor": 4
}
