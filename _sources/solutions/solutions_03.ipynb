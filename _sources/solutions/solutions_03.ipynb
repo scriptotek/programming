{
 "cells": [
  {
   "cell_type": "markdown",
   "metadata": {},
   "source": [
    "### <span style=\"color:green\"> Exercise: A Dictionary Describing a Book </span>\n",
    "\n",
    "Create a dictionary containing these data about a book:\n",
    "\n",
    "    Title: Scenario\n",
    "    Author: Jon Bing\n",
    "\n",
    "Then, print each value in the dictionary on the screen.\n",
    "\n",
    "####  <span style=\"color:blue\"> Solution: A Dictionary Describing a Book </span> \n",
    "\n",
    "The solution is quite straight forward. Remember to use quotation marks on String!"
   ]
  },
  {
   "cell_type": "code",
   "execution_count": null,
   "metadata": {},
   "outputs": [],
   "source": [
    "book = {'title': 'Scenario', 'author': 'Jon Bing'}\n",
    "\n",
    "print('title:', book['title'])\n",
    "print('author:', book['author'])"
   ]
  },
  {
   "cell_type": "markdown",
   "metadata": {},
   "source": [
    "### <span style=\"color:green\"> Exercise: A Nested Dictionary </span>\n",
    "\n",
    "Below is a dictionary containing two books. Print the title of the first book, and the year of the second.\n",
    "\n",
    "####  <span style=\"color:blue\"> Solution: A Nested Dictionary </span>\n",
    "The first book has key `8251790530`. Indexing with this key gives you the whole dictionary. In the next line the key `title` is used to access the title."
   ]
  },
  {
   "cell_type": "code",
   "execution_count": null,
   "metadata": {},
   "outputs": [],
   "source": [
    "library = {'8251790530': {'title': 'Azur',\n",
    "                          'author': 'Jon Bing',\n",
    "                          'year': 1975},\n",
    "           '8247800497': {'title': 'Zalt',\n",
    "                          'author': 'Jon Bing',\n",
    "                          'year': 1976}}\n",
    "\n",
    "first_book = library['8251790530']\n",
    "print('Title:', first_book['title'])\n",
    "second_book = library['8247800497']\n",
    "print('Year:', second_book['year'])"
   ]
  },
  {
   "cell_type": "markdown",
   "metadata": {},
   "source": [
    "### <span style=\"color:green\"> Exercise: Iterating Over a Nested Dictionary </span>\n",
    "\n",
    "We will continue using the dictionary `library` from the previous exercise.\n",
    "\n",
    "Now, use `for`-loops to print out all the bibliographic data in the `library` dictionary  by iterating over the keys of the dictionaries.\n",
    "\n",
    "You will need to use two nested `for`-loops.\n",
    "\n",
    "####  <span style=\"color:blue\"> Solution: Iterating Over a Nested Dictionary </span>\n",
    "\n",
    "Iterating over the dictionary `library` gives you the long numbers, the `book_id`. Index the dictionary with `book_id` to get the *inner* dictionary containing all the available information on the book. Then do another `for`-loop over the *inner* dictionary to get it's keys and values."
   ]
  },
  {
   "cell_type": "code",
   "execution_count": null,
   "metadata": {},
   "outputs": [],
   "source": [
    "library = {'8251790530': {'title': 'Azur',\n",
    "                          'author': 'Jon Bing',\n",
    "                          'year': 1975},\n",
    "           '8247800497': {'title': 'Zalt',\n",
    "                          'author': 'Jon Bing',\n",
    "                          'year': 1976}}\n",
    "\n",
    "print(\"Titles of books:\")\n",
    "for book_id in library:\n",
    "    print('Book ID:', book_id)\n",
    "    book = library[book_id]\n",
    "    for key in book:\n",
    "        value = book[key]\n",
    "        print(key,':', value)\n",
    "    print() #empty line to separate the books"
   ]
  },
  {
   "cell_type": "markdown",
   "metadata": {},
   "source": [
    "### <span style=\"color:green\"> Exercise: A Very Nested Dictionary </span>\n",
    "\n",
    "Index the dictionary `people` in order to print out the phone number of Alice.\n",
    "\n",
    "####  <span style=\"color:blue\"> Solution:  A Very Nested Dictionary </span>\n",
    "The way of indexing is shown step by step below. The indexing could be done in one line:\n",
    "```\n",
    "phone_number = people['Alice']['numbers']['phone']\n",
    "```\n",
    "Use several steps if it helps you understand your program better!"
   ]
  },
  {
   "cell_type": "code",
   "execution_count": null,
   "metadata": {},
   "outputs": [],
   "source": [
    "people = {'Alice': {'Age': 37, 'numbers': {'phone': 12345679,\n",
    "                                           'mobile': 45678}},\n",
    "          'Bob': {'Age': 42, 'numbers': {'phone': 145679,\n",
    "                                         'mobile': 4578}}}\n",
    "\n",
    "person = people['Alice']\n",
    "numbers = person['numbers']\n",
    "print(numbers['phone'])"
   ]
  },
  {
   "cell_type": "markdown",
   "metadata": {},
   "source": [
    "All done!"
   ]
  }
 ],
 "metadata": {
  "kernelspec": {
   "display_name": "Python 3",
   "language": "python",
   "name": "python3"
  },
  "language_info": {
   "codemirror_mode": {
    "name": "ipython",
    "version": 3
   },
   "file_extension": ".py",
   "mimetype": "text/x-python",
   "name": "python",
   "nbconvert_exporter": "python",
   "pygments_lexer": "ipython3",
   "version": "3.7.7"
  }
 },
 "nbformat": 4,
 "nbformat_minor": 2
}
