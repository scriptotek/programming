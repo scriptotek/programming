{
 "cells": [
  {
   "cell_type": "markdown",
   "metadata": {},
   "source": [
    "## Your address\n",
    "\n",
    "Create three variables containing your name, street address and city.\n",
    "Then print these variables on three separate lines.\n",
    "\n",
    "### Solution:"
   ]
  },
  {
   "cell_type": "code",
   "execution_count": null,
   "metadata": {},
   "outputs": [],
   "source": [
    "name = 'John Doe'\n",
    "street = 'Main Street'\n",
    "city = 'Oslo'\n",
    "print(name)\n",
    "print(street)\n",
    "print(city)"
   ]
  },
  {
   "cell_type": "markdown",
   "metadata": {},
   "source": [
    "## User input\n",
    "\n",
    "We can use the function `input(question)` to ask the user a question and get a reply.\n",
    "`question` is a string that is printed to the user. We can store the result in a variable, for example:\n",
    "\n",
    "    name = input(\"What's your name? \")\n",
    "    \n",
    "Use the input function to ask for the user's name and age (separately).\n",
    "Then print a greeting including the user's name.\n",
    "\n",
    "### Solution:\n",
    "\n",
    "Notice that we must include a blank at the end of the question."
   ]
  },
  {
   "cell_type": "code",
   "execution_count": null,
   "metadata": {},
   "outputs": [],
   "source": [
    "name = input(\"What's your name? \")\n",
    "age = input(\"How old are you? \")\n",
    "print('Hi there', name)"
   ]
  }
 ],
 "metadata": {
  "kernelspec": {
   "display_name": "Python 3",
   "language": "python",
   "name": "python3"
  },
  "language_info": {
   "codemirror_mode": {
    "name": "ipython",
    "version": 3
   },
   "file_extension": ".py",
   "mimetype": "text/x-python",
   "name": "python",
   "nbconvert_exporter": "python",
   "pygments_lexer": "ipython3",
   "version": "3.7.7"
  }
 },
 "nbformat": 4,
 "nbformat_minor": 4
}
