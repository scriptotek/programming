{
 "cells": [
  {
   "cell_type": "markdown",
   "metadata": {},
   "source": [
    "### <span style=\"color:green\"> Exercise: Adding Elements to a List </span>  \n",
    "\n",
    "The list `days` below contains the weekdays, but is missing the weekend. Your task will be to add *Saturday* and *Sunday* to the existing list `days`. \n",
    "\n",
    "Start by printing out the length of the list `days` using the function `len()`. Then, add the two days of the weekend to `days`. Finish by printing out the new length of the list using the `len()`-function. \n",
    "\n",
    "An example of how your output could be:\n",
    "```\n",
    "There are 5 days!\n",
    "There are 7 days!\n",
    "``` \n",
    "The text is not strictly necessary, the numbers are the important part!\n",
    "\n",
    "####  <span style=\"color:blue\"> Solution: Adding Elements to a List </span> \n",
    "\n",
    "Make sure to use `days.append(\"Saturday\")`and NOT `days.append(Saturday)`. In the latter case, Python will attempt to find a variable called Saturday, which will invoke a `NameError`."
   ]
  },
  {
   "cell_type": "code",
   "execution_count": null,
   "metadata": {},
   "outputs": [],
   "source": [
    "days = [\"Monday\", \"Tuesday\", \"Wednesday\", \"Thursday\", \"Friday\"] \n",
    "print(\"There are\", len(days), \"days!\")\n",
    "\n",
    "# adding the weekend\n",
    "days.append(\"Saturday\")\n",
    "days.append(\"Sunday\")\n",
    "\n",
    "print(\"There are\", len(days), \"days!\")"
   ]
  },
  {
   "cell_type": "markdown",
   "metadata": {},
   "source": [
    "### <span style=\"color:green\">Exercise: Indexing Lists</span>  \n",
    "\n",
    "Change the variable `index` in the code below such that the word *something* is printed when the code snippet is run.\n",
    "\n",
    "####  <span style=\"color:blue\"> Solution: Indexing Lists </span> \n",
    "\n",
    "The word *something* is the fourth element in the list. Since lists start counting at 0 and not 1, the index needed is 3."
   ]
  },
  {
   "cell_type": "code",
   "execution_count": null,
   "metadata": {},
   "outputs": [],
   "source": [
    "Margaret_Lanterman = ['my', 'log', 'has', 'something', 'to', 'tell', 'you.']\n",
    "\n",
    "index = 3\n",
    "print(Margaret_Lanterman[index])"
   ]
  },
  {
   "cell_type": "markdown",
   "metadata": {},
   "source": [
    "### <span style=\"color:green\">Exercise: Dates and Indexing Nested Lists</span> \n",
    "\n",
    "Change the indexes in the code below, so that the printed information is correct.\n",
    "\n",
    "####  <span style=\"color:blue\"> Solution: Dates and Indexing Nested Lists </span> \n",
    "\n",
    " If you struggled with this exercise, then we hope that you will be able to print out your birthday after being guided through the Christmas example.  \n",
    "\n",
    "Christmas (in Norway) is the 24’th of December. The `days` list is NOT a nested list. Since the numbers are listed in ascending order, we know that the number 24 is the 24’th element in the list `days`. Since indexing starts at 0, we get the the number 24 is found at `days[23]`. \n",
    "\n",
    "The months are put in nested lists.  The list `month` contains season-lists. December is in winter, so first thing is to access the list `winter` from `month`. The list `winter` can be found at `months[2]`. Now, `months[2]` and `winter` is the same list, so to get December, you index `months[2]` the same way you would index `winter`. Since December is found in `winter[0]`, the final answer to get December from `months` is `months[2][0]`."
   ]
  },
  {
   "cell_type": "code",
   "execution_count": null,
   "metadata": {},
   "outputs": [],
   "source": [
    "summer = [\"June\", \"July\", \"August\"]\n",
    "autum = [\"September\", \"October\", \"November\"]\n",
    "winter = [\"December\", \"January\", \"February\"]\n",
    "spring = [\"March\", \"April\", \"May\"]\n",
    "\n",
    "months = [summer, autum, winter, spring]\n",
    "\n",
    "\n",
    "# change the indices below\n",
    "print(\"My birthday is the 10th of {}.\".format(months[0][2]))\n",
    "print(\"Christmas is the 24th of {}.\".format(months[2][0]))"
   ]
  },
  {
   "cell_type": "markdown",
   "metadata": {},
   "source": [
    "### <span style=\"color:green\">Exercise: Loop</span> \n",
    "\n",
    "We can also loop or iterate over lists of strings.\n",
    "Complete the following code, to loop (iterate) over the summer months:\n",
    "\n",
    "####  <span style=\"color:blue\"> Solution: Loop </span> "
   ]
  },
  {
   "cell_type": "code",
   "execution_count": 1,
   "metadata": {},
   "outputs": [
    {
     "name": "stdout",
     "output_type": "stream",
     "text": [
      "June\n",
      "July\n",
      "August\n"
     ]
    }
   ],
   "source": [
    "months = [\"June\", \"July\", \"August\"]\n",
    "\n",
    "for month in months:\n",
    "    print(month)"
   ]
  },
  {
   "cell_type": "markdown",
   "metadata": {},
   "source": [
    "### <span style=\"color:green\">Exercise: Nested Loops</span> \n",
    "\n",
    "Next, we iterate over a nested list of strings:\n",
    "Complete the following code, to loop (iterate) over all the months.\n",
    "You will need two nested `for`-loops.\n",
    "\n",
    "####  <span style=\"color:blue\"> Solution: Nested Loops </span> "
   ]
  },
  {
   "cell_type": "code",
   "execution_count": 5,
   "metadata": {},
   "outputs": [
    {
     "name": "stdout",
     "output_type": "stream",
     "text": [
      "June\n",
      "July\n",
      "August\n",
      "\n",
      "September\n",
      "October\n",
      "November\n",
      "\n",
      "December\n",
      "January\n",
      "February\n",
      "\n",
      "March\n",
      "April\n",
      "May\n",
      "\n"
     ]
    }
   ],
   "source": [
    "summer = [\"June\", \"July\", \"August\"]\n",
    "autum = [\"September\", \"October\", \"November\"]\n",
    "winter = [\"December\", \"January\", \"February\"]\n",
    "spring = [\"March\", \"April\", \"May\"]\n",
    "\n",
    "seasons = [summer, autum, winter, spring]\n",
    "\n",
    "for season in seasons:\n",
    "    for month in season:\n",
    "        print(month)\n",
    "    print() #blank line to separate the seasons"
   ]
  },
  {
   "cell_type": "markdown",
   "metadata": {},
   "source": [
    "### <span style=\"color:green\">Exercise: Indexing in a Loop</span> \n",
    "\n",
    "The list `names` contains a few names and the list `birth_years` contain their corresponding birth years. There is also a `for`-loop that should print out the names with their corresponding birth years. The print-statement is incomplete, such that only the name is printed. \n",
    "\n",
    "Your task is to add the correct birth year in the print-statement in the loop by indexing `birth_years`.\n",
    "\n",
    "####  <span style=\"color:blue\"> Solution: Indexing in a Loop</span> \n",
    "\n",
    "The clue here is to look at how the names in the list `names` were indexed in the loop, and then do the same for the `brith_year` list."
   ]
  },
  {
   "cell_type": "code",
   "execution_count": null,
   "metadata": {},
   "outputs": [],
   "source": [
    "names = [\"John Cleese\", \"Terry Gilliam\", \"Eric Idle\", \"Michael Palin\", \"Graham Chapman\", \"Terry Jones\"]\n",
    "birth_years = [1939, 1940, 1943, 1943, 1941, 1942]\n",
    "\n",
    "for i in range(len(names)):\n",
    "    print(names[i], \"was born in\", birth_years[i])"
   ]
  },
  {
   "cell_type": "markdown",
   "metadata": {},
   "source": [
    "### <span style=\"color:green\"> Exercise: Using `range` </span>\n",
    " \n",
    " Predict what will be printed when running the code snippet below:\n",
    " \n",
    " ####  <span style=\"color:blue\"> Solution: Using `range` </span> \n",
    " \n",
    " The range starts at 0, and increments by 2. The range should not inculde the number 3 or higher. This gives 0, 2. The range stops here, as the next number (4) is too high.\n",
    " "
   ]
  },
  {
   "cell_type": "code",
   "execution_count": null,
   "metadata": {},
   "outputs": [],
   "source": [
    "for i in range(0, 3, 2):\n",
    "    print(i)"
   ]
  },
  {
   "cell_type": "markdown",
   "metadata": {},
   "source": [
    "### <span style=\"color:green\"> Exercise: Using `range` when Indexing </span>\n",
    " \n",
    "Predict what will be printed when running the code snippet below:\n",
    "\n",
    " ####  <span style=\"color:blue\"> Solution: Using `range` when Indexing  </span> \n",
    " The range will yield {0, 2} as seen in the previous exercise. This means that the loop will index at 0 and at 2. We have that `message[0]` is `\"You\"` and `message[2]` is `\"understand!\"`."
   ]
  },
  {
   "cell_type": "code",
   "execution_count": null,
   "metadata": {},
   "outputs": [],
   "source": [
    "message = [\"You\", \"don't\", \"understand!\"]\n",
    "\n",
    "for i in range(0, 3, 2):\n",
    "    print(message[i])"
   ]
  },
  {
   "cell_type": "markdown",
   "metadata": {},
   "source": [
    "###  <span style=\"color:green\"> Exercise: Nested Loops and `range()`</span>\n",
    "We can also use nested loops with `range`. Explain the loop below.\n",
    "\n",
    "####  <span style=\"color:blue\"> Solution: Nested Loops and `range()`</span> \n",
    "This is usually challenging for a beginner in programming, so no need to despair if you struggle with this.  \n",
    "\n",
    "Try to look at the output and convince yourself that it makes sense with how the nested loop is set up. An advice is to alter the number in the first range (e.g write `range(5)` instead of `range(4)`) and see how the output changes. \n",
    "\n",
    "To convince yourself that you really understood; can you predict the output if you changed the inner range to `for j in range(i)`? "
   ]
  },
  {
   "cell_type": "code",
   "execution_count": null,
   "metadata": {},
   "outputs": [],
   "source": [
    "for i in range(4):\n",
    "    print(\"Main loop i =\", i)\n",
    "    for j in range(i+1):\n",
    "        print(\"\\tInner loop j =\", j, \"  (i =\", i, \")\")"
   ]
  },
  {
   "cell_type": "markdown",
   "metadata": {},
   "source": [
    "All done!"
   ]
  }
 ],
 "metadata": {
  "kernelspec": {
   "display_name": "Python 3",
   "language": "python",
   "name": "python3"
  },
  "language_info": {
   "codemirror_mode": {
    "name": "ipython",
    "version": 3
   },
   "file_extension": ".py",
   "mimetype": "text/x-python",
   "name": "python",
   "nbconvert_exporter": "python",
   "pygments_lexer": "ipython3",
   "version": "3.7.7"
  }
 },
 "nbformat": 4,
 "nbformat_minor": 2
}
