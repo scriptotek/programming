{
 "cells": [
  {
   "cell_type": "markdown",
   "metadata": {},
   "source": [
    "### <span style=\"color:green\"> Exercise: String Search </span>\n",
    "\n",
    "Examine the code below. What results do you expect?\n",
    "\n",
    "Now, run the code. Does the result match your expectation?\n",
    "#### <span style=\"color:blue\"> Solution: String Search </span>\n",
    "Why do we find \"men\" in the quote?\n",
    "\n",
    "This is because \"men\" is part of \"women\". If you search for \" men \" (with whitespaces), then it will not find it. However, it will also not find \" ponds \"."
   ]
  },
  {
   "cell_type": "code",
   "execution_count": null,
   "metadata": {},
   "outputs": [],
   "source": [
    "quote = \"Strange women lying in ponds, distributing swords, is no basis for a system of government!\"\n",
    "sub_strings = [\"women\", \"men\", \"Camelot\"]\n",
    "\n",
    "for sub_string in sub_strings:\n",
    "    if sub_string in quote:\n",
    "        print(sub_string, \"was found in quote\")\n",
    "    else:\n",
    "        print(sub_string, \"was not found in quote\")"
   ]
  },
  {
   "cell_type": "markdown",
   "metadata": {},
   "source": [
    "`quote` contains \"women\" and \"men\", but not \"Camelot\".\n",
    "\"women\" contains \"men\" as a substring."
   ]
  },
  {
   "cell_type": "markdown",
   "metadata": {},
   "source": [
    "### <span style=\"color:green\"> Exercise: Inverting Names </span>\n",
    "\n",
    "Complete the function below which inverts names.\n",
    "\"John Doe\" should become \"Doe, John\".\n",
    "\n",
    "#### <span style=\"color:blue\"> Solution: Inverting Names </span>\n",
    "\n",
    "This requires some steps. The `reversed()` function only works on lists, so the string must first be converted using the `split` function. Then the list containing the name can be reversed. Lastly, the list is converted back into a String using the `join` function and inserting a comma between the surname and the given name.\n",
    "\n",
    "Not that this solution only works when there is only one surname and one given name."
   ]
  },
  {
   "cell_type": "code",
   "execution_count": null,
   "metadata": {},
   "outputs": [],
   "source": [
    "def invert_name(name):\n",
    "    \"\"\"\n",
    "    Convert a name from regular to inverted form\n",
    "    >>> invert_name('John Doe')\n",
    "    'Doe, John'\n",
    "    \"\"\"\n",
    "    name_parts = name.split(\" \")\n",
    "    reversed_name_parts = reversed(name_parts)\n",
    "    reversed_name = \", \".join(reversed_name_parts)\n",
    "    return reversed_name\n",
    "\n",
    "print(invert_name(\"John Doe\"))"
   ]
  },
  {
   "cell_type": "markdown",
   "metadata": {},
   "source": [
    "### <span style=\"color:green\"> Exercise: Sorting Numbers </span>\n",
    "\n",
    "We can also sort lists of numbers. Sort the list below, and print the result.\n",
    "\n",
    "#### <span style=\"color:blue\"> Solution: Sorting Numbers </span>\n",
    "\n",
    "Simply follow the example with the names. It is also perfectly fine to have a separate variable for the sorted list. "
   ]
  },
  {
   "cell_type": "code",
   "execution_count": null,
   "metadata": {},
   "outputs": [],
   "source": [
    "numbers =[2,5,3,15,1,35,0]\n",
    "\n",
    "numbers.sort()\n",
    "print(numbers)"
   ]
  },
  {
   "cell_type": "markdown",
   "metadata": {},
   "source": [
    "###  <span style=\"color:green\">Case Law Exercise: Attorneys Sorted </span>\n",
    "\n",
    "Here, we expand on the exercise \"Attorneys and Head Matter\" from part three, so you might want to have a look at your solution to that.\n",
    "Complete the code below to print the attorneys for each case in alphabetical order.\n",
    "\n",
    "####  <span style=\"color:blue\"> Solution: Attorneys Sorted </span>\n"
   ]
  },
  {
   "cell_type": "code",
   "execution_count": null,
   "metadata": {},
   "outputs": [],
   "source": [
    "import requests\n",
    "import json\n",
    "\n",
    "URL = \"https://api.case.law/v1/cases/?jurisdiction=ill&full_case=true&decision_date_min=2011-01-01&page_size=3\"\n",
    "data = requests.get(URL).json()\n",
    "\n",
    "#Your solution\n",
    "cases = data[\"results\"]\n",
    "for case in cases:\n",
    "    print(\"Case name:\", case[\"name_abbreviation\"])\n",
    "    casebody = case[\"casebody\"]\n",
    "    case_data = casebody[\"data\"]\n",
    "    attorneys = case_data[\"attorneys\"]\n",
    "    attorneys = sorted(attorneys) #only this line is added for sorting\n",
    "\n",
    "    for attorney in attorneys:\n",
    "        print(\"  Attorney:\", attorney)\n",
    "    print()"
   ]
  },
  {
   "cell_type": "markdown",
   "metadata": {},
   "source": [
    "###  <span style=\"color:green\">Library Data Exercise: Creators Sorted </span>\n",
    "\n",
    "Here, we expand on the exercise \"Creators\" from the chapter \"JSON for librarians\", so you might want to have a look at your solution to that.\n",
    "Complete the code below to print the creators for each case in alphabetical order.\n",
    "\n",
    "If you're starting from scratch, you will need to browse the\n",
    "[data](https://api.nb.no/catalog/v1/items?digitalAccessibleOnly=true&size=3&filter=mediatype:bøker&q=Bing,Jon).\n",
    "\n",
    "####  <span style=\"color:blue\"> Solution: Creators Sorted </span>"
   ]
  },
  {
   "cell_type": "code",
   "execution_count": null,
   "metadata": {},
   "outputs": [],
   "source": [
    "import requests\n",
    "import json\n",
    "\n",
    "URL = \"https://api.nb.no/catalog/v1/items?digitalAccessibleOnly=true&size=3&filter=mediatype:bøker&q=Bing,Jon\"\n",
    "data = requests.get(URL).json()\n",
    "embedded = data['_embedded']\n",
    "items = embedded['items']\n",
    "\n",
    "for item in items:\n",
    "    metadata = item['metadata']\n",
    "    print(\"Item title:\", metadata['title'])\n",
    "    creators = metadata['creators']\n",
    "    creators = sorted(creators)  # only this line is added\n",
    "\n",
    "    # version 1, print the list\n",
    "    print('Creators:', creators)\n",
    "\n",
    "    # version 2, looping over the list\n",
    "    for creator in creators:\n",
    "        print('Creator:', creator)\n",
    "\n",
    "    print()  # insert empty line"
   ]
  },
  {
   "cell_type": "markdown",
   "metadata": {},
   "source": [
    "All done!"
   ]
  }
 ],
 "metadata": {
  "kernelspec": {
   "display_name": "Python 3",
   "language": "python",
   "name": "python3"
  },
  "language_info": {
   "codemirror_mode": {
    "name": "ipython",
    "version": 3
   },
   "file_extension": ".py",
   "mimetype": "text/x-python",
   "name": "python",
   "nbconvert_exporter": "python",
   "pygments_lexer": "ipython3",
   "version": "3.7.7"
  }
 },
 "nbformat": 4,
 "nbformat_minor": 2
}
