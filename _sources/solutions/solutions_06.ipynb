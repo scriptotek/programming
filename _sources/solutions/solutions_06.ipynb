{
 "cells": [
  {
   "cell_type": "markdown",
   "metadata": {},
   "source": [
    "### <span style=\"color:green\"> Exercise: Make a Function </span>\n",
    "\n",
    "Define a greeting function. It should take a name as input, and print a greeting.\n",
    "Then use the function to greet first Alice, and then Bob. The output should be:\n",
    "\t\n",
    "    Hello Alice\n",
    "    Hello Bob\n",
    "  \n",
    "#### <span style=\"color:blue\"> Solution: Make a Function </span>\n",
    "The important thing to note here is that  is `name` is merely a placeholder (a variable). \n"
   ]
  },
  {
   "cell_type": "code",
   "execution_count": null,
   "metadata": {},
   "outputs": [],
   "source": [
    "def greet(name):\n",
    "    print(\"Hello\", name)\n",
    "    \n",
    "greet('Alice')\n",
    "greet('Bob')"
   ]
  },
  {
   "cell_type": "markdown",
   "metadata": {},
   "source": [
    "### <span style=\"color:green\"> Exercise: Returning Values </span>\n",
    "\n",
    "Define a function that returns the last element of a list.\n",
    "Then use the function on the list below:\n",
    "\n",
    "#### <span style=\"color:blue\"> Solution: Returning Values </span>\n",
    "There are several ways to do this, but the simplest way to access the last element of a list is to index by -1."
   ]
  },
  {
   "cell_type": "code",
   "execution_count": null,
   "metadata": {},
   "outputs": [],
   "source": [
    "def get_last(sequence):\n",
    "    last = sequence[-1]\n",
    "    return last\n",
    "\n",
    "items = [\"first\", \"second\", \"third\"]\n",
    "print(get_last(items))"
   ]
  },
  {
   "cell_type": "markdown",
   "metadata": {},
   "source": [
    "###  <span style=\"color:green\"> Case Law Exercise: functions to get information </span>\n",
    " \n",
    "Here, we will continue working with our JSON data.\n",
    "Define a function that takes a case as an argument, and returns the name of the court.\n",
    "\n",
    "The code below applies this function to the cases in a loop. Make sure you use the function name that is called in the loop.\n",
    "\n",
    "You might need to browse the [data](https://api.case.law/v1/cases/?jurisdiction=ill&full_case=true&decision_date_min=2011-01-01&page_size=1\").\n",
    "\n",
    "####  <span style=\"color:blue\">  Solution: functions to get information </span>\n",
    "\n",
    "Remember that `case` is a nested dictionary. To find the court name, you first have to access `court` from the dictionary."
   ]
  },
  {
   "cell_type": "code",
   "execution_count": null,
   "metadata": {},
   "outputs": [],
   "source": [
    "import requests\n",
    "import json\n",
    "\n",
    "def get_court_name(case):\n",
    "    '''Returns the name of the court for this case'''\n",
    "    court = case[\"court\"]\n",
    "    court_name = court[\"name\"]\n",
    "    return court_name\n",
    "\n",
    "URL = \"https://api.case.law/v1/cases/?full_case=true&decision_date_min=2011-01-01&page_size=3\"\n",
    "data = requests.get(URL).json()\n",
    "\n",
    "cases = data[\"results\"]\n",
    "for case in cases:\n",
    "    print(get_court_name(case))"
   ]
  },
  {
   "cell_type": "markdown",
   "metadata": {},
   "source": [
    "### <span style=\"color:green\">Library Data Exercise: Function to get the Title </span>\n",
    "\n",
    "Here, we will continue working with our JSON data.\n",
    "Define a function that takes a book as an argument and returns the book title.\n",
    "\n",
    "The code below applies this function to the books in a loop. Make sure you use the function name that is called in the loop.\n",
    "\n",
    "You might need to browse the [data](https://api.nb.no/catalog/v1/items?digitalAccessibleOnly=true&size=3&filter=mediatype:bøker&q=Bing,Jon).\n",
    "\n",
    "####  <span style=\"color:blue\">Solution: Function to get the Title </span>\n",
    "\n",
    "Remember that `book` is a nested dictionary. To find the title, you first have to access `metadata` from the dictionary."
   ]
  },
  {
   "cell_type": "code",
   "execution_count": null,
   "metadata": {},
   "outputs": [],
   "source": [
    "import requests\n",
    "import json\n",
    "\n",
    "def get_title(book):\n",
    "    'Returns the title of the given book'\n",
    "    metadata = book['metadata']\n",
    "    title = metadata['title']\n",
    "    return title\n",
    "\n",
    "\n",
    "URL = \"https://api.nb.no/catalog/v1/items?digitalAccessibleOnly=true&size=3&filter=mediatype:bøker&q=Bing,Jon\"\n",
    "data = requests.get(URL).json()\n",
    "embedded = data['_embedded']\n",
    "items = embedded['items']\n",
    "\n",
    "for item in items:\n",
    "    print(get_title(item))"
   ]
  },
  {
   "cell_type": "markdown",
   "metadata": {},
   "source": [
    "All done!"
   ]
  }
 ],
 "metadata": {
  "kernelspec": {
   "display_name": "Python 3",
   "language": "python",
   "name": "python3"
  },
  "language_info": {
   "codemirror_mode": {
    "name": "ipython",
    "version": 3
   },
   "file_extension": ".py",
   "mimetype": "text/x-python",
   "name": "python",
   "nbconvert_exporter": "python",
   "pygments_lexer": "ipython3",
   "version": "3.7.7"
  }
 },
 "nbformat": 4,
 "nbformat_minor": 2
}
