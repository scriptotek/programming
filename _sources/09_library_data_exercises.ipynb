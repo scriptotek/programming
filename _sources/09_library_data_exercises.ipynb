{
 "cells": [
  {
   "cell_type": "markdown",
   "metadata": {},
   "source": [
    "# Library Data Exercises\n",
    "\n",
    "## <span style=\"color:green\"> Exercise: Count Works per Creator </span>\n",
    "\n",
    "In the JSON book data, each item has a `creator` field located in `metadata`.\n",
    "Complete the code below step-by-step to count the number of items per creator.\n",
    "\n",
    "You will need to browse the [data](https://api.nb.no/catalog/v1/items?digitalAccessibleOnly=true&size=1&filter=mediatype:bøker&q=Skatterett).\n",
    "\n",
    "## a)\n",
    "As before, the results contains the `items` in `_embedded`.\n",
    "Fetch these into a list `items` as before. Then loop over the items and print each item. Each item is a large dictionary, so expect a lot of text.\n",
    "\n",
    "## b)\n",
    "Now, change the content of the for loop. Instead of just printing the item, get the list of creators. You will need to find the path to follow.\n",
    "For now, print the list of creators.\n",
    "\n",
    "## c)\n",
    "Instead of printing the list of creators, loop over the list and print each creator.\n",
    "\n",
    "## d)\n",
    "Now we need to check if the creator already exists in our lookup table/dictionary `creator2count`.\n",
    "Use an if statement to start the count at one, if the creator isn't registered in the table.\n",
    "\n",
    "## e)\n",
    "Otherwise, if the creator is registered in the dictionary, increase the count by one.\n",
    "\n",
    "## f)\n",
    "With the counting completed, all that remains is to show the results.\n",
    "Loop over `creator2count` and print the result."
   ]
  },
  {
   "cell_type": "code",
   "execution_count": null,
   "metadata": {},
   "outputs": [],
   "source": [
    "import requests\n",
    "import json\n",
    "\n",
    "URL = \"https://api.nb.no/catalog/v1/items?digitalAccessibleOnly=true&size=20&filter=mediatype:bøker&q=Skatterett\"\n",
    "data = requests.get(URL).json()\n",
    "\n",
    "creator2count = {}  # example content {'Bing, Jon': 1}"
   ]
  }
 ],
 "metadata": {
  "kernelspec": {
   "display_name": "Python 3",
   "language": "python",
   "name": "python3"
  },
  "language_info": {
   "codemirror_mode": {
    "name": "ipython",
    "version": 3
   },
   "file_extension": ".py",
   "mimetype": "text/x-python",
   "name": "python",
   "nbconvert_exporter": "python",
   "pygments_lexer": "ipython3",
   "version": "3.7.10"
  }
 },
 "nbformat": 4,
 "nbformat_minor": 2
}
