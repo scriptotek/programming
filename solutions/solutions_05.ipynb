{
 "cells": [
  {
   "cell_type": "markdown",
   "metadata": {},
   "source": [
    "### <span style=\"color:green\"> Exercise: multiple hits </span>\n",
    "\n",
    "The code below is supposed to show a warning for temperatures above 70, but there is a bug.\n",
    "Find two different ways to fix the code, so that the warning is displayed.\n",
    "\n",
    "####  <span style=\"color:blue\"> Solution 1:  multiple hits </span>\n",
    "\n",
    "Change the last test to `if`."
   ]
  },
  {
   "cell_type": "code",
   "execution_count": null,
   "metadata": {},
   "outputs": [],
   "source": [
    "temperature = 120\n",
    "\n",
    "if temperature > 0:\n",
    "    print(\"it's warm\")\n",
    "elif temperature <= 0:\n",
    "    print(\"it's freezing\")\n",
    "if temperature > 70:\n",
    "    print(\"WARNING: dangerously hot\")"
   ]
  },
  {
   "cell_type": "markdown",
   "metadata": {},
   "source": [
    "####  <span style=\"color:blue\"> Solution 2:  multiple hits </span>\n",
    "\n",
    "Change the order of the tests.\n",
    "Note that this version produces different output, here only one line is printed.\n",
    "\n",
    "\n",
    "The exercise doesn't specify whether only the warning is supposed to be displayed. Sometimes we need to clarify vague requirements before we can write the program. "
   ]
  },
  {
   "cell_type": "code",
   "execution_count": null,
   "metadata": {},
   "outputs": [],
   "source": [
    "temperature = 120\n",
    "\n",
    "if temperature > 70:\n",
    "    print(\"WARNING: dangerously hot\")\n",
    "elif temperature > 0:\n",
    "    print(\"it's warm\")\n",
    "elif temperature <= 0:\n",
    "    print(\"it's freezing\")"
   ]
  },
  {
   "cell_type": "markdown",
   "metadata": {},
   "source": [
    "### <span style=\"color:green\"> Exercise: Boolean Operators </span>\n",
    "\n",
    "Again we look at the temperature test.\n",
    "This time, use a Boolean operator to fix this test so that the warning is displayed.\n",
    "\n",
    "####  <span style=\"color:blue\"> Solution :  Boolean Operators </span>\n",
    "\n",
    "The solution below uses two conditions for the message *it’s warm* to be printed out, by using the boolean operator `and`."
   ]
  },
  {
   "cell_type": "code",
   "execution_count": null,
   "metadata": {},
   "outputs": [],
   "source": [
    "temperature = 120\n",
    "\n",
    "if temperature > 0 and temperature <= 70:\n",
    "    print(\"it's warm\")\n",
    "elif temperature <= 0:\n",
    "    print(\"it's freezing\")\n",
    "elif temperature > 70:\n",
    "    print(\"WARNING: dangerously hot\")"
   ]
  },
  {
   "cell_type": "markdown",
   "metadata": {
    "collapsed": true
   },
   "source": [
    "### <span style=\"color:green\">Case Law Exercise: Count Dissenting Opinions</span>\n",
    "\n",
    "In the code below, we loop through a list of cases from the Case Law Api, then\n",
    "loop through the opinions for each of those cases. Each `opinion` has a `\"type\"`\n",
    "field which describes if it's a majority opinion, dissenting opinion or concurring opinion. \n",
    "First, try to run the code below to check if you can print out the value of this field for each opinion:\n",
    "```\n",
    "...\n",
    "```\n",
    "Now, try to modify the code below to count the number of dissenting opinions by using an `if` test with `opinion[\"type\"]`.\n",
    "If you find a dissent, you will need to increase the variable `dissent_count`:\n",
    "\n",
    "####  <span style=\"color:blue\"> Solution :  Count Dissenting Opinions </span>\n",
    "\n",
    "A common way of counting in programming is by using a *counter* variable. Simply set the counter variable to zero in the beginning of the program, and then increase the variable by adding one each time the criteria is met. In this case, an if-test is needed to check that the `type` is `dissent`."
   ]
  },
  {
   "cell_type": "code",
   "execution_count": null,
   "metadata": {},
   "outputs": [],
   "source": [
    "import requests\n",
    "import json\n",
    "\n",
    "URL = \"https://api.case.law/v1/cases/?jurisdiction=ill&full_case=true&decision_date_min=2011-01-01&page_size=20\"\n",
    "data = requests.get(URL).json()\n",
    "\n",
    "dissent_count = 0\n",
    "\n",
    "cases = data[\"results\"]\n",
    "for case in cases:\n",
    "    opinions = case[\"casebody\"][\"data\"][\"opinions\"]\n",
    "    for opinion in opinions:\n",
    "        # Your code here:\n",
    "        if opinion[\"type\"] == \"dissent\":\n",
    "            dissent_count = dissent_count + 1\n",
    "\n",
    "print(\"Number of dissents:\", dissent_count)"
   ]
  },
  {
   "cell_type": "markdown",
   "metadata": {},
   "source": [
    "### <span style=\"color:green\"> Library Data Exercise: Count Fulltext Documents </span>\n",
    "\n",
    "In the code below, we loop through a list of items from the National Library API.\n",
    "Each `item` has a dictionary `accessInfo`, containing a key `isDigital`.\n",
    "The corresponding value is a Boolean which is `True` if the document is available digitally in fulltext.\n",
    "First, try to run the code below to check if you can print out the value of `isDigital` for each item:\n",
    "```\n",
    "...\n",
    "```\n",
    "Now, try to modify the code below to count the number of dissenting opinions by using an `if` test with `opinion[\"type\"]`.\n",
    "If you find a dissent, you will need to increase the variable `dissent_count`.\n",
    "\n",
    "####  <span style=\"color:blue\"> Solution: Count Fulltext Documents </span>\n",
    "\n",
    "A common way of counting in programming is by using a *counter* variable. Simply set the counter variable to zero in the beginning of the program, and then increase the variable by adding one each time the criteria is met. In this case, an if-test is needed to check that `isDigital` is `True`.\n",
    "Here, we don't need to use a comparator, since the value of `isDigital` is already a Boolean."
   ]
  },
  {
   "cell_type": "code",
   "execution_count": null,
   "metadata": {},
   "outputs": [],
   "source": [
    "import requests\n",
    "import json\n",
    "\n",
    "URL = \"https://api.nb.no/catalog/v1/items?size=20&filter=mediatype:b%C3%B8ker&q=Bing,Jon\"\n",
    "data = requests.get(URL).json()\n",
    "embedded = data['_embedded']\n",
    "items = embedded['items']\n",
    "\n",
    "fulltext_count = 0\n",
    "\n",
    "for item in items:\n",
    "    accessInfo = item['accessInfo']\n",
    "    isDigital = accessInfo['isDigital']\n",
    "    if isDigital:\n",
    "        fulltext_count = fulltext_count + 1\n",
    "\n",
    "print('Number of fulltext documents found:', fulltext_count)"
   ]
  }
 ],
 "metadata": {
  "kernelspec": {
   "display_name": "Python 3",
   "language": "python",
   "name": "python3"
  },
  "language_info": {
   "codemirror_mode": {
    "name": "ipython",
    "version": 3
   },
   "file_extension": ".py",
   "mimetype": "text/x-python",
   "name": "python",
   "nbconvert_exporter": "python",
   "pygments_lexer": "ipython3",
   "version": "3.7.7"
  }
 },
 "nbformat": 4,
 "nbformat_minor": 2
}
