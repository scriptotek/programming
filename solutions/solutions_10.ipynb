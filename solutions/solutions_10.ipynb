{
 "cells": [
  {
   "cell_type": "markdown",
   "metadata": {},
   "source": [
    "# <span style=\"color:green\"> Exercise: Count Opinions per Author </span>\n",
    "\n",
    "In the JSON case law data, each opinion has an `author` field.\n",
    "Complete the code below to count the number of opinions per author.\n",
    "\n",
    "You will need to browse the [data](https://api.case.law/v1/cases/?jurisdiction=ill&full_case=true&decision_date_min=2011-01-01&page_size=1\").\n",
    "\n",
    "## a)"
   ]
  },
  {
   "cell_type": "code",
   "execution_count": null,
   "metadata": {
    "scrolled": true
   },
   "outputs": [],
   "source": [
    "import requests\n",
    "import json\n",
    "\n",
    "URL = \"https://api.case.law/v1/cases/?jurisdiction=ill&full_case=true&decision_date_min=2011-01-01&page_size=20\"\n",
    "data = requests.get(URL).json()\n",
    "\n",
    "author2count = {}\n",
    "\n",
    "cases = data[\"results\"]\n",
    "for case in cases:\n",
    "    print(case)"
   ]
  },
  {
   "cell_type": "markdown",
   "metadata": {},
   "source": [
    "## b)"
   ]
  },
  {
   "cell_type": "code",
   "execution_count": null,
   "metadata": {},
   "outputs": [],
   "source": [
    "import requests\n",
    "import json\n",
    "\n",
    "URL = \"https://api.case.law/v1/cases/?jurisdiction=ill&full_case=true&decision_date_min=2011-01-01&page_size=20\"\n",
    "data = requests.get(URL).json()\n",
    "\n",
    "author2count = {}\n",
    "\n",
    "cases = data[\"results\"]\n",
    "for case in cases:\n",
    "    casebody = case[\"casebody\"]\n",
    "    case_data = casebody[\"data\"]\n",
    "    opinions = case_data[\"opinions\"]\n",
    "    print(opinions)"
   ]
  },
  {
   "cell_type": "markdown",
   "metadata": {},
   "source": [
    "## c)"
   ]
  },
  {
   "cell_type": "code",
   "execution_count": null,
   "metadata": {},
   "outputs": [],
   "source": [
    "import requests\n",
    "import json\n",
    "\n",
    "URL = \"https://api.case.law/v1/cases/?jurisdiction=ill&full_case=true&decision_date_min=2011-01-01&page_size=20\"\n",
    "data = requests.get(URL).json()\n",
    "\n",
    "author2count = {}\n",
    "\n",
    "cases = data[\"results\"]\n",
    "for case in cases:\n",
    "    casebody = case[\"casebody\"]\n",
    "    case_data = casebody[\"data\"]\n",
    "    opinions = case_data[\"opinions\"]\n",
    "    for opinion in opinions:\n",
    "        author = opinion[\"author\"]\n",
    "        print(author)"
   ]
  },
  {
   "cell_type": "markdown",
   "metadata": {},
   "source": [
    "## d)"
   ]
  },
  {
   "cell_type": "code",
   "execution_count": null,
   "metadata": {},
   "outputs": [],
   "source": [
    "import requests\n",
    "import json\n",
    "\n",
    "URL = \"https://api.case.law/v1/cases/?jurisdiction=ill&full_case=true&decision_date_min=2011-01-01&page_size=20\"\n",
    "data = requests.get(URL).json()\n",
    "\n",
    "author2count = {}\n",
    "\n",
    "cases = data[\"results\"]\n",
    "for case in cases:\n",
    "    casebody = case[\"casebody\"]\n",
    "    case_data = casebody[\"data\"]\n",
    "    opinions = case_data[\"opinions\"]\n",
    "    for opinion in opinions:\n",
    "        author = opinion[\"author\"]\n",
    "        if author not in author2count:\n",
    "            author2count[author] = 1"
   ]
  },
  {
   "cell_type": "markdown",
   "metadata": {},
   "source": [
    "## e)"
   ]
  },
  {
   "cell_type": "code",
   "execution_count": null,
   "metadata": {},
   "outputs": [],
   "source": [
    "import requests\n",
    "import json\n",
    "\n",
    "URL = \"https://api.case.law/v1/cases/?jurisdiction=ill&full_case=true&decision_date_min=2011-01-01&page_size=20\"\n",
    "data = requests.get(URL).json()\n",
    "\n",
    "author2count = {}\n",
    "\n",
    "cases = data[\"results\"]\n",
    "for case in cases:\n",
    "    casebody = case[\"casebody\"]\n",
    "    case_data = casebody[\"data\"]\n",
    "    opinions = case_data[\"opinions\"]\n",
    "    for opinion in opinions:\n",
    "        author = opinion[\"author\"]\n",
    "        if author not in author2count:\n",
    "            author2count[author] = 1\n",
    "        else:\n",
    "            author2count[author] += 1\n"
   ]
  },
  {
   "cell_type": "markdown",
   "metadata": {},
   "source": [
    "## f)"
   ]
  },
  {
   "cell_type": "code",
   "execution_count": null,
   "metadata": {},
   "outputs": [],
   "source": [
    "import requests\n",
    "import json\n",
    "\n",
    "URL = \"https://api.case.law/v1/cases/?jurisdiction=ill&full_case=true&decision_date_min=2011-01-01&page_size=20\"\n",
    "data = requests.get(URL).json()\n",
    "\n",
    "author2count = {}\n",
    "\n",
    "cases = data[\"results\"]\n",
    "for case in cases:\n",
    "    casebody = case[\"casebody\"]\n",
    "    case_data = casebody[\"data\"]\n",
    "    opinions = case_data[\"opinions\"]\n",
    "    for opinion in opinions:\n",
    "        author = opinion[\"author\"]\n",
    "        if author not in author2count:\n",
    "            author2count[author] = 1\n",
    "        else:\n",
    "            author2count[author] += 1\n",
    "\n",
    "# Show results\n",
    "print(\"\\nNumber of opinions per author:\")\n",
    "for author in author2count:\n",
    "    count = author2count[author]\n",
    "    print(author, \"wrote\", count, \"opinions\")"
   ]
  }
 ],
 "metadata": {
  "kernelspec": {
   "display_name": "Python 3",
   "language": "python",
   "name": "python3"
  },
  "language_info": {
   "codemirror_mode": {
    "name": "ipython",
    "version": 3
   },
   "file_extension": ".py",
   "mimetype": "text/x-python",
   "name": "python",
   "nbconvert_exporter": "python",
   "pygments_lexer": "ipython3",
   "version": "3.7.7"
  }
 },
 "nbformat": 4,
 "nbformat_minor": 2
}
