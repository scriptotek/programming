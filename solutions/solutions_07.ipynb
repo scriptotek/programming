{
 "cells": [
  {
   "cell_type": "markdown",
   "metadata": {},
   "source": [
    "### <span style=\"color:green\"> Exercise: A Very Nested Dictionary </span>\n",
    "\n",
    "Index the dictionary `people` in order to print out the phone number of Alice."
   ]
  },
  {
   "cell_type": "code",
   "execution_count": 1,
   "metadata": {},
   "outputs": [
    {
     "name": "stdout",
     "output_type": "stream",
     "text": [
      "12345679\n"
     ]
    }
   ],
   "source": [
    "phone_directory = {\"Alice\": {\"phone\": 12345679,\n",
    "                             \"mobile\": 45678},\n",
    "                   \"Bob\": {\"phone\": 145679,\n",
    "                           \"mobile\": 4578}}\n",
    "people = {\"Alice\" : {\"Age\" : 37, \"number\" : phone_directory[\"Alice\"]},\n",
    "          \"Bob\" : {\"Age\" : 42, \"number\" : phone_directory[\"Bob\"]}}\n",
    "\n",
    "\n",
    "\n",
    "print(people['Alice']['number']['phone'])"
   ]
  },
  {
   "cell_type": "markdown",
   "metadata": {},
   "source": [
    "### <span style=\"color:green\"> Exercise: Count Opinions per Author </span>\n",
    "\n",
    "In the JSON case law data, each opinion has an `author` field.\n",
    "Complete the code below to count the number of opinions per author.\n",
    "\n",
    "You will need to browse the [data](https://api.case.law/v1/cases/?jurisdiction=ill&full_case=true&decision_date_min=2011-01-01&page_size=1\")."
   ]
  },
  {
   "cell_type": "code",
   "execution_count": 2,
   "metadata": {},
   "outputs": [
    {
     "name": "stdout",
     "output_type": "stream",
     "text": [
      "Number of opinions per author:\n",
      "JUSTICE EPSTEIN wrote 3 opinions\n",
      "JUSTICE GOLDENHERSH wrote 2 opinions\n",
      "JUSTICE CONNORS wrote 2 opinions\n",
      "JUSTICE HARRIS wrote 2 opinions\n",
      "PRESIDING JUSTICE GALLAGHER wrote 2 opinions\n"
     ]
    }
   ],
   "source": [
    "import requests\n",
    "import json\n",
    "\n",
    "\n",
    "URL = \"https://api.case.law/v1/cases/?jurisdiction=ill&full_case=true&decision_date_min=2011-01-01&page_size=20\"\n",
    "data = requests.get(URL).json()\n",
    "\n",
    "author2count = {}\n",
    "\n",
    "cases = data[\"results\"]\n",
    "for case in cases:\n",
    "    opinions = case[\"casebody\"][\"data\"][\"opinions\"]\n",
    "    for opinion in opinions:\n",
    "        author = opinion[\"author\"]\n",
    "        if author in author2count:\n",
    "            author2count[author] += 1\n",
    "        else:\n",
    "            author2count[author] = 1\n",
    "\n",
    "# Sorting by count\n",
    "sorted_authors = sorted(author2count, key=lambda author: author2count[author], reverse=True)\n",
    "print(\"Number of opinions per author:\")\n",
    "for author in sorted_authors[:5]:\n",
    "    count = author2count[author]\n",
    "    print(author, \"wrote\", count, \"opinions\")\n"
   ]
  }
 ],
 "metadata": {
  "kernelspec": {
   "display_name": "Python 3",
   "language": "python",
   "name": "python3"
  },
  "language_info": {
   "codemirror_mode": {
    "name": "ipython",
    "version": 3
   },
   "file_extension": ".py",
   "mimetype": "text/x-python",
   "name": "python",
   "nbconvert_exporter": "python",
   "pygments_lexer": "ipython3",
   "version": "3.6.3"
  }
 },
 "nbformat": 4,
 "nbformat_minor": 2
}
