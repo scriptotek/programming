{
 "cells": [
  {
   "cell_type": "markdown",
   "metadata": {},
   "source": [
    "### <span style=\"color:green\"> Exercise: A Dictionary Describing a Book </span>\n",
    "\n",
    "Create a dictionary containing these data about a book:\n",
    "\n",
    "    Title: Text retrieval in Norway\n",
    "    Author: Jon Bing\n",
    "\n",
    "Then, print each value in the dictionary on the screen."
   ]
  },
  {
   "cell_type": "code",
   "execution_count": null,
   "metadata": {},
   "outputs": [],
   "source": [
    "book = {'title': 'Text retrieval in Norway',\n",
    "        'author': 'Jon Bing'}\n",
    "\n",
    "print(book['title'])\n",
    "print(book['author'])"
   ]
  },
  {
   "cell_type": "markdown",
   "metadata": {},
   "source": [
    "### <span style=\"color:green\"> Exercise: A Nested Dictionary </span>\n",
    "\n",
    "Below is a dictionary containing two books. Print the title of the first book, and the year of the second."
   ]
  },
  {
   "cell_type": "code",
   "execution_count": 1,
   "metadata": {},
   "outputs": [
    {
     "name": "stdout",
     "output_type": "stream",
     "text": [
      "Author: Text retrieval in Norway\n",
      "Year: 1982\n"
     ]
    }
   ],
   "source": [
    "library = {'book1': {'title': 'Text retrieval in Norway',\n",
    "                     'author': 'Jon Bing',\n",
    "                     'year': 1981},\n",
    "           'book2': {'title': 'The electronic game gambit',\n",
    "                     'author': 'Jon Bing',\n",
    "                     'year': 1982}}\n",
    "\n",
    "print('Author:', library['book1']['title'])\n",
    "print('Year:', library['book2']['year'])"
   ]
  },
  {
   "cell_type": "markdown",
   "metadata": {},
   "source": [
    "### <span style=\"color:green\"> Exercise: A Very Nested Dictionary </span>\n",
    "\n",
    "Index the dictionary `people` in order to print out the phone number of Alice."
   ]
  },
  {
   "cell_type": "code",
   "execution_count": null,
   "metadata": {},
   "outputs": [],
   "source": [
    "phone_directory = {\"Alice\": {\"phone\": 12345679,\n",
    "                             \"mobile\": 45678},\n",
    "                   \"Bob\": {\"phone\": 145679,\n",
    "                           \"mobile\": 4578}}\n",
    "people = {\"Alice\" : {\"Age\" : 37, \"number\" : phone_directory[\"Alice\"]},\n",
    "          \"Bob\" : {\"Age\" : 42, \"number\" : phone_directory[\"Bob\"]}}\n",
    "\n",
    "\n",
    "\n",
    "print(people['Alice']['number']['phone'])"
   ]
  }
 ],
 "metadata": {
  "kernelspec": {
   "display_name": "Python 3",
   "language": "python",
   "name": "python3"
  },
  "language_info": {
   "codemirror_mode": {
    "name": "ipython",
    "version": 3
   },
   "file_extension": ".py",
   "mimetype": "text/x-python",
   "name": "python",
   "nbconvert_exporter": "python",
   "pygments_lexer": "ipython3",
   "version": "3.7.6"
  }
 },
 "nbformat": 4,
 "nbformat_minor": 2
}
