{
 "cells": [
  {
   "cell_type": "markdown",
   "metadata": {},
   "source": [
    "### <span style=\"color:green\"> Exercise: A Dictionary Describing a Book </span>\n",
    "\n",
    "Create a dictionary containing these data about a book:\n",
    "\n",
    "    Title: Scenario\n",
    "    Author: Jon Bing\n",
    "\n",
    "Then, print each value in the dictionary on the screen."
   ]
  },
  {
   "cell_type": "code",
   "execution_count": null,
   "metadata": {},
   "outputs": [],
   "source": [
    "book = {'title': 'Scenario',\n",
    "        'author': 'Jon Bing'}\n",
    "\n",
    "print(book['title'])\n",
    "print(book['author'])"
   ]
  },
  {
   "cell_type": "markdown",
   "metadata": {},
   "source": [
    "### <span style=\"color:green\"> Exercise: A Nested Dictionary </span>\n",
    "\n",
    "Below is a dictionary containing two books. Print the title of the first book, and the year of the second."
   ]
  },
  {
   "cell_type": "code",
   "execution_count": null,
   "metadata": {},
   "outputs": [],
   "source": [
    "library = {'8251790530': {'title': 'Azur',\n",
    "                          'author': 'Jon Bing',\n",
    "                          'year': 1975},\n",
    "           '8247800497': {'title': 'Zalt',\n",
    "                          'author': 'Jon Bing',\n",
    "                          'year': 1976}}\n",
    "\n",
    "book = library['8251790530']\n",
    "print('Title:', book['title'])\n",
    "book = library['8247800497']\n",
    "print('Year:', book['year'])"
   ]
  },
  {
   "cell_type": "markdown",
   "metadata": {},
   "source": [
    "### <span style=\"color:green\"> Exercise: A Very Nested Dictionary </span>\n",
    "\n",
    "Index the dictionary `people` in order to print out the phone number of Alice."
   ]
  },
  {
   "cell_type": "code",
   "execution_count": null,
   "metadata": {},
   "outputs": [],
   "source": [
    "people = {'Alice': {'Age': 37, 'numbers': {'phone': 12345679,\n",
    "                                           'mobile': 45678}},\n",
    "          'Bob': {'Age': 42, 'numbers': {'phone': 145679,\n",
    "                                         'mobile': 4578}}}\n",
    "\n",
    "person = people['Alice']\n",
    "numbers = person['numbers']\n",
    "print(numbers['phone'])"
   ]
  }
 ],
 "metadata": {
  "kernelspec": {
   "display_name": "Python 3",
   "language": "python",
   "name": "python3"
  },
  "language_info": {
   "codemirror_mode": {
    "name": "ipython",
    "version": 3
   },
   "file_extension": ".py",
   "mimetype": "text/x-python",
   "name": "python",
   "nbconvert_exporter": "python",
   "pygments_lexer": "ipython3",
   "version": "3.7.6"
  }
 },
 "nbformat": 4,
 "nbformat_minor": 2
}
