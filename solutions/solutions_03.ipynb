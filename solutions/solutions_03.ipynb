{
 "cells": [
  {
   "cell_type": "markdown",
   "metadata": {},
   "source": [
    "### <span style=\"color:green\"> Exercise: A Dictionary Describing a Book </span>\n",
    "\n",
    "Create a dictionary containing these data about a book:\n",
    "\n",
    "    Title: Text retrieval in Norway\n",
    "    Author: Jon Bing\n",
    "\n",
    "Then, print each value in the dictionary on the screen."
   ]
  },
  {
   "cell_type": "code",
   "execution_count": null,
   "metadata": {},
   "outputs": [],
   "source": [
    "book = {'title': 'Text retrieval in Norway',\n",
    "        'author': 'Jon Bing'}\n",
    "\n",
    "print(book['title'])\n",
    "print(book['author'])"
   ]
  },
  {
   "cell_type": "markdown",
   "metadata": {},
   "source": [
    "### <span style=\"color:green\"> Exercise: A Very Nested Dictionary </span>\n",
    "\n",
    "Index the dictionary `people` in order to print out the phone number of Alice."
   ]
  },
  {
   "cell_type": "code",
   "execution_count": null,
   "metadata": {},
   "outputs": [],
   "source": [
    "phone_directory = {\"Alice\": {\"phone\": 12345679,\n",
    "                             \"mobile\": 45678},\n",
    "                   \"Bob\": {\"phone\": 145679,\n",
    "                           \"mobile\": 4578}}\n",
    "people = {\"Alice\" : {\"Age\" : 37, \"number\" : phone_directory[\"Alice\"]},\n",
    "          \"Bob\" : {\"Age\" : 42, \"number\" : phone_directory[\"Bob\"]}}\n",
    "\n",
    "\n",
    "\n",
    "print(people['Alice']['number']['phone'])"
   ]
  }
 ],
 "metadata": {
  "kernelspec": {
   "display_name": "Python 3",
   "language": "python",
   "name": "python3"
  },
  "language_info": {
   "codemirror_mode": {
    "name": "ipython",
    "version": 3
   },
   "file_extension": ".py",
   "mimetype": "text/x-python",
   "name": "python",
   "nbconvert_exporter": "python",
   "pygments_lexer": "ipython3",
   "version": "3.7.6"
  }
 },
 "nbformat": 4,
 "nbformat_minor": 2
}
