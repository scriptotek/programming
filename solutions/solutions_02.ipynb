{
 "cells": [
  {
   "cell_type": "markdown",
   "metadata": {},
   "source": [
    "### <span style=\"color:green\">Exercise: Indexing Lists</span>  \n",
    "\n",
    "Change the variable `index` in the code below such that the word *something* is printed when the code snippet is run."
   ]
  },
  {
   "cell_type": "code",
   "execution_count": 1,
   "metadata": {},
   "outputs": [
    {
     "name": "stdout",
     "output_type": "stream",
     "text": [
      "something\n"
     ]
    }
   ],
   "source": [
    "Margaret_Lanterman = ['my', 'log', 'has', 'something', 'to', 'tell', 'you.']\n",
    "\n",
    "index = 3\n",
    "print(Margaret_Lanterman[index])"
   ]
  },
  {
   "cell_type": "markdown",
   "metadata": {},
   "source": [
    "### <span style=\"color:green\">Exercise: Dates and Indexing Nested Lists</span> \n",
    "\n",
    "Change the indexes in the code below, so that the printed information is correct."
   ]
  },
  {
   "cell_type": "code",
   "execution_count": 2,
   "metadata": {},
   "outputs": [
    {
     "name": "stdout",
     "output_type": "stream",
     "text": [
      "My birthday is the 10'th of August.\n",
      "Christmas is the 24'th of Desember.\n"
     ]
    }
   ],
   "source": [
    "days = [1, 2, 3, 4, 5, 6, 7, 8, 9, 10]\n",
    "days += [11, 12, 13, 14, 15, 16, 17, 18, 19, 20]\n",
    "days += [21, 22, 23, 24, 25, 26, 27, 28, 29, 30, 31]\n",
    "\n",
    "summer = [\"June\", \"July\", \"August\"]\n",
    "autum = [\"September\", \"October\", \"November\"]\n",
    "winter = [\"December\", \"January\", \"February\"]\n",
    "spring = [\"March\", \"April\", \"May\"]\n",
    "\n",
    "months = [summer, autum, winter, spring]\n",
    "\n",
    "\n",
    "# change the indices below\n",
    "print(\"My birthday is the %d'th of %s.\" %(days[9], months[0][2]))\n",
    "print(\"Christmas is the %d'th of %s.\" %(days[23], months[2][0]))"
   ]
  },
  {
   "cell_type": "markdown",
   "metadata": {},
   "source": [
    "### <span style=\"color:green\"> Exercise: Using `range` </span>\n",
    " \n",
    " Predict what will be printed when running the code snippet below:"
   ]
  },
  {
   "cell_type": "code",
   "execution_count": 3,
   "metadata": {},
   "outputs": [
    {
     "name": "stdout",
     "output_type": "stream",
     "text": [
      "0\n",
      "2\n"
     ]
    }
   ],
   "source": [
    "for i in range(0, 3, 2):\n",
    "    print(i)"
   ]
  },
  {
   "cell_type": "markdown",
   "metadata": {},
   "source": [
    "### <span style=\"color:green\"> Exercise: Using `range` when Indexing </span>\n",
    " \n",
    "Predict what will be printed when running the code snippet below:"
   ]
  },
  {
   "cell_type": "code",
   "execution_count": 4,
   "metadata": {},
   "outputs": [
    {
     "name": "stdout",
     "output_type": "stream",
     "text": [
      "You\n",
      "understand!\n"
     ]
    }
   ],
   "source": [
    "message = [\"You\", \"don't\", \"understand!\"]\n",
    "\n",
    "for i in range(0, 3, 2):\n",
    "    print(message[i])"
   ]
  },
  {
   "cell_type": "markdown",
   "metadata": {},
   "source": [
    "###  <span style=\"color:green\"> Exercise: Nested Loops </span>\n",
    "We can also use nested loops with `range`. Explain the loop below."
   ]
  },
  {
   "cell_type": "code",
   "execution_count": 5,
   "metadata": {},
   "outputs": [
    {
     "name": "stdout",
     "output_type": "stream",
     "text": [
      "Main loop i = 0\n",
      "\tInner loop j = 0\n",
      "Main loop i = 1\n",
      "\tInner loop j = 0\n",
      "\tInner loop j = 1\n",
      "Main loop i = 2\n",
      "\tInner loop j = 0\n",
      "\tInner loop j = 1\n",
      "\tInner loop j = 2\n",
      "Main loop i = 3\n",
      "\tInner loop j = 0\n",
      "\tInner loop j = 1\n",
      "\tInner loop j = 2\n",
      "\tInner loop j = 3\n"
     ]
    }
   ],
   "source": [
    "for i in range(4):\n",
    "    print(\"Main loop i = %d\" %i)\n",
    "    for j in range(i+1):\n",
    "        print(\"\\tInner loop j = %d\" %j)"
   ]
  }
 ],
 "metadata": {
  "kernelspec": {
   "display_name": "Python 3",
   "language": "python",
   "name": "python3"
  },
  "language_info": {
   "codemirror_mode": {
    "name": "ipython",
    "version": 3
   },
   "file_extension": ".py",
   "mimetype": "text/x-python",
   "name": "python",
   "nbconvert_exporter": "python",
   "pygments_lexer": "ipython3",
   "version": "3.7.3"
  }
 },
 "nbformat": 4,
 "nbformat_minor": 2
}
