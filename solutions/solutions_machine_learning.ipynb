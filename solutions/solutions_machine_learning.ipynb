{
 "cells": [
  {
   "cell_type": "markdown",
   "metadata": {},
   "source": [
    "#  Machine Learning Solutions\n",
    "\n",
    "Note that you can't run these solutions from this Notebook,\n",
    "since it lacks the necessary imports and functions.\n",
    "To run the code, you will need to enter it into the main Notebook\n",
    "containing the exercises."
   ]
  },
  {
   "cell_type": "markdown",
   "metadata": {},
   "source": [
    "## Exercise: Decision tree classifier\n",
    "\n",
    "Below, we define a decision tree classifier.\n",
    "Use this classifier to classify both our data sets, data and data2.\n",
    "Discuss and explain the results, especially the decision boundary.\n",
    "\n",
    "### Solution\n",
    "\n",
    "The decision boundary is made up of vertical and horizontal line segments.\n",
    "This is because the classifier uses if tests with the two features.\n",
    "For instance, `if size > 0.5` results in a line segment perpendicular\n",
    "to the `size` axis."
   ]
  },
  {
   "cell_type": "code",
   "execution_count": null,
   "metadata": {},
   "outputs": [],
   "source": [
    "from sklearn.tree import DecisionTreeClassifier\n",
    "\n",
    "decision_tree_classifier = DecisionTreeClassifier(max_depth=5)\n",
    "run_classifier(decision_tree_classifier, data, labels)\n",
    "run_classifier(decision_tree_classifier, data2, labels2)"
   ]
  },
  {
   "cell_type": "markdown",
   "metadata": {},
   "source": [
    "## Exercise: Neural network classifier\n",
    "\n",
    "Below, we define two neural network classifiers.\n",
    "Use these classifiers to classify both our data sets, data and data2.\n",
    "Compare and discuss the results. What does the decision boundary\n",
    "tell us about these classifiers?\n",
    "\n",
    "## Solution\n",
    "\n",
    "The single-layer network yields a linear decision boundary. This means that a single-layer neural network is linear.\n",
    "The multilayer network on the other hand is not linear. This network gives the highest accuracy of the ones we have tried here."
   ]
  },
  {
   "cell_type": "code",
   "execution_count": null,
   "metadata": {},
   "outputs": [],
   "source": [
    "single_layer_network = Perceptron()\n",
    "multi_layer_network = MLPClassifier(max_iter=1000)\n",
    "\n",
    "# single-layer network\n",
    "run_classifier(single_layer_network, data, labels)\n",
    "run_classifier(single_layer_network, data2, labels2)\n",
    "\n",
    "# Multilayer network\n",
    "run_classifier(multi_layer_network, data, labels)\n",
    "run_classifier(multi_layer_network, data2, labels2)"
   ]
  }
 ],
 "metadata": {
  "kernelspec": {
   "display_name": "Python 3",
   "language": "python",
   "name": "python3"
  },
  "language_info": {
   "codemirror_mode": {
    "name": "ipython",
    "version": 3
   },
   "file_extension": ".py",
   "mimetype": "text/x-python",
   "name": "python",
   "nbconvert_exporter": "python",
   "pygments_lexer": "ipython3",
   "version": "3.7.10"
  }
 },
 "nbformat": 4,
 "nbformat_minor": 4
}
