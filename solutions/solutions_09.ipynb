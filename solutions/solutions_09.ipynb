{
 "cells": [
  {
   "cell_type": "markdown",
   "metadata": {},
   "source": [
    "# <span style=\"color:green\"> Exercise: Count Works per Creator </span>\n",
    "\n",
    "In the JSON book data, each item has a `creator` field located in `metadata`.\n",
    "Complete the code below step-by-step to count the number of items per creator.\n",
    "\n",
    "You will need to browse the [data](https://api.nb.no/catalog/v1/items?digitalAccessibleOnly=true&size=1&filter=mediatype:bøker&q=Skatterett).\n",
    "\n",
    "## a)"
   ]
  },
  {
   "cell_type": "code",
   "execution_count": null,
   "metadata": {
    "scrolled": true
   },
   "outputs": [],
   "source": [
    "import requests\n",
    "import json\n",
    "\n",
    "URL = \"https://api.nb.no/catalog/v1/items?digitalAccessibleOnly=true&size=20&filter=mediatype:bøker&q=Skatterett\"\n",
    "data = requests.get(URL).json()\n",
    "\n",
    "creator2count = {}  # example content {'Bing, Jon': 1}\n",
    "\n",
    "embedded = data['_embedded']\n",
    "items = embedded['items']\n",
    "\n",
    "for item in items:\n",
    "    print(item)"
   ]
  },
  {
   "cell_type": "markdown",
   "metadata": {},
   "source": [
    "## b)"
   ]
  },
  {
   "cell_type": "code",
   "execution_count": null,
   "metadata": {},
   "outputs": [],
   "source": [
    "import requests\n",
    "import json\n",
    "\n",
    "URL = \"https://api.nb.no/catalog/v1/items?digitalAccessibleOnly=true&size=20&filter=mediatype:bøker&q=Skatterett\"\n",
    "data = requests.get(URL).json()\n",
    "\n",
    "creator2count = {}  # example content {'Bing, Jon': 1}\n",
    "\n",
    "embedded = data['_embedded']\n",
    "items = embedded['items']\n",
    "\n",
    "for item in items:\n",
    "    metadata = item['metadata']\n",
    "    creators = metadata['creators']\n",
    "    print(creators)"
   ]
  },
  {
   "cell_type": "markdown",
   "metadata": {},
   "source": [
    "## c)"
   ]
  },
  {
   "cell_type": "code",
   "execution_count": null,
   "metadata": {},
   "outputs": [],
   "source": [
    "import requests\n",
    "import json\n",
    "\n",
    "URL = \"https://api.nb.no/catalog/v1/items?digitalAccessibleOnly=true&size=20&filter=mediatype:bøker&q=Skatterett\"\n",
    "data = requests.get(URL).json()\n",
    "\n",
    "creator2count = {}  # example content {'Bing, Jon': 1}\n",
    "\n",
    "embedded = data['_embedded']\n",
    "items = embedded['items']\n",
    "\n",
    "for item in items:\n",
    "    metadata = item['metadata']\n",
    "    creators = metadata['creators']\n",
    "\n",
    "    for creator in creators:\n",
    "        print(creator)"
   ]
  },
  {
   "cell_type": "markdown",
   "metadata": {},
   "source": [
    "## d)"
   ]
  },
  {
   "cell_type": "code",
   "execution_count": null,
   "metadata": {},
   "outputs": [],
   "source": [
    "import requests\n",
    "import json\n",
    "\n",
    "URL = \"https://api.nb.no/catalog/v1/items?digitalAccessibleOnly=true&size=20&filter=mediatype:bøker&q=Skatterett\"\n",
    "data = requests.get(URL).json()\n",
    "\n",
    "creator2count = {}  # example content {'Bing, Jon': 1}\n",
    "\n",
    "embedded = data['_embedded']\n",
    "items = embedded['items']\n",
    "\n",
    "for item in items:\n",
    "    metadata = item['metadata']\n",
    "    creators = metadata['creators']\n",
    "\n",
    "    for creator in creators:\n",
    "        if creator not in creator2count:\n",
    "            creator2count[creator] = 1"
   ]
  },
  {
   "cell_type": "markdown",
   "metadata": {},
   "source": [
    "## e)"
   ]
  },
  {
   "cell_type": "code",
   "execution_count": null,
   "metadata": {},
   "outputs": [],
   "source": [
    "import requests\n",
    "import json\n",
    "\n",
    "URL = \"https://api.nb.no/catalog/v1/items?digitalAccessibleOnly=true&size=20&filter=mediatype:bøker&q=Skatterett\"\n",
    "data = requests.get(URL).json()\n",
    "\n",
    "creator2count = {}  # example content {'Bing, Jon': 1}\n",
    "\n",
    "embedded = data['_embedded']\n",
    "items = embedded['items']\n",
    "\n",
    "for item in items:\n",
    "    metadata = item['metadata']\n",
    "    creators = metadata['creators']\n",
    "\n",
    "    for creator in creators:\n",
    "        if creator not in creator2count:\n",
    "            creator2count[creator] = 1\n",
    "        else:\n",
    "            creator2count[creator] += 1"
   ]
  },
  {
   "cell_type": "markdown",
   "metadata": {},
   "source": [
    "## f)"
   ]
  },
  {
   "cell_type": "code",
   "execution_count": null,
   "metadata": {},
   "outputs": [],
   "source": [
    "import requests\n",
    "import json\n",
    "\n",
    "URL = \"https://api.nb.no/catalog/v1/items?digitalAccessibleOnly=true&size=20&filter=mediatype:bøker&q=Skatterett\"\n",
    "data = requests.get(URL).json()\n",
    "\n",
    "creator2count = {}  # example content {'Bing, Jon': 1}\n",
    "\n",
    "embedded = data['_embedded']\n",
    "items = embedded['items']\n",
    "\n",
    "for item in items:\n",
    "    metadata = item['metadata']\n",
    "    creators = metadata['creators']\n",
    "\n",
    "    for creator in creators:\n",
    "        if creator not in creator2count:\n",
    "            creator2count[creator] = 1\n",
    "        else:\n",
    "            creator2count[creator] += 1\n",
    "\n",
    "# Show results\n",
    "print(\"\\nNumber of items/works per creator:\")\n",
    "for creator in creator2count:\n",
    "    count = creator2count[creator]\n",
    "    print(creator, \"created\", count, \"works\")"
   ]
  }
 ],
 "metadata": {
  "kernelspec": {
   "display_name": "Python 3",
   "language": "python",
   "name": "python3"
  },
  "language_info": {
   "codemirror_mode": {
    "name": "ipython",
    "version": 3
   },
   "file_extension": ".py",
   "mimetype": "text/x-python",
   "name": "python",
   "nbconvert_exporter": "python",
   "pygments_lexer": "ipython3",
   "version": "3.7.7"
  }
 },
 "nbformat": 4,
 "nbformat_minor": 2
}
