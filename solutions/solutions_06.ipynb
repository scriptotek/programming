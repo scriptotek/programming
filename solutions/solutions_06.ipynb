{
 "cells": [
  {
   "cell_type": "markdown",
   "metadata": {},
   "source": [
    "## Exercise: make a function"
   ]
  },
  {
   "cell_type": "code",
   "execution_count": null,
   "metadata": {},
   "outputs": [],
   "source": [
    "def greet(name):\n",
    "    print(\"Hello\", name)\n",
    "    \n",
    "greet('Alice')\n",
    "greet('Bob')"
   ]
  },
  {
   "cell_type": "markdown",
   "metadata": {},
   "source": [
    "## <span style=\"color:green\"> Exercise: Returning Values </span>\n",
    "\n",
    "Define a function that returns the last element of a list.\n",
    "Then use the function on the list below:"
   ]
  },
  {
   "cell_type": "code",
   "execution_count": null,
   "metadata": {
    "collapsed": true
   },
   "outputs": [],
   "source": [
    "items = [\"first\", \"second\", \"third\"]\n",
    "#Your solution\n",
    "\n",
    "def get_last(sequence):\n",
    "    last = sequence[-1]\n",
    "    return last\n",
    "\n",
    "print(get_last(items))"
   ]
  },
  {
   "cell_type": "markdown",
   "metadata": {},
   "source": [
    "## Exercise: functions to get information"
   ]
  },
  {
   "cell_type": "code",
   "execution_count": null,
   "metadata": {},
   "outputs": [],
   "source": [
    "import requests\n",
    "import json\n",
    "\n",
    "def get_court_name(case):\n",
    "    \"Returns the name of the court for this case\"\n",
    "    court = case[\"court\"]\n",
    "    court_name = court[\"name\"]\n",
    "    return court_name\n",
    "\n",
    "URL = \"https://api.case.law/v1/cases/?jurisdiction=ill&full_case=true&decision_date_min=2011-01-01&page_size=3\"\n",
    "data = requests.get(URL).json()\n",
    "\n",
    "cases = data[\"results\"]\n",
    "for case in cases:\n",
    "    print(get_court_name(case))"
   ]
  }
 ],
 "metadata": {
  "kernelspec": {
   "display_name": "Python 3",
   "language": "python",
   "name": "python3"
  },
  "language_info": {
   "codemirror_mode": {
    "name": "ipython",
    "version": 3
   },
   "file_extension": ".py",
   "mimetype": "text/x-python",
   "name": "python",
   "nbconvert_exporter": "python",
   "pygments_lexer": "ipython3",
   "version": "3.7.6"
  }
 },
 "nbformat": 4,
 "nbformat_minor": 2
}
