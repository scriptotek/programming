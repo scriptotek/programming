{
 "cells": [
  {
   "cell_type": "markdown",
   "metadata": {},
   "source": [
    "## <span style=\"color:green\"> Exercise: String Search </span>\n",
    "\n",
    "Run the code below. What results do you get?\n",
    "Why do we find \"men\" in the quote?"
   ]
  },
  {
   "cell_type": "code",
   "execution_count": null,
   "metadata": {},
   "outputs": [],
   "source": [
    "quote = \"Strange women lying in ponds, distributing swords, is no basis for a system of government!\"\n",
    "sub_strings = [\"women\", \"men\", \"Camelot\"]\n",
    "\n",
    "for sub_string in sub_strings:\n",
    "    if sub_string in quote:\n",
    "        print(sub_string, \"was found in quote\")\n",
    "    else:\n",
    "        print(sub_string, \"was not found in quote\")"
   ]
  },
  {
   "cell_type": "markdown",
   "metadata": {},
   "source": [
    "`quote` contains \"women\" and \"men\", but not \"Camelot\".\n",
    "\"women\" contains \"men\" as a substring."
   ]
  },
  {
   "cell_type": "markdown",
   "metadata": {},
   "source": [
    "## Exercise: reversing names"
   ]
  },
  {
   "cell_type": "code",
   "execution_count": null,
   "metadata": {},
   "outputs": [],
   "source": [
    "def reverse_name(name):\n",
    "    \"\"\"\n",
    "    Convert a name from inverted form to regular\n",
    "    >>> reverse_name(\"Doe, John\")\n",
    "    'John Doe'\n",
    "    \"\"\"\n",
    "    name_parts = name.split(\", \")\n",
    "    name_parts.reverse()\n",
    "    reversed = \" \".join(name_parts)\n",
    "    return reversed\n",
    "\n",
    "\n",
    "print(reverse_name(\"Doe, John\"))"
   ]
  }
 ],
 "metadata": {
  "kernelspec": {
   "display_name": "Python 3",
   "language": "python",
   "name": "python3"
  },
  "language_info": {
   "codemirror_mode": {
    "name": "ipython",
    "version": 3
   },
   "file_extension": ".py",
   "mimetype": "text/x-python",
   "name": "python",
   "nbconvert_exporter": "python",
   "pygments_lexer": "ipython3",
   "version": "3.6.3"
  }
 },
 "nbformat": 4,
 "nbformat_minor": 2
}
