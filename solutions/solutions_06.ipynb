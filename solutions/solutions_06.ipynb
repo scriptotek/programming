{
 "cells": [
  {
   "cell_type": "markdown",
   "metadata": {},
   "source": [
    "## <span style=\"color:green\"> Exercise: String Search </span>\n",
    "\n",
    "Run the code below. What results do you get?\n",
    "Why do we find \"men\" in the quote?"
   ]
  },
  {
   "cell_type": "code",
   "execution_count": null,
   "metadata": {},
   "outputs": [],
   "source": [
    "quote = \"Strange women lying in ponds, distributing swords, is no basis for a system of government!\"\n",
    "sub_strings = [\"women\", \"men\", \"Camelot\"]\n",
    "\n",
    "for sub_string in sub_strings:\n",
    "    if sub_string in quote:\n",
    "        print(sub_string, \"was found in quote\")\n",
    "    else:\n",
    "        print(sub_string, \"was not found in quote\")"
   ]
  },
  {
   "cell_type": "markdown",
   "metadata": {},
   "source": [
    "`quote` contains \"women\" and \"men\", but not \"Camelot\".\n",
    "\"women\" contains \"men\" as a substring."
   ]
  },
  {
   "cell_type": "markdown",
   "metadata": {},
   "source": [
    "## Exercise: reversing names"
   ]
  },
  {
   "cell_type": "code",
   "execution_count": null,
   "metadata": {},
   "outputs": [],
   "source": [
    "def invert_name(name):\n",
    "    \"\"\"\n",
    "    Convert a name from regular to inverted form\n",
    "    >>> invert_name('John Doe')\n",
    "    'Doe, John'\n",
    "    \"\"\"\n",
    "    name_parts = name.split(\" \")\n",
    "    name_parts.reverse()\n",
    "    reversed = \", \".join(name_parts)\n",
    "    return reversed\n",
    "\n",
    "print(invert_name(\"John Doe\"))"
   ]
  },
  {
   "cell_type": "markdown",
   "metadata": {},
   "source": [
    "## <span style=\"color:green\"> Exercise: Sorting Numbers </span>\n",
    "\n",
    "We can also sort lists of numbers. Sort the list below, and print the result."
   ]
  },
  {
   "cell_type": "code",
   "execution_count": null,
   "metadata": {},
   "outputs": [],
   "source": [
    "numbers =[2,5,3,15,1,35,0]\n",
    "\n",
    "numbers.sort()\n",
    "print(numbers)"
   ]
  },
  {
   "cell_type": "markdown",
   "metadata": {},
   "source": [
    "##  <span style=\"color:green\"> Exercise: Attorneys Sorted </span>\n",
    "\n",
    "Here, we expand on the exercise \"Attorneys and Head Matter\" from part three, so you might want to have a look at your solution to that.\n",
    "Complete the code below to print the attorneys for each case in alphabetical order.\n",
    "\n"
   ]
  },
  {
   "cell_type": "code",
   "execution_count": 1,
   "metadata": {},
   "outputs": [
    {
     "name": "stdout",
     "output_type": "stream",
     "text": [
      "Case name: Federal Insurance v. Lexington Insurance\n",
      "  Attorney: Donohue Brown Mathewson & Smyth LLC, of Chicago (Norman J. Barry, Jr., Karen Kies DeGrand, and Christopher J. Rados, of counsel), for appellee.\n",
      "  Attorney: Tressler, LLP, of Chicago (Todd S. Schenk and Amber C. Coisman, of counsel), for appellant.\n",
      "\n",
      "Case name: People v. Connolly\n",
      "  Attorney: Dan W Evers, of State Appellate Defender’s Office, of Mount Vernon, for appellant.\n",
      "  Attorney: James Glasgow, State’s Attorney, of Joliet (Terry A. Mertel, of State’s Attorneys Appellate Prosecutor’s Office, of counsel), for the People.\n",
      "\n",
      "Case name: Eck v. Greer\n",
      "  Attorney: Ann P. Coward and Sandi Gordon, both of Land of Lincoln Legal Assistance Foundation, Inc., of Carbondale, for appellee.\n",
      "  Attorney: Eugenia C. Hunter, of Carbondale, guardian ad litem.\n",
      "  Attorney: Susan Burger, of Jonesboro, for appellant.\n",
      "\n"
     ]
    }
   ],
   "source": [
    "import requests\n",
    "import json\n",
    "\n",
    "URL = \"https://api.case.law/v1/cases/?jurisdiction=ill&full_case=true&decision_date_min=2011-01-01&page_size=3\"\n",
    "data = requests.get(URL).json()\n",
    "\n",
    "#Your solution\n",
    "cases = data[\"results\"]\n",
    "for case in cases:\n",
    "    print(\"Case name:\", case[\"name_abbreviation\"])\n",
    "    \n",
    "    attorneys = sorted(case[\"casebody\"][\"data\"][\"attorneys\"])\n",
    "    for attorney in attorneys:\n",
    "        print(\"  Attorney:\", attorney)\n",
    "    print()"
   ]
  }
 ],
 "metadata": {
  "kernelspec": {
   "display_name": "Python 3",
   "language": "python",
   "name": "python3"
  },
  "language_info": {
   "codemirror_mode": {
    "name": "ipython",
    "version": 3
   },
   "file_extension": ".py",
   "mimetype": "text/x-python",
   "name": "python",
   "nbconvert_exporter": "python",
   "pygments_lexer": "ipython3",
   "version": "3.6.3"
  }
 },
 "nbformat": 4,
 "nbformat_minor": 2
}
