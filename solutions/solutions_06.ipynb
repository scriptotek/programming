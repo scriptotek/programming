{
 "cells": [
  {
   "cell_type": "markdown",
   "metadata": {},
   "source": [
    "## Exercise: reversing names"
   ]
  },
  {
   "cell_type": "code",
   "execution_count": 1,
   "metadata": {},
   "outputs": [
    {
     "name": "stdout",
     "output_type": "stream",
     "text": [
      "John Doe\n"
     ]
    }
   ],
   "source": [
    "def reverse_name(name):\n",
    "    \"\"\"\n",
    "    Convert a name from inverted form to regular\n",
    "    >>> reverse_name(\"Doe, John\")\n",
    "    'John Doe'\n",
    "    \"\"\"\n",
    "    name_parts = name.split(\", \")\n",
    "    name_parts.reverse()\n",
    "    reversed = \" \".join(name_parts)\n",
    "    return reversed\n",
    "\n",
    "\n",
    "print(reverse_name(\"Doe, John\"))"
   ]
  }
 ],
 "metadata": {
  "kernelspec": {
   "display_name": "Python 3",
   "language": "python",
   "name": "python3"
  },
  "language_info": {
   "codemirror_mode": {
    "name": "ipython",
    "version": 3
   },
   "file_extension": ".py",
   "mimetype": "text/x-python",
   "name": "python",
   "nbconvert_exporter": "python",
   "pygments_lexer": "ipython3",
   "version": "3.7.3"
  }
 },
 "nbformat": 4,
 "nbformat_minor": 2
}
