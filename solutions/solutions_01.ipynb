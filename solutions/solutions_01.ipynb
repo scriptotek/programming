{
 "cells": [
  {
   "cell_type": "markdown",
   "metadata": {},
   "source": [
    "# Solutions to the Exercises on Python Basics"
   ]
  },
  {
   "cell_type": "markdown",
   "metadata": {},
   "source": [
    "###  <span style=\"color:green\"> Exercise: Your First Program </span>\n",
    "Print out the message \"Hello, World!\"\n",
    "####  <span style=\"color:blue\"> Solution: Your First Program </span> \n",
    "Printing out is pretty straight forward, but remember to use quotation marks when printing out text."
   ]
  },
  {
   "cell_type": "code",
   "execution_count": null,
   "metadata": {},
   "outputs": [],
   "source": [
    "print(\"Hello, World!\")"
   ]
  },
  {
   "cell_type": "markdown",
   "metadata": {},
   "source": [
    "###  <span style=\"color:green\"> Exercise: Variable Names </span>\n",
    "\n",
    "Why does the code below yield an error? Fix the code such that the name is printed."
   ]
  },
  {
   "cell_type": "code",
   "execution_count": null,
   "metadata": {},
   "outputs": [],
   "source": [
    "name = \"Arthur\"\n",
    "print(Name)"
   ]
  },
  {
   "cell_type": "markdown",
   "metadata": {},
   "source": [
    "####  <span style=\"color:blue\"> Solution: Variable Names </span>\n",
    "\n",
    "Python is case-sensitive, and will unsuccessfully try to find a variable named `Name` with capital N in the print statement. Simply fix the typo in the print statement, and the code will work, like shown below:"
   ]
  },
  {
   "cell_type": "code",
   "execution_count": null,
   "metadata": {},
   "outputs": [],
   "source": [
    "name = \"Arthur\"\n",
    "print(name)"
   ]
  },
  {
   "cell_type": "markdown",
   "metadata": {},
   "source": [
    "###  <span style=\"color:green\"> Exercise: Understanding Variables </span>\n",
    "\n",
    "Go through the following lines of code step-by-step.\n",
    "What are the values of the different variables after each step?\n",
    "You can check your answers by executing each line in Python."
   ]
  },
  {
   "cell_type": "code",
   "execution_count": null,
   "metadata": {},
   "outputs": [],
   "source": [
    "length = 5\n",
    "width = 3.5\n",
    "length = length * 2\n",
    "width = width - 1.5\n",
    "print(length, width)"
   ]
  },
  {
   "cell_type": "markdown",
   "metadata": {},
   "source": [
    "####  <span style=\"color:blue\"> Solution: Understanding Variables </span> \n",
    "A good way of checking if the code runs as you expect it to, is to print out a lot of information!"
   ]
  },
  {
   "cell_type": "code",
   "execution_count": null,
   "metadata": {},
   "outputs": [],
   "source": [
    "length = 5\n",
    "width = 3.5\n",
    "print(\"initial length:\", length, \". Initial widgth:\", width)\n",
    "length = length * 2\n",
    "print(\"length after multiplied with two: \", length)\n",
    "width = width - 1.5\n",
    "print(\"width after subtracted 1.5: \", width)\n",
    "print(\"Final result below:\")\n",
    "print(length, width)"
   ]
  },
  {
   "cell_type": "markdown",
   "metadata": {},
   "source": [
    "###  <span style=\"color:green\"> Exercise: Using Variables to Perform Simple Calculations </span>\n",
    "\n",
    "Alice weighs 65 kg, and Bob weighs 70 kg.\n",
    "1. Create variables containing these data. Try to think of descriptive variable names.\n",
    "2. Create a new variable containing their total weight, calculated from the two variables from 1.\n",
    "3. Charlie weighs 85 kg. Calculate Alice, Bob and Charlie's average weight.\n",
    "\n",
    "####  <span style=\"color:blue\"> Solution: Using Variables to Perform Simple Calculations </span>\n",
    "\n",
    "The important details of the solution is that the total and average weight were calculated using the variables."
   ]
  },
  {
   "cell_type": "code",
   "execution_count": null,
   "metadata": {},
   "outputs": [],
   "source": [
    "alice_weight = 65 \n",
    "bob_weight = 70    \n",
    "\n",
    "\n",
    "total_weight = alice_weight + bob_weight\n",
    "print(\"Total weight:\", total_weight, \"kg.\")\n",
    "\n",
    "\n",
    "charlie_weight = 85\n",
    "average_weight = (alice_weight + bob_weight + charlie_weight) / 3\n",
    "print(\"Average weight:\", average_weight, \"kg.\")"
   ]
  },
  {
   "cell_type": "markdown",
   "metadata": {},
   "source": [
    "###  <span style=\"color:green\">Exercise: Datatypes</span>\n",
    "\n",
    "Can you change the variables below, so that all three contains the value two, but with different datatypes? The output should be the title of each exercise.\n",
    "\n",
    "####  <span style=\"color:green\">a) <class 'int'> </span>\n",
    "Let the variable `int_2` be an integer with the value two.\n",
    "    \n",
    "####  <span style=\"color:blue\">a) Solution : <class 'int'> </span>  \n",
    "  This is probably the most intuitive, simply write the number 2."
   ]
  },
  {
   "cell_type": "code",
   "execution_count": null,
   "metadata": {},
   "outputs": [],
   "source": [
    "int_2 = 2\n",
    "print(type(int_2))"
   ]
  },
  {
   "cell_type": "markdown",
   "metadata": {},
   "source": [
    "####  <span style=\"color:green\">b) <class 'float'> </span>\n",
    "Let the variable `float_2` be a decimal number with the value two.  \n",
    "\n",
    "####  <span style=\"color:blue\">b) Solution :<class 'float'> </span> \n",
    "To make the number two into a decimal number, WITHOUT changing the value, all you need to do is to write any number of zeros behind the decimal point. This means that `float_2 = 2.00` and `float_2 = 2.000000` are valid answers, but also simply `float_2 = 2.` will do the trick."
   ]
  },
  {
   "cell_type": "code",
   "execution_count": null,
   "metadata": {},
   "outputs": [],
   "source": [
    "float_2 = 2.0\n",
    "print(type(float_2))"
   ]
  },
  {
   "cell_type": "markdown",
   "metadata": {},
   "source": [
    "####  <span style=\"color:green\">c) <class 'str'> </span>\n",
    "Let the variable `str_2` be the text containing the number two. (Not \"two\"). \n",
    "    \n",
    "####  <span style=\"color:blue\">c) Solution : <class 'str'> </span>\n",
    "Quotation marks makes the String in Python!"
   ]
  },
  {
   "cell_type": "code",
   "execution_count": null,
   "metadata": {},
   "outputs": [],
   "source": [
    "str_2 = \"2\"\n",
    "print(type(str_2))"
   ]
  },
  {
   "cell_type": "markdown",
   "metadata": {},
   "source": [
    "###  <span style=\"color:green\">Exercise: Importing a Module </span> \n",
    "\n",
    "We will use the library `datetime` to print out which date it is today. The library contains an object, called `date`, which  contains a function `today`. The code for *calling* the function `today` to extract and print out todays date is already given. This code will not work, as `date` is not imported. \n",
    "\n",
    "Import `date` from the module `datetime`. \n",
    "\n",
    "####  <span style=\"color:blue\">Solution: Importing a Module </span> \n",
    "To make the code work, you must import in the manner shown below. Simply using `import datetime` will not work, as the print statement then would have to use `date time.date.today()`."
   ]
  },
  {
   "cell_type": "code",
   "execution_count": null,
   "metadata": {},
   "outputs": [],
   "source": [
    "from datetime import date\n",
    "\n",
    "print(\"date today: \", date.today())"
   ]
  },
  {
   "cell_type": "markdown",
   "metadata": {},
   "source": [
    "All done!"
   ]
  }
 ],
 "metadata": {
  "kernelspec": {
   "display_name": "Python 3",
   "language": "python",
   "name": "python3"
  },
  "language_info": {
   "codemirror_mode": {
    "name": "ipython",
    "version": 3
   },
   "file_extension": ".py",
   "mimetype": "text/x-python",
   "name": "python",
   "nbconvert_exporter": "python",
   "pygments_lexer": "ipython3",
   "version": "3.7.7"
  }
 },
 "nbformat": 4,
 "nbformat_minor": 2
}
