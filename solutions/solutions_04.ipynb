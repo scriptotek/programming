{
 "cells": [
  {
   "cell_type": "markdown",
   "metadata": {},
   "source": [
    "## <span style=\"color:green\"> Exercise: multiple hits </span>\n",
    "\n",
    "The code below is supposed to show a warning for temperatures above 70, but there is a bug.\n",
    "Find two different ways to fix the code, so that the warning is displayed.\n",
    "\n",
    "### Solution 1:\n",
    "Change the order of the tests"
   ]
  },
  {
   "cell_type": "code",
   "execution_count": null,
   "metadata": {
    "collapsed": true
   },
   "outputs": [],
   "source": [
    "temperature = 120\n",
    "\n",
    "if temperature > 0:\n",
    "    print(\"it's warm\")\n",
    "elif temperature == 0:\n",
    "    print(\"it's cold\")\n",
    "elif temperature < 0:\n",
    "    print(\"it's freezing\")\n",
    "if temperature > 70:\n",
    "    print(\"WARNING: dangerously hot\")"
   ]
  },
  {
   "cell_type": "markdown",
   "metadata": {},
   "source": [
    "### Solution 2:\n",
    "Limit the interval of the first test"
   ]
  },
  {
   "cell_type": "code",
   "execution_count": null,
   "metadata": {
    "collapsed": true
   },
   "outputs": [],
   "source": [
    "temperature = 120\n",
    "\n",
    "if temperature > 0 and temperature <= 70:\n",
    "    print(\"it's warm\")\n",
    "elif temperature == 0:\n",
    "    print(\"it's cold\")\n",
    "elif temperature < 0:\n",
    "    print(\"it's freezing\")\n",
    "elif temperature > 70:\n",
    "    print(\"WARNING: dangerously hot\")"
   ]
  },
  {
   "cell_type": "markdown",
   "metadata": {
    "collapsed": true
   },
   "source": [
    "## Exercise: Count dissenting opinions"
   ]
  },
  {
   "cell_type": "code",
   "execution_count": 3,
   "metadata": {},
   "outputs": [
    {
     "name": "stdout",
     "output_type": "stream",
     "text": [
      "Number of dissents: 2\n"
     ]
    }
   ],
   "source": [
    "import requests\n",
    "import json\n",
    "\n",
    "URL = \"https://api.case.law/v1/cases/?jurisdiction=ill&full_case=true&decision_date_min=2011-01-01&page_size=20\"\n",
    "data = requests.get(URL).json()\n",
    "\n",
    "dissent_count = 0\n",
    "\n",
    "cases = data[\"results\"]\n",
    "for case in cases:\n",
    "    opinions = case[\"casebody\"][\"data\"][\"opinions\"]\n",
    "    for opinion in opinions:\n",
    "        # Your code here:\n",
    "        if opinion[\"type\"] == \"dissent\":\n",
    "            dissent_count = dissent_count + 1\n",
    "\n",
    "print(\"Number of dissents:\", dissent_count)"
   ]
  }
 ],
 "metadata": {
  "kernelspec": {
   "display_name": "Python 3",
   "language": "python",
   "name": "python3"
  },
  "language_info": {
   "codemirror_mode": {
    "name": "ipython",
    "version": 3
   },
   "file_extension": ".py",
   "mimetype": "text/x-python",
   "name": "python",
   "nbconvert_exporter": "python",
   "pygments_lexer": "ipython3",
   "version": "3.6.3"
  }
 },
 "nbformat": 4,
 "nbformat_minor": 2
}
