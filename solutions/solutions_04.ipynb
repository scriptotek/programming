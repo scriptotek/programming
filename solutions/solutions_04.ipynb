{
 "cells": [
  {
   "cell_type": "markdown",
   "metadata": {},
   "source": [
    "# Fetching JSON data solutions"
   ]
  },
  {
   "cell_type": "markdown",
   "metadata": {},
   "source": [
    "## Exercise: docket number"
   ]
  },
  {
   "cell_type": "code",
   "execution_count": 1,
   "metadata": {},
   "outputs": [
    {
     "name": "stdout",
     "output_type": "stream",
     "text": [
      "Case name: Federal Insurance v. Lexington Insurance\n",
      "Docket number: No. 1—09—3296\n",
      "Decision date: 2011-01-03\n",
      "\n",
      "Case name: People v. Connolly\n",
      "Docket number: No. 3—08—1027\n",
      "Decision date: 2011-01-04\n",
      "\n",
      "Case name: Eck v. Greer\n",
      "Docket number: No. 5—10—0353\n",
      "Decision date: 2011-01-06\n",
      "\n"
     ]
    }
   ],
   "source": [
    "import requests\n",
    "import json\n",
    "\n",
    "URL = \"https://api.case.law/v1/cases/?jurisdiction=ill&full_case=true&decision_date_min=2011-01-01&page_size=3\"\n",
    "data = requests.get(URL).json()\n",
    "\n",
    "cases = data[\"results\"]\n",
    "for case in cases:\n",
    "    print(\"Case name:\", case[\"name_abbreviation\"])\n",
    "    #your code here\n",
    "    print(\"Docket number:\", case[\"docket_number\"])\n",
    "    print(\"Decision date:\", case[\"decision_date\"])\n",
    "    print()"
   ]
  },
  {
   "cell_type": "markdown",
   "metadata": {},
   "source": [
    "## Exercise: Attorneys and head matter"
   ]
  },
  {
   "cell_type": "code",
   "execution_count": 2,
   "metadata": {
    "scrolled": true
   },
   "outputs": [
    {
     "name": "stdout",
     "output_type": "stream",
     "text": [
      "Case name: Federal Insurance v. Lexington Insurance\n",
      "Head matter: FEDERAL INSURANCE COMPANY, Plaintiff-Appellant, v. LEXINGTON INSURANCE COMPANY, Defendant-Appellee.\n",
      "First District (4th Division)\n",
      "No. 1—09—3296\n",
      "Opinion filed January 3, 2011.\n",
      "Tressler, LLP, of Chicago (Todd S. Schenk and Amber C. Coisman, of counsel), for appellant.\n",
      "Donohue Brown Mathewson & Smyth LLC, of Chicago (Norman J. Barry, Jr., Karen Kies DeGrand, and Christopher J. Rados, of counsel), for appellee.\n",
      "Attorney: Tressler, LLP, of Chicago (Todd S. Schenk and Amber C. Coisman, of counsel), for appellant.\n",
      "Attorney: Donohue Brown Mathewson & Smyth LLC, of Chicago (Norman J. Barry, Jr., Karen Kies DeGrand, and Christopher J. Rados, of counsel), for appellee.\n",
      "\n",
      "Case name: People v. Connolly\n",
      "Head matter: THE PEOPLE OF THE STATE OF ILLINOIS, Plaintiff-Appellee, v. PHILLIP CONNOLLY, Defendant-Appellant.\n",
      "Third District\n",
      "No. 3—08—1027\n",
      "Opinion filed January 4, 2011.\n",
      "Dan W Evers, of State Appellate Defender’s Office, of Mount Vernon, for appellant.\n",
      "James Glasgow, State’s Attorney, of Joliet (Terry A. Mertel, of State’s Attorneys Appellate Prosecutor’s Office, of counsel), for the People.\n",
      "Attorney: Dan W Evers, of State Appellate Defender’s Office, of Mount Vernon, for appellant.\n",
      "Attorney: James Glasgow, State’s Attorney, of Joliet (Terry A. Mertel, of State’s Attorneys Appellate Prosecutor’s Office, of counsel), for the People.\n",
      "\n",
      "Case name: Eck v. Greer\n",
      "Head matter: In re GUARDIANSHIP OF A.G.G., a Minor (Victor Eck, Petitioner-Appellant, v. Jennifer Greer, Respondent-Appellee).\n",
      "Fifth District\n",
      "No. 5—10—0353\n",
      "Opinion filed January 6, 2011.\n",
      "Susan Burger, of Jonesboro, for appellant.\n",
      "Ann P. Coward and Sandi Gordon, both of Land of Lincoln Legal Assistance Foundation, Inc., of Carbondale, for appellee.\n",
      "Eugenia C. Hunter, of Carbondale, guardian ad litem.\n",
      "Attorney: Susan Burger, of Jonesboro, for appellant.\n",
      "Attorney: Ann P. Coward and Sandi Gordon, both of Land of Lincoln Legal Assistance Foundation, Inc., of Carbondale, for appellee.\n",
      "Attorney: Eugenia C. Hunter, of Carbondale, guardian ad litem.\n",
      "\n"
     ]
    }
   ],
   "source": [
    "URL = \"https://api.case.law/v1/cases/?jurisdiction=ill&full_case=true&decision_date_min=2011-01-01&page_size=3\"\n",
    "data = requests.get(URL).json()\n",
    "\n",
    "cases = data[\"results\"]\n",
    "for case in cases:\n",
    "    print(\"Case name:\", case[\"name_abbreviation\"])\n",
    "    # Your solution\n",
    "    casebody = case[\"casebody\"]\n",
    "    case_data = casebody[\"data\"]\n",
    "    print(\"Head matter:\", case_data[\"head_matter\"])\n",
    "    attorneys = case_data[\"attorneys\"]  # we can reuse parts of the path\n",
    "\n",
    "    for attorney in attorneys:\n",
    "        print(\"Attorney:\", attorney)\n",
    "    print()"
   ]
  }
 ],
 "metadata": {
  "kernelspec": {
   "display_name": "Python 3",
   "language": "python",
   "name": "python3"
  },
  "language_info": {
   "codemirror_mode": {
    "name": "ipython",
    "version": 3
   },
   "file_extension": ".py",
   "mimetype": "text/x-python",
   "name": "python",
   "nbconvert_exporter": "python",
   "pygments_lexer": "ipython3",
   "version": "3.7.6"
  }
 },
 "nbformat": 4,
 "nbformat_minor": 2
}
