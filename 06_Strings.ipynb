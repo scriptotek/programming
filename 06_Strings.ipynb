{
 "cells": [
  {
   "cell_type": "markdown",
   "metadata": {},
   "source": [
    "# Strings\n",
    "\n",
    "Python has many functions for working with strings. We will look at a few of them.\n",
    "\n",
    "We can search for a substring within the string.\n",
    "Why do we find `men` in the string below?"
   ]
  },
  {
   "cell_type": "code",
   "execution_count": 1,
   "metadata": {},
   "outputs": [
    {
     "name": "stdout",
     "output_type": "stream",
     "text": [
      "'women' was found in quote\n",
      "'men' was found in quote\n",
      "'Camelot' was not found in quote\n"
     ]
    }
   ],
   "source": [
    "quote = \"Strange women lying in ponds, distributing swords, is no basis for a system of government!\"\n",
    "\n",
    "sub_strings = [\"women\", \"men\", \"Camelot\"]\n",
    "\n",
    "for sub_string in sub_strings:\n",
    "    if sub_string in quote:\n",
    "        print(\"'%s' was found in quote\" % sub_string)\n",
    "    else:\n",
    "        print(\"'%s' was not found in quote\" % sub_string)\n"
   ]
  },
  {
   "cell_type": "markdown",
   "metadata": {},
   "source": [
    "###  `string.split()`\n",
    "\n",
    "`split()` divides/splits a string into a list of parts. If we don't specify an argument, it splits on *whitespace*, which includes spaces and 'tab'-characters."
   ]
  },
  {
   "cell_type": "code",
   "execution_count": 2,
   "metadata": {},
   "outputs": [
    {
     "name": "stdout",
     "output_type": "stream",
     "text": [
      "['Strange', 'women', 'lying', 'in', 'ponds,', 'distributing', 'swords,', 'is', 'no', 'basis', 'for', 'a', 'system', 'of', 'government!']\n"
     ]
    }
   ],
   "source": [
    "quote_list = quote.split()\n",
    "print(quote_list)"
   ]
  },
  {
   "cell_type": "markdown",
   "metadata": {},
   "source": [
    "You can also specify one or more characters to use as the separator:"
   ]
  },
  {
   "cell_type": "code",
   "execution_count": 3,
   "metadata": {},
   "outputs": [
    {
     "name": "stdout",
     "output_type": "stream",
     "text": [
      "['Strange women lying in ponds', ' distributing swords', ' is no basis for a system of government!']\n"
     ]
    }
   ],
   "source": [
    "quote_list = quote.split(\",\")\n",
    "print(quote_list)"
   ]
  },
  {
   "cell_type": "markdown",
   "metadata": {},
   "source": [
    "### Joining strings\n",
    "\n",
    "We can also go the other way, joining a list of strings to a single string.\n",
    "The syntax is different, we must first specify the string that is used to \"glue\" the parts together.\n",
    "This is the opposite of the separator above."
   ]
  },
  {
   "cell_type": "code",
   "execution_count": 4,
   "metadata": {},
   "outputs": [
    {
     "name": "stdout",
     "output_type": "stream",
     "text": [
      "Strange women lying in ponds, distributing swords, is no basis for a system of government!\n"
     ]
    }
   ],
   "source": [
    "joined_list = \",\".join(quote_list)\n",
    "print(joined_list)"
   ]
  },
  {
   "cell_type": "markdown",
   "metadata": {},
   "source": [
    "### Exercise: reversing names\n",
    "\n",
    "Complete the function below which reverses names.\n",
    "\"Doe, John\" should become \"John Doe\".\n",
    "\n",
    "To reverse a list, you can use the method `reverse()`."
   ]
  },
  {
   "cell_type": "code",
   "execution_count": 5,
   "metadata": {},
   "outputs": [
    {
     "name": "stdout",
     "output_type": "stream",
     "text": [
      "None\n"
     ]
    }
   ],
   "source": [
    "def reverse_name(name):\n",
    "    \"\"\"\n",
    "    Convert a name from inverted form to regular\n",
    "    >>> reverse_name(\"Doe, John\")\n",
    "    'John Doe'\n",
    "    \"\"\"\n",
    "    pass #your code here\n",
    "\n",
    "print(reverse_name(\"Doe, John\"))"
   ]
  },
  {
   "cell_type": "markdown",
   "metadata": {},
   "source": [
    "### Indexing Strings\n",
    "\n",
    "You can use indexes with Strings, just like with lists. This yields *chars*, not words:"
   ]
  },
  {
   "cell_type": "code",
   "execution_count": 6,
   "metadata": {},
   "outputs": [
    {
     "name": "stdout",
     "output_type": "stream",
     "text": [
      "First char in quote is 'S'\n",
      "Last char in quote is '!'\n"
     ]
    }
   ],
   "source": [
    "print(\"First char in quote is '%s'\" % quote[0])\n",
    "print(\"Last char in quote is '%s'\" % quote[-1])"
   ]
  },
  {
   "cell_type": "code",
   "execution_count": 7,
   "metadata": {},
   "outputs": [
    {
     "name": "stdout",
     "output_type": "stream",
     "text": [
      "basis \n"
     ]
    }
   ],
   "source": [
    "sub_string = quote[57:63]\n",
    "print(sub_string)"
   ]
  },
  {
   "cell_type": "markdown",
   "metadata": {},
   "source": [
    "### `string.replace()` \n",
    "\n",
    "`string.replace(old, new)` takes two arguments. The first argument, `old`,  is the string to be replaced, and `new` is the replacement."
   ]
  },
  {
   "cell_type": "code",
   "execution_count": 8,
   "metadata": {},
   "outputs": [
    {
     "name": "stdout",
     "output_type": "stream",
     "text": [
      "3.14\n"
     ]
    }
   ],
   "source": [
    "number = \"1,57\"\n",
    "number = number.replace(',', '.')   # number is now string object \"1.57\"\n",
    "number = float(number)              # number is now float 1.57\n",
    "print(number*2)"
   ]
  }
 ],
 "metadata": {
  "kernelspec": {
   "display_name": "Python 3",
   "language": "python",
   "name": "python3"
  },
  "language_info": {
   "codemirror_mode": {
    "name": "ipython",
    "version": 3
   },
   "file_extension": ".py",
   "mimetype": "text/x-python",
   "name": "python",
   "nbconvert_exporter": "python",
   "pygments_lexer": "ipython3",
   "version": "3.6.3"
  }
 },
 "nbformat": 4,
 "nbformat_minor": 2
}
