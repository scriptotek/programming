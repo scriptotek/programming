{
 "cells": [
  {
   "cell_type": "markdown",
   "metadata": {},
   "source": [
    "# Strings\n",
    "\n",
    "Objekter av typen String har mange funksjoner. Det vil kun bli gjennomgått noen få av disse.\n",
    "\n",
    "Mye på samme måte som i dictionaries, kan du teste om en sub-string finnes i en String. Dette er vist under.\n",
    "\n",
    "<span style=\"color:green\">Kan du se hvorfor den finner `men` som en sub-String?</span>"
   ]
  },
  {
   "cell_type": "code",
   "execution_count": 6,
   "metadata": {},
   "outputs": [
    {
     "name": "stdout",
     "output_type": "stream",
     "text": [
      "'women' was found in my_string\n",
      "'men' was found in my_string\n",
      "'Camelot' was not found in my_string\n"
     ]
    }
   ],
   "source": [
    "my_string = \"Strange women lying in ponds, distributing swords, is no basis for a system of government!\"\n",
    "\n",
    "sub_strings = [\"women\", \"men\", \"Camelot\"]\n",
    "\n",
    "for sub_string in sub_strings:\n",
    "    if sub_string in my_string:\n",
    "        print(\"'%s' was found in my_string\" %sub_string)\n",
    "    else:\n",
    "        print(\"'%s' was not found in my_string\" %sub_string)\n"
   ]
  },
  {
   "cell_type": "markdown",
   "metadata": {},
   "source": [
    "###  `string.split()`\n",
    "\n",
    "`split()` deler en String inn i en liste. Hvis intet annet blir spesifisert, deler den på mellomrom."
   ]
  },
  {
   "cell_type": "code",
   "execution_count": 7,
   "metadata": {},
   "outputs": [
    {
     "name": "stdout",
     "output_type": "stream",
     "text": [
      "['Strange', 'women', 'lying', 'in', 'ponds,', 'distributing', 'swords,', 'is', 'no', 'basis', 'for', 'a', 'system', 'of', 'government!']\n"
     ]
    }
   ],
   "source": [
    "string_list = my_string.split()\n",
    "print(string_list)"
   ]
  },
  {
   "cell_type": "markdown",
   "metadata": {},
   "source": [
    "Du kan også spesifisere hva den skal dele på ved å sende inn argument, som vist under"
   ]
  },
  {
   "cell_type": "code",
   "execution_count": 8,
   "metadata": {},
   "outputs": [
    {
     "name": "stdout",
     "output_type": "stream",
     "text": [
      "['Strange women lying in ponds', ' distributing swords', ' is no basis for a system of government!']\n"
     ]
    }
   ],
   "source": [
    "string_list = my_string.split(\",\")\n",
    "print(string_list)"
   ]
  },
  {
   "cell_type": "markdown",
   "metadata": {},
   "source": [
    "### Indeksere Strings\n",
    "\n",
    "Du kan indeksere objekt av typen String. Indeksene tilhører \"characters\", ikke ord!"
   ]
  },
  {
   "cell_type": "code",
   "execution_count": 9,
   "metadata": {},
   "outputs": [
    {
     "name": "stdout",
     "output_type": "stream",
     "text": [
      "First char in my_string is 'S'\n",
      "Last char in my_string is '!'\n"
     ]
    }
   ],
   "source": [
    "print(\"First char in my_string is '%s'\" %my_string[0])\n",
    "print(\"Last char in my_string is '%s'\" %my_string[-1])"
   ]
  },
  {
   "cell_type": "code",
   "execution_count": 10,
   "metadata": {},
   "outputs": [
    {
     "name": "stdout",
     "output_type": "stream",
     "text": [
      "basis \n"
     ]
    }
   ],
   "source": [
    "sub_string = my_string[57:63]\n",
    "print(sub_string)"
   ]
  },
  {
   "cell_type": "markdown",
   "metadata": {},
   "source": [
    "### `string.replace()` \n",
    "\n",
    "`string.replace()`  tar to argument. Første er hva som skal byttes ut, andre argument er hva den skal byttes med.\n",
    "\n",
    "Et nyttig eksempel på bruk av replace er når man leser filer. Noen filer vil bruke komma istendenfor punktum for å skille desimaler på tall. Dette må fikses FØR den tallet konverteres til float. "
   ]
  },
  {
   "cell_type": "code",
   "execution_count": 11,
   "metadata": {},
   "outputs": [
    {
     "name": "stdout",
     "output_type": "stream",
     "text": [
      "3.14\n"
     ]
    }
   ],
   "source": [
    "number = \"1,57\"\n",
    "number = number.replace(',', '.')   # number is now string object \"1.57\"\n",
    "number = float(number)              # number is now float 1.57\n",
    "print(number*2)"
   ]
  }
 ],
 "metadata": {
  "kernelspec": {
   "display_name": "Python 3",
   "language": "python",
   "name": "python3"
  },
  "language_info": {
   "codemirror_mode": {
    "name": "ipython",
    "version": 3
   },
   "file_extension": ".py",
   "mimetype": "text/x-python",
   "name": "python",
   "nbconvert_exporter": "python",
   "pygments_lexer": "ipython3",
   "version": "3.6.3"
  }
 },
 "nbformat": 4,
 "nbformat_minor": 2
}
