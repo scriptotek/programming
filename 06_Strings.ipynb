{
 "cells": [
  {
   "cell_type": "markdown",
   "metadata": {},
   "source": [
    "# Strings\n",
    "\n",
    "Python has many functions for working with strings. We will look at a few of them.\n",
    "\n",
    "We can search for a substring within the string.\n",
    "Why do we find `men` in the string below?"
   ]
  },
  {
   "cell_type": "code",
   "execution_count": null,
   "metadata": {
    "collapsed": true
   },
   "outputs": [],
   "source": [
    "quote = \"Strange women lying in ponds, distributing swords, is no basis for a system of government!\"\n",
    "sub_strings = [\"women\", \"men\", \"Camelot\"]\n",
    "\n",
    "for sub_string in sub_strings:\n",
    "    if sub_string in quote:\n",
    "        print(\"'%s' was found in quote\" % sub_string)\n",
    "    else:\n",
    "        print(\"'%s' was not found in quote\" % sub_string)"
   ]
  },
  {
   "cell_type": "markdown",
   "metadata": {},
   "source": [
    "###  `string.split()`\n",
    "\n",
    "`split()` divides/splits a string into a list of parts. If we don't specify an argument, it splits on *whitespace*, which includes spaces and 'tab'-characters."
   ]
  },
  {
   "cell_type": "code",
   "execution_count": null,
   "metadata": {
    "collapsed": true
   },
   "outputs": [],
   "source": [
    "quote_list = quote.split()\n",
    "print(quote_list)"
   ]
  },
  {
   "cell_type": "markdown",
   "metadata": {},
   "source": [
    "You can also specify one or more characters to use as the separator:"
   ]
  },
  {
   "cell_type": "code",
   "execution_count": null,
   "metadata": {
    "collapsed": true
   },
   "outputs": [],
   "source": [
    "quote_list = quote.split(\",\")\n",
    "print(quote_list)"
   ]
  },
  {
   "cell_type": "markdown",
   "metadata": {},
   "source": [
    "### Joining Strings\n",
    "\n",
    "We can also go the other way, joining a list of strings to a single string.\n",
    "The syntax is different, we must first specify the string that is used to \"glue\" the parts together.\n",
    "This is the opposite of the separator above."
   ]
  },
  {
   "cell_type": "code",
   "execution_count": null,
   "metadata": {
    "collapsed": true
   },
   "outputs": [],
   "source": [
    "joined_list = \",\".join(quote_list)\n",
    "print(joined_list)"
   ]
  },
  {
   "cell_type": "markdown",
   "metadata": {},
   "source": [
    "### <span style=\"color:green\"> Exercise: reversing names </span>\n",
    "\n",
    "Complete the function below which reverses names.\n",
    "\"Doe, John\" should become \"John Doe\".\n",
    "\n",
    "To reverse a list, you can use the method `reverse()`."
   ]
  },
  {
   "cell_type": "code",
   "execution_count": null,
   "metadata": {
    "collapsed": true
   },
   "outputs": [],
   "source": [
    "def reverse_name(name):\n",
    "    \"\"\"\n",
    "    Convert a name from inverted form to regular\n",
    "    >>> reverse_name(\"Doe, John\")\n",
    "    'John Doe'\n",
    "    \"\"\"\n",
    "    pass #your code here\n",
    "\n",
    "print(reverse_name(\"Doe, John\"))"
   ]
  },
  {
   "cell_type": "markdown",
   "metadata": {},
   "source": [
    "### Indexing Strings\n",
    "\n",
    "You can use indexes with Strings, just like with lists. This yields *characters*, not words:"
   ]
  },
  {
   "cell_type": "code",
   "execution_count": null,
   "metadata": {
    "collapsed": true
   },
   "outputs": [],
   "source": [
    "print(\"First character in quote is '%s'\" % quote[0])\n",
    "print(\"Last character in quote is '%s'\" % quote[-1])"
   ]
  },
  {
   "cell_type": "markdown",
   "metadata": {},
   "source": [
    "Remeber that `quote = \"Strange women lying in ponds, distributing swords, is no basis for a system of government!\"`."
   ]
  },
  {
   "cell_type": "code",
   "execution_count": null,
   "metadata": {
    "collapsed": true
   },
   "outputs": [],
   "source": [
    "sub_string = quote[57:63]\n",
    "print(sub_string)"
   ]
  },
  {
   "cell_type": "markdown",
   "metadata": {},
   "source": [
    "### `string.replace()` \n",
    "\n",
    "`string.replace(old, new)` takes two arguments. The first argument, `old`,  is the string to be replaced, and `new` is the replacement. \n",
    "\n",
    "This is often useful when changing from norwegian notation for decimal numbers to english notation for decimal numbers, as shown below:"
   ]
  },
  {
   "cell_type": "code",
   "execution_count": null,
   "metadata": {
    "collapsed": true
   },
   "outputs": [],
   "source": [
    "number = \"1,57\"\n",
    "number = number.replace(',', '.')   # number is now string object \"1.57\"\n",
    "number = float(number)              # number is now float 1.57\n",
    "print(number*2)"
   ]
  },
  {
   "cell_type": "markdown",
   "metadata": {},
   "source": [
    "But can also be used to replace larger pieces of text:"
   ]
  },
  {
   "cell_type": "code",
   "execution_count": null,
   "metadata": {
    "collapsed": true
   },
   "outputs": [],
   "source": [
    "quote = \"All work and no play makes Jack a dull boy\".replace(\"play\", \"python-programming\")\n",
    "print(quote)"
   ]
  },
  {
   "cell_type": "markdown",
   "metadata": {},
   "source": [
    "## Key points\n",
    "\n",
    "- Strings can be split into lists of words\n",
    "- We can use indexes to access individual characters in a String\n",
    "- Use `string.replace()` to replace parts of a string"
   ]
  }
 ],
 "metadata": {
  "kernelspec": {
   "display_name": "Python 3",
   "language": "python",
   "name": "python3"
  },
  "language_info": {
   "codemirror_mode": {
    "name": "ipython",
    "version": 3
   },
   "file_extension": ".py",
   "mimetype": "text/x-python",
   "name": "python",
   "nbconvert_exporter": "python",
   "pygments_lexer": "ipython3",
   "version": "3.6.3"
  }
 },
 "nbformat": 4,
 "nbformat_minor": 2
}
