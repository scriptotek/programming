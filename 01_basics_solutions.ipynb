{
 "cells": [
  {
   "cell_type": "markdown",
   "metadata": {},
   "source": [
    "## Exercise: using variables"
   ]
  },
  {
   "cell_type": "code",
   "execution_count": 1,
   "metadata": {},
   "outputs": [
    {
     "name": "stdout",
     "output_type": "stream",
     "text": [
      "135\n",
      "73.33333333333333\n"
     ]
    }
   ],
   "source": [
    "alice_weight = 65\n",
    "bob_weight = 70\n",
    "\n",
    "total_weight = alice_weight + bob_weight\n",
    "print(total_weight)\n",
    "\n",
    "charlie_weight = 85\n",
    "average_weight = (alice_weight + bob_weight + charlie_weight) / 3\n",
    "print(average_weight)"
   ]
  }
 ],
 "metadata": {
  "kernelspec": {
   "display_name": "Python 3",
   "language": "python",
   "name": "python3"
  },
  "language_info": {
   "codemirror_mode": {
    "name": "ipython",
    "version": 3
   },
   "file_extension": ".py",
   "mimetype": "text/x-python",
   "name": "python",
   "nbconvert_exporter": "python",
   "pygments_lexer": "ipython3",
   "version": "3.6.3"
  }
 },
 "nbformat": 4,
 "nbformat_minor": 2
}
